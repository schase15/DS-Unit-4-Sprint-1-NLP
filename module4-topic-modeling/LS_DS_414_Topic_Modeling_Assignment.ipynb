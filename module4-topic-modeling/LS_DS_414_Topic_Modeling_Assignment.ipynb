{
 "cells": [
  {
   "cell_type": "markdown",
   "metadata": {},
   "source": [
    "<img align=\"left\" src=\"https://lever-client-logos.s3.amazonaws.com/864372b1-534c-480e-acd5-9711f850815c-1524247202159.png\" width=200>\n",
    "<br></br>\n",
    "<br></br>\n",
    "\n",
    "# Topic Modeling\n",
    "## *Data Science Unit 4 Sprint 1 Assignment 4*\n",
    "\n",
    "Analyze a corpus of Amazon reviews from Unit 4 Sprint 1 Module 1's lecture using topic modeling: \n",
    "\n",
    "- Fit a Gensim LDA topic model on Amazon Reviews\n",
    "- Select appropriate number of topics\n",
    "- Create some dope visualization of the topics\n",
    "- Write a few bullets on your findings in markdown at the end\n",
    "- **Note**: You don't *have* to use generators for this assignment"
   ]
  },
  {
   "cell_type": "markdown",
   "metadata": {},
   "source": [
    "### Import  data"
   ]
  },
  {
   "cell_type": "code",
   "execution_count": 2,
   "metadata": {},
   "outputs": [
    {
     "name": "stdout",
     "output_type": "stream",
     "text": [
      "/Users/stevenchase/Desktop/Steven/Computer_Science/Lambda/DS_Unit_4_Sprint_1_NLP/module1-text-data\n"
     ]
    }
   ],
   "source": [
    "# Change directories into the folder that contains the data I want to use\n",
    "%cd /Users/stevenchase/Desktop/Steven/Computer_Science/Lambda/DS_Unit_4_Sprint_1_NLP/module1-text-data"
   ]
  },
  {
   "cell_type": "code",
   "execution_count": 3,
   "metadata": {},
   "outputs": [
    {
     "data": {
      "text/plain": [
       "'/Users/stevenchase/Desktop/Steven/Computer_Science/Lambda/DS_Unit_4_Sprint_1_NLP/module1-text-data'"
      ]
     },
     "execution_count": 3,
     "metadata": {},
     "output_type": "execute_result"
    }
   ],
   "source": [
    "# Check that I am in the correct folder\n",
    "%pwd"
   ]
  },
  {
   "cell_type": "code",
   "execution_count": 4,
   "metadata": {},
   "outputs": [],
   "source": [
    "# Import data\n",
    "\n",
    "import pandas as pd\n",
    "\n",
    "df = pd.read_csv('./data/Datafiniti_Amazon_Consumer_Reviews_of_Amazon_Products_May19.csv')"
   ]
  },
  {
   "cell_type": "code",
   "execution_count": 6,
   "metadata": {},
   "outputs": [
    {
     "data": {
      "text/plain": [
       "(28332, 24)"
      ]
     },
     "execution_count": 6,
     "metadata": {},
     "output_type": "execute_result"
    }
   ],
   "source": [
    "# Look at the shape\n",
    "df.shape"
   ]
  },
  {
   "cell_type": "code",
   "execution_count": 5,
   "metadata": {},
   "outputs": [
    {
     "data": {
      "text/html": [
       "<div>\n",
       "<style scoped>\n",
       "    .dataframe tbody tr th:only-of-type {\n",
       "        vertical-align: middle;\n",
       "    }\n",
       "\n",
       "    .dataframe tbody tr th {\n",
       "        vertical-align: top;\n",
       "    }\n",
       "\n",
       "    .dataframe thead th {\n",
       "        text-align: right;\n",
       "    }\n",
       "</style>\n",
       "<table border=\"1\" class=\"dataframe\">\n",
       "  <thead>\n",
       "    <tr style=\"text-align: right;\">\n",
       "      <th></th>\n",
       "      <th>id</th>\n",
       "      <th>dateAdded</th>\n",
       "      <th>dateUpdated</th>\n",
       "      <th>name</th>\n",
       "      <th>asins</th>\n",
       "      <th>brand</th>\n",
       "      <th>categories</th>\n",
       "      <th>primaryCategories</th>\n",
       "      <th>imageURLs</th>\n",
       "      <th>keys</th>\n",
       "      <th>...</th>\n",
       "      <th>reviews.didPurchase</th>\n",
       "      <th>reviews.doRecommend</th>\n",
       "      <th>reviews.id</th>\n",
       "      <th>reviews.numHelpful</th>\n",
       "      <th>reviews.rating</th>\n",
       "      <th>reviews.sourceURLs</th>\n",
       "      <th>reviews.text</th>\n",
       "      <th>reviews.title</th>\n",
       "      <th>reviews.username</th>\n",
       "      <th>sourceURLs</th>\n",
       "    </tr>\n",
       "  </thead>\n",
       "  <tbody>\n",
       "    <tr>\n",
       "      <th>0</th>\n",
       "      <td>AVpgNzjwLJeJML43Kpxn</td>\n",
       "      <td>2015-10-30T08:59:32Z</td>\n",
       "      <td>2019-04-25T09:08:16Z</td>\n",
       "      <td>AmazonBasics AAA Performance Alkaline Batterie...</td>\n",
       "      <td>B00QWO9P0O,B00LH3DMUO</td>\n",
       "      <td>Amazonbasics</td>\n",
       "      <td>AA,AAA,Health,Electronics,Health &amp; Household,C...</td>\n",
       "      <td>Health &amp; Beauty</td>\n",
       "      <td>https://images-na.ssl-images-amazon.com/images...</td>\n",
       "      <td>amazonbasics/hl002619,amazonbasicsaaaperforman...</td>\n",
       "      <td>...</td>\n",
       "      <td>NaN</td>\n",
       "      <td>NaN</td>\n",
       "      <td>NaN</td>\n",
       "      <td>NaN</td>\n",
       "      <td>3</td>\n",
       "      <td>https://www.amazon.com/product-reviews/B00QWO9...</td>\n",
       "      <td>I order 3 of them and one of the item is bad q...</td>\n",
       "      <td>... 3 of them and one of the item is bad quali...</td>\n",
       "      <td>Byger yang</td>\n",
       "      <td>https://www.barcodable.com/upc/841710106442,ht...</td>\n",
       "    </tr>\n",
       "    <tr>\n",
       "      <th>1</th>\n",
       "      <td>AVpgNzjwLJeJML43Kpxn</td>\n",
       "      <td>2015-10-30T08:59:32Z</td>\n",
       "      <td>2019-04-25T09:08:16Z</td>\n",
       "      <td>AmazonBasics AAA Performance Alkaline Batterie...</td>\n",
       "      <td>B00QWO9P0O,B00LH3DMUO</td>\n",
       "      <td>Amazonbasics</td>\n",
       "      <td>AA,AAA,Health,Electronics,Health &amp; Household,C...</td>\n",
       "      <td>Health &amp; Beauty</td>\n",
       "      <td>https://images-na.ssl-images-amazon.com/images...</td>\n",
       "      <td>amazonbasics/hl002619,amazonbasicsaaaperforman...</td>\n",
       "      <td>...</td>\n",
       "      <td>NaN</td>\n",
       "      <td>NaN</td>\n",
       "      <td>NaN</td>\n",
       "      <td>NaN</td>\n",
       "      <td>4</td>\n",
       "      <td>https://www.amazon.com/product-reviews/B00QWO9...</td>\n",
       "      <td>Bulk is always the less expensive way to go fo...</td>\n",
       "      <td>... always the less expensive way to go for pr...</td>\n",
       "      <td>ByMG</td>\n",
       "      <td>https://www.barcodable.com/upc/841710106442,ht...</td>\n",
       "    </tr>\n",
       "    <tr>\n",
       "      <th>2</th>\n",
       "      <td>AVpgNzjwLJeJML43Kpxn</td>\n",
       "      <td>2015-10-30T08:59:32Z</td>\n",
       "      <td>2019-04-25T09:08:16Z</td>\n",
       "      <td>AmazonBasics AAA Performance Alkaline Batterie...</td>\n",
       "      <td>B00QWO9P0O,B00LH3DMUO</td>\n",
       "      <td>Amazonbasics</td>\n",
       "      <td>AA,AAA,Health,Electronics,Health &amp; Household,C...</td>\n",
       "      <td>Health &amp; Beauty</td>\n",
       "      <td>https://images-na.ssl-images-amazon.com/images...</td>\n",
       "      <td>amazonbasics/hl002619,amazonbasicsaaaperforman...</td>\n",
       "      <td>...</td>\n",
       "      <td>NaN</td>\n",
       "      <td>NaN</td>\n",
       "      <td>NaN</td>\n",
       "      <td>NaN</td>\n",
       "      <td>5</td>\n",
       "      <td>https://www.amazon.com/product-reviews/B00QWO9...</td>\n",
       "      <td>Well they are not Duracell but for the price i...</td>\n",
       "      <td>... are not Duracell but for the price i am ha...</td>\n",
       "      <td>BySharon Lambert</td>\n",
       "      <td>https://www.barcodable.com/upc/841710106442,ht...</td>\n",
       "    </tr>\n",
       "    <tr>\n",
       "      <th>3</th>\n",
       "      <td>AVpgNzjwLJeJML43Kpxn</td>\n",
       "      <td>2015-10-30T08:59:32Z</td>\n",
       "      <td>2019-04-25T09:08:16Z</td>\n",
       "      <td>AmazonBasics AAA Performance Alkaline Batterie...</td>\n",
       "      <td>B00QWO9P0O,B00LH3DMUO</td>\n",
       "      <td>Amazonbasics</td>\n",
       "      <td>AA,AAA,Health,Electronics,Health &amp; Household,C...</td>\n",
       "      <td>Health &amp; Beauty</td>\n",
       "      <td>https://images-na.ssl-images-amazon.com/images...</td>\n",
       "      <td>amazonbasics/hl002619,amazonbasicsaaaperforman...</td>\n",
       "      <td>...</td>\n",
       "      <td>NaN</td>\n",
       "      <td>NaN</td>\n",
       "      <td>NaN</td>\n",
       "      <td>NaN</td>\n",
       "      <td>5</td>\n",
       "      <td>https://www.amazon.com/product-reviews/B00QWO9...</td>\n",
       "      <td>Seem to work as well as name brand batteries a...</td>\n",
       "      <td>... as well as name brand batteries at a much ...</td>\n",
       "      <td>Bymark sexson</td>\n",
       "      <td>https://www.barcodable.com/upc/841710106442,ht...</td>\n",
       "    </tr>\n",
       "    <tr>\n",
       "      <th>4</th>\n",
       "      <td>AVpgNzjwLJeJML43Kpxn</td>\n",
       "      <td>2015-10-30T08:59:32Z</td>\n",
       "      <td>2019-04-25T09:08:16Z</td>\n",
       "      <td>AmazonBasics AAA Performance Alkaline Batterie...</td>\n",
       "      <td>B00QWO9P0O,B00LH3DMUO</td>\n",
       "      <td>Amazonbasics</td>\n",
       "      <td>AA,AAA,Health,Electronics,Health &amp; Household,C...</td>\n",
       "      <td>Health &amp; Beauty</td>\n",
       "      <td>https://images-na.ssl-images-amazon.com/images...</td>\n",
       "      <td>amazonbasics/hl002619,amazonbasicsaaaperforman...</td>\n",
       "      <td>...</td>\n",
       "      <td>NaN</td>\n",
       "      <td>NaN</td>\n",
       "      <td>NaN</td>\n",
       "      <td>NaN</td>\n",
       "      <td>5</td>\n",
       "      <td>https://www.amazon.com/product-reviews/B00QWO9...</td>\n",
       "      <td>These batteries are very long lasting the pric...</td>\n",
       "      <td>... batteries are very long lasting the price ...</td>\n",
       "      <td>Bylinda</td>\n",
       "      <td>https://www.barcodable.com/upc/841710106442,ht...</td>\n",
       "    </tr>\n",
       "  </tbody>\n",
       "</table>\n",
       "<p>5 rows × 24 columns</p>\n",
       "</div>"
      ],
      "text/plain": [
       "                     id             dateAdded           dateUpdated  \\\n",
       "0  AVpgNzjwLJeJML43Kpxn  2015-10-30T08:59:32Z  2019-04-25T09:08:16Z   \n",
       "1  AVpgNzjwLJeJML43Kpxn  2015-10-30T08:59:32Z  2019-04-25T09:08:16Z   \n",
       "2  AVpgNzjwLJeJML43Kpxn  2015-10-30T08:59:32Z  2019-04-25T09:08:16Z   \n",
       "3  AVpgNzjwLJeJML43Kpxn  2015-10-30T08:59:32Z  2019-04-25T09:08:16Z   \n",
       "4  AVpgNzjwLJeJML43Kpxn  2015-10-30T08:59:32Z  2019-04-25T09:08:16Z   \n",
       "\n",
       "                                                name                  asins  \\\n",
       "0  AmazonBasics AAA Performance Alkaline Batterie...  B00QWO9P0O,B00LH3DMUO   \n",
       "1  AmazonBasics AAA Performance Alkaline Batterie...  B00QWO9P0O,B00LH3DMUO   \n",
       "2  AmazonBasics AAA Performance Alkaline Batterie...  B00QWO9P0O,B00LH3DMUO   \n",
       "3  AmazonBasics AAA Performance Alkaline Batterie...  B00QWO9P0O,B00LH3DMUO   \n",
       "4  AmazonBasics AAA Performance Alkaline Batterie...  B00QWO9P0O,B00LH3DMUO   \n",
       "\n",
       "          brand                                         categories  \\\n",
       "0  Amazonbasics  AA,AAA,Health,Electronics,Health & Household,C...   \n",
       "1  Amazonbasics  AA,AAA,Health,Electronics,Health & Household,C...   \n",
       "2  Amazonbasics  AA,AAA,Health,Electronics,Health & Household,C...   \n",
       "3  Amazonbasics  AA,AAA,Health,Electronics,Health & Household,C...   \n",
       "4  Amazonbasics  AA,AAA,Health,Electronics,Health & Household,C...   \n",
       "\n",
       "  primaryCategories                                          imageURLs  \\\n",
       "0   Health & Beauty  https://images-na.ssl-images-amazon.com/images...   \n",
       "1   Health & Beauty  https://images-na.ssl-images-amazon.com/images...   \n",
       "2   Health & Beauty  https://images-na.ssl-images-amazon.com/images...   \n",
       "3   Health & Beauty  https://images-na.ssl-images-amazon.com/images...   \n",
       "4   Health & Beauty  https://images-na.ssl-images-amazon.com/images...   \n",
       "\n",
       "                                                keys  ... reviews.didPurchase  \\\n",
       "0  amazonbasics/hl002619,amazonbasicsaaaperforman...  ...                 NaN   \n",
       "1  amazonbasics/hl002619,amazonbasicsaaaperforman...  ...                 NaN   \n",
       "2  amazonbasics/hl002619,amazonbasicsaaaperforman...  ...                 NaN   \n",
       "3  amazonbasics/hl002619,amazonbasicsaaaperforman...  ...                 NaN   \n",
       "4  amazonbasics/hl002619,amazonbasicsaaaperforman...  ...                 NaN   \n",
       "\n",
       "  reviews.doRecommend reviews.id reviews.numHelpful reviews.rating  \\\n",
       "0                 NaN        NaN                NaN              3   \n",
       "1                 NaN        NaN                NaN              4   \n",
       "2                 NaN        NaN                NaN              5   \n",
       "3                 NaN        NaN                NaN              5   \n",
       "4                 NaN        NaN                NaN              5   \n",
       "\n",
       "                                  reviews.sourceURLs  \\\n",
       "0  https://www.amazon.com/product-reviews/B00QWO9...   \n",
       "1  https://www.amazon.com/product-reviews/B00QWO9...   \n",
       "2  https://www.amazon.com/product-reviews/B00QWO9...   \n",
       "3  https://www.amazon.com/product-reviews/B00QWO9...   \n",
       "4  https://www.amazon.com/product-reviews/B00QWO9...   \n",
       "\n",
       "                                        reviews.text  \\\n",
       "0  I order 3 of them and one of the item is bad q...   \n",
       "1  Bulk is always the less expensive way to go fo...   \n",
       "2  Well they are not Duracell but for the price i...   \n",
       "3  Seem to work as well as name brand batteries a...   \n",
       "4  These batteries are very long lasting the pric...   \n",
       "\n",
       "                                       reviews.title  reviews.username  \\\n",
       "0  ... 3 of them and one of the item is bad quali...        Byger yang   \n",
       "1  ... always the less expensive way to go for pr...              ByMG   \n",
       "2  ... are not Duracell but for the price i am ha...  BySharon Lambert   \n",
       "3  ... as well as name brand batteries at a much ...     Bymark sexson   \n",
       "4  ... batteries are very long lasting the price ...           Bylinda   \n",
       "\n",
       "                                          sourceURLs  \n",
       "0  https://www.barcodable.com/upc/841710106442,ht...  \n",
       "1  https://www.barcodable.com/upc/841710106442,ht...  \n",
       "2  https://www.barcodable.com/upc/841710106442,ht...  \n",
       "3  https://www.barcodable.com/upc/841710106442,ht...  \n",
       "4  https://www.barcodable.com/upc/841710106442,ht...  \n",
       "\n",
       "[5 rows x 24 columns]"
      ]
     },
     "execution_count": 5,
     "metadata": {},
     "output_type": "execute_result"
    }
   ],
   "source": [
    "# Examine the head of the data\n",
    "df.head()"
   ]
  },
  {
   "cell_type": "code",
   "execution_count": 7,
   "metadata": {},
   "outputs": [
    {
     "data": {
      "text/plain": [
       "0    I order 3 of them and one of the item is bad q...\n",
       "1    Bulk is always the less expensive way to go fo...\n",
       "2    Well they are not Duracell but for the price i...\n",
       "3    Seem to work as well as name brand batteries a...\n",
       "4    These batteries are very long lasting the pric...\n",
       "Name: reviews.text, dtype: object"
      ]
     },
     "execution_count": 7,
     "metadata": {},
     "output_type": "execute_result"
    }
   ],
   "source": [
    "# Pull out the only column we need, the text reviews\n",
    "df_review = df['reviews.text']\n",
    "df_review.head()"
   ]
  },
  {
   "cell_type": "code",
   "execution_count": 9,
   "metadata": {},
   "outputs": [
    {
     "name": "stderr",
     "output_type": "stream",
     "text": [
      "/Users/stevenchase/opt/anaconda3/envs/U4-S1-NLP/lib/python3.7/site-packages/ipykernel_launcher.py:1: FutureWarning: Passing a negative integer is deprecated in version 1.0 and will not be supported in future version. Instead, use None to not limit the column width.\n",
      "  \"\"\"Entry point for launching an IPython kernel.\n"
     ]
    },
    {
     "data": {
      "text/plain": [
       "0     I order 3 of them and one of the item is bad quality. Is missing backup spring so I have to put a pcs of aluminum to make the battery work.                                                                                                                                                                                                                                                                            \n",
       "1     Bulk is always the less expensive way to go for products like these                                                                                                                                                                                                                                                                                                                                                    \n",
       "2     Well they are not Duracell but for the price i am happy.                                                                                                                                                                                                                                                                                                                                                               \n",
       "3     Seem to work as well as name brand batteries at a much better price                                                                                                                                                                                                                                                                                                                                                    \n",
       "4     These batteries are very long lasting the price is great.                                                                                                                                                                                                                                                                                                                                                              \n",
       "5     Bought a lot of batteries for Christmas and the AmazonBasics Cell have been good. I haven't noticed a difference between the brand name batteries and the Amazon Basic brand. Just a lot easier to purchase and have arrive at the house and have on hand. Will buy again.                                                                                                                                             \n",
       "6     ive not had any problame with these batteries have ordered them in the past been very pleased.                                                                                                                                                                                                                                                                                                                         \n",
       "7     Well if you are looking for cheap non-rechargeable batteries that last quite a while then these are perfect. Nothing more to say.                                                                                                                                                                                                                                                                                      \n",
       "8     These do not hold the amount of high power juice like energizer or duracell, but they are half the price.                                                                                                                                                                                                                                                                                                              \n",
       "9     AmazonBasics AA AAA batteries have done well by me appear to have a good shelf life. I'll buy them again.                                                                                                                                                                                                                                                                                                              \n",
       "10    I find amazon basics batteries to be equal if not superior to name brand ones. Can't believe I didn't start buying them sooner! The packages are large and the price is great too.                                                                                                                                                                                                                                     \n",
       "11    When I first started getting the Amazon basic batteries I really liked them. With recent purchases, they do not seem to last like they had, or maybe a mixed-bag (inconsistent with some lasting better than others). I have not done any tests, but feel some other brands may last longer. However, the price is hard to beat.                                                                                       \n",
       "12    Use it for my fish tank's light at night and works great, I love how you can easily switch it off and on if you want it on while guests are there.                                                                                                                                                                                                                                                                     \n",
       "13    just got em so I can't really comment on how good the do the job, good price, quick delivery but have only put two into one of my keyboards but they can go up to a year so who can say after three days                                                                                                                                                                                                               \n",
       "14    we have many things that need aa battery they are great                                                                                                                                                                                                                                                                                                                                                                \n",
       "15    Thankful that I was able to find on Amazon for a great price and even better shipping. Arrived in perfect condition and did exactly what I needed it to. Great purchase and would purchase again.                                                                                                                                                                                                                      \n",
       "16    I don't know if I would buy thus brand again seems like they don't last as long as Duracell                                                                                                                                                                                                                                                                                                                            \n",
       "17    In my opinion these did not last anywhere near as long as Duracel in things like LED candles (which is crazy) and trail cameras. Cameras were not exposed to cold temps more or less than other batteries. WE buy in bulk for the north house. Amazon Basics is great for things like sheets and beeding and towels. In my opinion the battery life, in the large package of aaa and aa size we purchased were lacking.\n",
       "18    They don't last as long as the brand name but are good enough considering they are much cheaper.                                                                                                                                                                                                                                                                                                                       \n",
       "19    Bought these batteries for my Christmas gifts the month of (december) only lasted like 2months toys now need replacement batteries . I also used some for my doorbell and just now needs replacement batteries. Tv Remote control is still working but these batteries don't last very long...                                                                                                                         \n",
       "20    This my second order and they seem to work as good as name brand and ship to my door.                                                                                                                                                                                                                                                                                                                                  \n",
       "21    This was my second purchase of amazon batteries and they work great. Just as good or even better than name brand batteries and half the price. This will be the only way I purchase batteries from now on!                                                                                                                                                                                                             \n",
       "22    They last as long as Duracell batteries in my Xbox one controllers and none of them exploded like some of the reviews said.                                                                                                                                                                                                                                                                                            \n",
       "23    they seemed to not last as long as other name brand names disappointed!                                                                                                                                                                                                                                                                                                                                                \n",
       "24    These do not last long at all very cheap batteries no happy                                                                                                                                                                                                                                                                                                                                                            \n",
       "25    have not used yet but a battery is a battery good price                                                                                                                                                                                                                                                                                                                                                                \n",
       "26    These Amazon batteries did the job although I gave 4star only because I had a few I would say a hand full of batteries that were not as strong or were pretty weak but out of a box of 48 batteries, I will definitely buy again for this priceIm pretty well satisfied.Thank you!                                                                                                                                     \n",
       "27    We've ordered these a few times cause we've been so happy with product. These are good quality. We are also happy with price. I would recommend these.                                                                                                                                                                                                                                                                 \n",
       "28    HAVE NOT HAD CHANCE TO USE ALL OF THEM BUT HOPEFULLY ALL OF THEM WILL REMAIN IN GOOD ORDER FOR A REASONABLE AMOUNT OF TIME MEANING A FEW YEARS OUT.                                                                                                                                                                                                                                                                    \n",
       "29    these were under a light we thought they were there to fit the light when they arrived and nice company they were not the batteries we needed it should have been aa but that is ok,it was our fault not knowing this. thanks..                                                                                                                                                                                        \n",
       "30    I use these batteries in my game cameras and they work great, last several weeks.                                                                                                                                                                                                                                                                                                                                      \n",
       "31    Very convenient to have a box of batteries and at a good price. No longer need to compare pricing in stores. Should have done this long time ago.                                                                                                                                                                                                                                                                      \n",
       "32    Not much to say about batteries except they work for a good price. Having a hundred let's me share with kids and grand kids.                                                                                                                                                                                                                                                                                           \n",
       "33    They seem to work okay so far and the price was great.                                                                                                                                                                                                                                                                                                                                                                 \n",
       "34    I use them for my Xbox controllers and they last pretty long. Great for a cheap price.                                                                                                                                                                                                                                                                                                                                 \n",
       "Name: reviews.text, dtype: object"
      ]
     },
     "execution_count": 9,
     "metadata": {},
     "output_type": "execute_result"
    }
   ],
   "source": [
    "# Expand the column size so we can see more text, see if it needs cleaning\n",
    "\n",
    "pd.set_option('display.max_colwidth', -1)\n",
    "df_review.head(35)"
   ]
  },
  {
   "cell_type": "markdown",
   "metadata": {},
   "source": [
    "### Clean Text Data"
   ]
  },
  {
   "cell_type": "code",
   "execution_count": null,
   "metadata": {},
   "outputs": [],
   "source": [
    "# This Text was actually perfectly clean. No cleaning necessary.\n",
    "\n",
    "'''\n",
    "Optionally, use BeautifulSoup to clean html\n",
    "or write clean the column with pure python : \n",
    "    df['text_column'] = df['text_column'].apply(lambda x: x.replace(\"<br />\", \"\"))\n",
    "'''"
   ]
  },
  {
   "cell_type": "markdown",
   "metadata": {},
   "source": [
    "### Tokenization\n",
    "Options\n",
    "- Spacy\n",
    "- Pure Python (custom function)\n",
    "- Gensim"
   ]
  },
  {
   "cell_type": "code",
   "execution_count": 10,
   "metadata": {},
   "outputs": [],
   "source": [
    "# Use Spacy to create tokens\n",
    "\n",
    "import spacy\n",
    "nlp = spacy.load('en_core_web_lg')"
   ]
  },
  {
   "cell_type": "code",
   "execution_count": 12,
   "metadata": {},
   "outputs": [],
   "source": [
    "# Create list of tokens\n",
    "# Use Lemmas as out tokens\n",
    "\n",
    "tokens = []\n",
    "\n",
    "for doc in nlp.pipe(df_review):\n",
    "    \n",
    "    doc_tokens = []\n",
    "    \n",
    "    for token in doc:\n",
    "        if(token.is_stop == False) and (token.pos_ != 'PRON') and (token.is_punct == False):\n",
    "            doc_tokens.append(token.lemma_.strip())\n",
    "            \n",
    "    tokens.append(doc_tokens)"
   ]
  },
  {
   "cell_type": "code",
   "execution_count": 22,
   "metadata": {},
   "outputs": [
    {
     "data": {
      "text/plain": [
       "['order',\n",
       " '3',\n",
       " 'item',\n",
       " 'bad',\n",
       " 'quality',\n",
       " 'miss',\n",
       " 'backup',\n",
       " 'spring',\n",
       " 'pc',\n",
       " 'aluminum',\n",
       " 'battery',\n",
       " 'work']"
      ]
     },
     "execution_count": 22,
     "metadata": {},
     "output_type": "execute_result"
    }
   ],
   "source": [
    "# Look at one example of the tokens\n",
    "tokens[0]"
   ]
  },
  {
   "cell_type": "code",
   "execution_count": 13,
   "metadata": {},
   "outputs": [
    {
     "data": {
      "text/plain": [
       "True"
      ]
     },
     "execution_count": 13,
     "metadata": {},
     "output_type": "execute_result"
    }
   ],
   "source": [
    "# Sanity check that the list of tokens is the same length as the original list of the reviews\n",
    "\n",
    "len(tokens) == df_review.shape[0]"
   ]
  },
  {
   "cell_type": "markdown",
   "metadata": {},
   "source": [
    "### Genism LDA Topic Modeling\n",
    "- Tokenize before creating model"
   ]
  },
  {
   "cell_type": "code",
   "execution_count": 24,
   "metadata": {},
   "outputs": [],
   "source": [
    "# Imports\n",
    "\n",
    "import gensim\n",
    "\n",
    "from gensim import corpora\n",
    "from gensim.models.ldamulticore import LdaMulticore"
   ]
  },
  {
   "cell_type": "code",
   "execution_count": 33,
   "metadata": {},
   "outputs": [],
   "source": [
    "# You instantiate the corpora at the same time as creating the dictionary\n",
    "# The dictionary contains the words and their cooresponding ids (integers that makes computations easier)\n",
    "\n",
    "id2word = corpora.Dictionary(tokens)"
   ]
  },
  {
   "cell_type": "code",
   "execution_count": 34,
   "metadata": {},
   "outputs": [
    {
     "data": {
      "text/plain": [
       "9705"
      ]
     },
     "execution_count": 34,
     "metadata": {},
     "output_type": "execute_result"
    }
   ],
   "source": [
    "# How many tokens there are\n",
    "len(id2word.keys())"
   ]
  },
  {
   "cell_type": "code",
   "execution_count": 35,
   "metadata": {},
   "outputs": [],
   "source": [
    "# Filter out those that appear in less than n amount of documents\n",
    "# Filter out those that appear in more than 95% of the documents\n",
    "\n",
    "id2word.filter_extremes(no_below= 100, no_above= 0.95)"
   ]
  },
  {
   "cell_type": "code",
   "execution_count": 36,
   "metadata": {},
   "outputs": [
    {
     "data": {
      "text/plain": [
       "489"
      ]
     },
     "execution_count": 36,
     "metadata": {},
     "output_type": "execute_result"
    }
   ],
   "source": [
    "# Look at the new length of the amount of filtered tokens\n",
    "len(id2word.keys())"
   ]
  },
  {
   "cell_type": "code",
   "execution_count": 37,
   "metadata": {},
   "outputs": [],
   "source": [
    "# Counts the number of occurrences of each word\n",
    "# Returns the word ID and the count of that word\n",
    "\n",
    "corpora = [id2word.doc2bow(doc) for doc in tokens]"
   ]
  },
  {
   "cell_type": "code",
   "execution_count": 39,
   "metadata": {},
   "outputs": [
    {
     "data": {
      "text/plain": [
       "28332"
      ]
     },
     "execution_count": 39,
     "metadata": {},
     "output_type": "execute_result"
    }
   ],
   "source": [
    "# Length is the same as the number of reviews\n",
    "len(corpora)"
   ]
  },
  {
   "cell_type": "code",
   "execution_count": 83,
   "metadata": {},
   "outputs": [],
   "source": [
    "# Lda model will use the corpora we've created to divide the reviews into n amount of topics that we decide\n",
    "# Later we can use a systamatic way of deciding how many topics to divide it into\n",
    "\n",
    "# Updated to do 17 topics, the ideal split calculated at the bottom of the notebook\n",
    "\n",
    "lda = LdaMulticore(corpus = corpora,\n",
    "                  id2word = id2word,\n",
    "                  num_topics = 17,\n",
    "                  passes = 50)"
   ]
  },
  {
   "cell_type": "code",
   "execution_count": 84,
   "metadata": {},
   "outputs": [
    {
     "data": {
      "text/plain": [
       "[(0,\n",
       "  '0.197*\"use\" + 0.184*\"easy\" + 0.146*\"love\" + 0.091*\"gift\" + 0.053*\"purchase\" + 0.051*\"buy\" + 0.043*\"enjoy\" + 0.042*\"Christmas\" + 0.032*\"item\" + 0.029*\"wife\"'),\n",
       " (1,\n",
       "  '0.059*\"light\" + 0.040*\"reader\" + 0.033*\"music\" + 0.031*\"use\" + 0.030*\"reading\" + 0.028*\"read\" + 0.028*\"easy\" + 0.027*\"device\" + 0.027*\"Amazon\" + 0.026*\"internet\"'),\n",
       " (2,\n",
       "  '0.242*\"kindle\" + 0.110*\"excellent\" + 0.084*\"new\" + 0.063*\"phone\" + 0.059*\"upgrade\" + 0.052*\"travel\" + 0.051*\"web\" + 0.044*\"love\" + 0.038*\"version\" + 0.036*\"second\"'),\n",
       " (3,\n",
       "  '0.142*\"kid\" + 0.093*\"game\" + 0.071*\"play\" + 0.058*\"love\" + 0.052*\"great\" + 0.049*\"app\" + 0.042*\"download\" + 0.036*\"movie\" + 0.034*\"watch\" + 0.027*\"child\"'),\n",
       " (4,\n",
       "  '0.098*\"Kindle\" + 0.061*\"Fire\" + 0.051*\"charge\" + 0.027*\"Amazon\" + 0.023*\"new\" + 0.020*\"time\" + 0.020*\"come\" + 0.020*\"day\" + 0.017*\"hold\" + 0.016*\"purchase\"'),\n",
       " (5,\n",
       "  '0.128*\"screen\" + 0.079*\"size\" + 0.072*\"nice\" + 0.059*\"perfect\" + 0.045*\"feature\" + 0.041*\"easy\" + 0.030*\"picture\" + 0.030*\"big\" + 0.029*\"small\" + 0.028*\"love\"'),\n",
       " (6,\n",
       "  '0.386*\"tablet\" + 0.035*\"great\" + 0.031*\"use\" + 0.029*\"Amazon\" + 0.025*\"video\" + 0.018*\"little\" + 0.017*\"need\" + 0.017*\"memory\" + 0.016*\"durable\" + 0.016*\"child\"'),\n",
       " (7,\n",
       "  '0.533*\"good\" + 0.083*\"recommend\" + 0.076*\"price\" + 0.050*\"quality\" + 0.047*\"product\" + 0.035*\"sound\" + 0.030*\"far\" + 0.029*\"highly\" + 0.027*\"value\" + 0.021*\"deal\"'),\n",
       " (8,\n",
       "  '0.482*\"work\" + 0.121*\"great\" + 0.057*\"fine\" + 0.047*\"expect\" + 0.041*\"problem\" + 0.036*\"issue\" + 0.035*\"far\" + 0.020*\"exactly\" + 0.019*\"lightweight\" + 0.018*\"inch\"'),\n",
       " (9,\n",
       "  '0.070*\"case\" + 0.053*\"learn\" + 0.052*\"get\" + 0.039*\"grandson\" + 0.035*\"pay\" + 0.034*\"spend\" + 0.033*\"buy\" + 0.033*\"money\" + 0.032*\"load\" + 0.029*\"simple\"'),\n",
       " (10,\n",
       "  '0.260*\"battery\" + 0.125*\"long\" + 0.086*\"brand\" + 0.046*\"life\" + 0.040*\"buy\" + 0.037*\"cheap\" + 0.029*\"deal\" + 0.025*\"price\" + 0.025*\"last\" + 0.021*\"time\"'),\n",
       " (11,\n",
       "  '0.146*\"old\" + 0.130*\"year\" + 0.077*\"love\" + 0.060*\"buy\" + 0.042*\"2\" + 0.031*\"3\" + 0.028*\"8\" + 0.027*\"7\" + 0.026*\"4\" + 0.026*\"5\"'),\n",
       " (12,\n",
       "  '0.162*\"buy\" + 0.088*\"love\" + 0.073*\"happy\" + 0.071*\"time\" + 0.061*\"daughter\" + 0.041*\"son\" + 0.038*\"user\" + 0.036*\"friendly\" + 0.031*\"purchase\" + 0.030*\"thank\"'),\n",
       " (13,\n",
       "  '0.135*\"book\" + 0.121*\"read\" + 0.098*\"app\" + 0.052*\"fire\" + 0.047*\"need\" + 0.045*\"like\" + 0.036*\"device\" + 0.030*\"want\" + 0.024*\"thing\" + 0.023*\"slow\"'),\n",
       " (14,\n",
       "  '0.504*\"great\" + 0.160*\"price\" + 0.107*\"product\" + 0.049*\"value\" + 0.024*\"fast\" + 0.020*\"quality\" + 0.015*\"affordable\" + 0.012*\"awesome\" + 0.012*\"money\" + 0.010*\"advertise\"'),\n",
       " (15,\n",
       "  '0.140*\"price\" + 0.099*\"well\" + 0.044*\"beat\" + 0.043*\"worth\" + 0.032*\"low\" + 0.032*\"think\" + 0.026*\"decent\" + 0.025*\"feel\" + 0.024*\"Amazon\" + 0.023*\"right\"'),\n",
       " (16,\n",
       "  '0.119*\"battery\" + 0.025*\"Amazon\" + 0.023*\"use\" + 0.023*\"buy\" + 0.022*\"iPad\" + 0.015*\"remote\" + 0.015*\"box\" + 0.014*\"order\" + 0.013*\"like\" + 0.013*\"need\"')]"
      ]
     },
     "execution_count": 84,
     "metadata": {},
     "output_type": "execute_result"
    }
   ],
   "source": [
    "# Look at the topics the model created\n",
    "lda.print_topics()"
   ]
  },
  {
   "cell_type": "code",
   "execution_count": 85,
   "metadata": {},
   "outputs": [
    {
     "data": {
      "text/plain": [
       "17"
      ]
     },
     "execution_count": 85,
     "metadata": {},
     "output_type": "execute_result"
    }
   ],
   "source": [
    "# Make sure the correct amount of topics were created (this didn't happen for anything above 20)\n",
    "\n",
    "len(lda.print_topics())"
   ]
  },
  {
   "cell_type": "code",
   "execution_count": 86,
   "metadata": {},
   "outputs": [],
   "source": [
    "# Clean the output\n",
    "# This is a standard output, so you can recyle the code to clean it\n",
    "\n",
    "import re\n",
    "words = [re.findall('\"([^\"]*)\"',t[1]) for t in lda.print_topics()]"
   ]
  },
  {
   "cell_type": "code",
   "execution_count": 87,
   "metadata": {},
   "outputs": [
    {
     "data": {
      "text/plain": [
       "['use',\n",
       " 'easy',\n",
       " 'love',\n",
       " 'gift',\n",
       " 'purchase',\n",
       " 'buy',\n",
       " 'enjoy',\n",
       " 'Christmas',\n",
       " 'item',\n",
       " 'wife']"
      ]
     },
     "execution_count": 87,
     "metadata": {},
     "output_type": "execute_result"
    }
   ],
   "source": [
    "words[0]"
   ]
  },
  {
   "cell_type": "code",
   "execution_count": 88,
   "metadata": {},
   "outputs": [],
   "source": [
    "# Create names for each topic\n",
    "# Simple way is to take just the first 5 words and use it as the label\n",
    "\n",
    "topics = [' '.join(t[0:5]) for t in words]"
   ]
  },
  {
   "cell_type": "code",
   "execution_count": 89,
   "metadata": {},
   "outputs": [
    {
     "name": "stdout",
     "output_type": "stream",
     "text": [
      "------ Topic 0 ------\n",
      "use easy love gift purchase\n",
      "\n",
      "------ Topic 1 ------\n",
      "light reader music use reading\n",
      "\n",
      "------ Topic 2 ------\n",
      "kindle excellent new phone upgrade\n",
      "\n",
      "------ Topic 3 ------\n",
      "kid game play love great\n",
      "\n",
      "------ Topic 4 ------\n",
      "Kindle Fire charge Amazon new\n",
      "\n",
      "------ Topic 5 ------\n",
      "screen size nice perfect feature\n",
      "\n",
      "------ Topic 6 ------\n",
      "tablet great use Amazon video\n",
      "\n",
      "------ Topic 7 ------\n",
      "good recommend price quality product\n",
      "\n",
      "------ Topic 8 ------\n",
      "work great fine expect problem\n",
      "\n",
      "------ Topic 9 ------\n",
      "case learn get grandson pay\n",
      "\n",
      "------ Topic 10 ------\n",
      "battery long brand life buy\n",
      "\n",
      "------ Topic 11 ------\n",
      "old year love buy 2\n",
      "\n",
      "------ Topic 12 ------\n",
      "buy love happy time daughter\n",
      "\n",
      "------ Topic 13 ------\n",
      "book read app fire need\n",
      "\n",
      "------ Topic 14 ------\n",
      "great price product value fast\n",
      "\n",
      "------ Topic 15 ------\n",
      "price well beat worth low\n",
      "\n",
      "------ Topic 16 ------\n",
      "battery Amazon use buy iPad\n",
      "\n"
     ]
    }
   ],
   "source": [
    "# Print them out in a readable way\n",
    "\n",
    "for id, t in enumerate(topics): \n",
    "    print(f\"------ Topic {id} ------\")\n",
    "    print(t, end=\"\\n\\n\")"
   ]
  },
  {
   "cell_type": "markdown",
   "metadata": {},
   "source": [
    "### Interpret LDA Results"
   ]
  },
  {
   "cell_type": "code",
   "execution_count": 74,
   "metadata": {},
   "outputs": [],
   "source": [
    "# Visualization that maps the topics proximities\n",
    "# Also tells what terms are most important to the topic distribution \n",
    "\n",
    "import pyLDAvis.gensim\n",
    "\n",
    "pyLDAvis.enable_notebook()"
   ]
  },
  {
   "cell_type": "code",
   "execution_count": 90,
   "metadata": {},
   "outputs": [
    {
     "data": {
      "text/html": [
       "\n",
       "<link rel=\"stylesheet\" type=\"text/css\" href=\"https://cdn.rawgit.com/bmabey/pyLDAvis/files/ldavis.v1.0.0.css\">\n",
       "\n",
       "\n",
       "<div id=\"ldavis_el8446565007403362555736039\"></div>\n",
       "<script type=\"text/javascript\">\n",
       "\n",
       "var ldavis_el8446565007403362555736039_data = {\"mdsDat\": {\"x\": [-0.09461094877216339, 0.03831072364313853, -0.06351496498565508, 0.008397255083066157, -0.09390337098226814, -0.18650805877547286, -0.08484567350138118, -0.1038508957009244, -0.09719548335663893, -0.17500681490356215, 0.31837815993019036, 0.3592011015751156, -0.12982167870216024, 0.1618587707512102, 0.2351898551468428, -0.07685545128273624, -0.015222525166600425], \"y\": [-0.24414047311377166, -0.20754646366494417, 0.12918864900801044, -0.07638834927584309, -0.14752599321464283, 0.16231550011804205, -0.13507705449132965, -0.13021914287943845, 0.07824533336384747, 0.194842500372828, 0.043902251648537845, 0.08316814795380789, 0.12271012144144942, -0.14431116796075907, 0.10193469717603866, -0.014171853946699188, 0.18307329746486542], \"topics\": [1, 2, 3, 4, 5, 6, 7, 8, 9, 10, 11, 12, 13, 14, 15, 16, 17], \"cluster\": [1, 1, 1, 1, 1, 1, 1, 1, 1, 1, 1, 1, 1, 1, 1, 1, 1], \"Freq\": [12.952984809875488, 7.966963768005371, 7.763288974761963, 7.396234035491943, 7.08767032623291, 6.830752849578857, 5.853786468505859, 5.397281169891357, 5.177578449249268, 5.029417037963867, 5.018941879272461, 4.944059371948242, 4.5540289878845215, 4.4853434562683105, 3.67014741897583, 3.2472801208496094, 2.624246120452881]}, \"tinfo\": {\"Term\": [\"good\", \"great\", \"tablet\", \"battery\", \"work\", \"price\", \"use\", \"love\", \"easy\", \"kid\", \"buy\", \"old\", \"long\", \"year\", \"kindle\", \"book\", \"read\", \"app\", \"screen\", \"Kindle\", \"game\", \"product\", \"brand\", \"well\", \"gift\", \"play\", \"time\", \"recommend\", \"size\", \"new\", \"iPad\", \"remote\", \"box\", \"pack\", \"package\", \"wifi\", \"AmazonBasics\", \"test\", \"Echo\", \"leak\", \"aaa\", \"dead\", \"mouse\", \"Basics\", \"flashlight\", \"Energizer\", \"AAA\", \"rechargeable\", \"wrap\", \"plastic\", \"Batteries\", \"drain\", \"power\", \"week\", \"AA\", \"perform\", \"usually\", \"die\", \"maybe\", \"half\", \"toy\", \"order\", \"battery\", \"month\", \"run\", \"try\", \"Duracell\", \"Amazon\", \"come\", \"go\", \"review\", \"use\", \"buy\", \"need\", \"day\", \"like\", \"time\", \"purchase\", \"brand\", \"device\", \"long\", \"content\", \"lasting\", \"fraction\", \"brand\", \"major\", \"life\", \"duracell\", \"energizer\", \"bargain\", \"cheap\", \"last\", \"deal\", \"comparable\", \"expensive\", \"longer\", \"battery\", \"packaging\", \"alkaline\", \"bulk\", \"difference\", \"notice\", \"compare\", \"cost\", \"Duracell\", \"reliable\", \"one\", \"continue\", \"short\", \"buck\", \"big\", \"lot\", \"store\", \"buy\", \"time\", \"price\", \"Amazon\", \"like\", \"far\", \"amazon\", \"purchase\", \"find\", \"kid\", \"download\", \"movie\", \"young\", \"game\", \"fun\", \"play\", \"worry\", \"watch\", \"favorite\", \"grand\", \"car\", \"lock\", \"trip\", \"access\", \"control\", \"show\", \"child\", \"free\", \"allow\", \"keep\", \"ton\", \"app\", \"etc\", \"wish\", \"ease\", \"enjoy\", \"son\", \"lot\", \"awesome\", \"love\", \"great\", \"time\", \"daughter\", \"set\", \"like\", \"thing\", \"use\", \"case\", \"able\", \"tablet\", \"memory\", \"email\", \"limit\", \"profile\", \"card\", \"durable\", \"program\", \"space\", \"plenty\", \"video\", \"toddler\", \"inexpensive\", \"storage\", \"Apple\", \"check\", \"add\", \"medium\", \"system\", \"age\", \"overall\", \"little\", \"daily\", \"available\", \"child\", \"choice\", \"impressed\", \"handle\", \"100\", \"provide\", \"end\", \"perfect\", \"pretty\", \"want\", \"fast\", \"Amazon\", \"come\", \"need\", \"use\", \"great\", \"look\", \"purchase\", \"nice\", \"recommend\", \"Kindle\", \"charge\", \"cover\", \"tap\", \"charger\", \"surf\", \"original\", \"eye\", \"best\", \"question\", \"choose\", \"plug\", \"Fire\", \"ask\", \"turn\", \"damage\", \"replacement\", \"return\", \"say\", \"photo\", \"stay\", \"16\", \"customer\", \"finally\", \"break\", \"leave\", \"hold\", \"let\", \"include\", \"will\", \"day\", \"take\", \"new\", \"come\", \"quickly\", \"issue\", \"drop\", \"Amazon\", \"problem\", \"know\", \"time\", \"purchase\", \"device\", \"store\", \"buy\", \"like\", \"find\", \"get\", \"case\", \"old\", \"year\", \"7\", \"absolutely\", \"grandkid\", \"nephew\", \"setup\", \"Samsung\", \"grandchild\", \"parent\", \"5\", \"9\", \"warranty\", \"3\", \"6\", \"safe\", \"2\", \"4\", \"8\", \"10\", \"1\", \"star\", \"ago\", \"replace\", \"model\", \"grandson\", \"20\", \"damage\", \"previous\", \"month\", \"love\", \"Christmas\", \"fire\", \"buy\", \"son\", \"get\", \"purchase\", \"daughter\", \"reader\", \"music\", \"reading\", \"speaker\", \"Alexa\", \"page\", \"Prime\", \"laptop\", \"listen\", \"weight\", \"portable\", \"connect\", \"member\", \"stream\", \"protect\", \"own\", \"search\", \"sister\", \"button\", \"browse\", \"purpose\", \"light\", \"e\", \"internet\", \"night\", \"previous\", \"unit\", \"limited\", \"home\", \"convenient\", \"online\", \"device\", \"look\", \"read\", \"easy\", \"Amazon\", \"use\", \"want\", \"like\", \"available\", \"small\", \"book\", \"slow\", \"adult\", \"tool\", \"read\", \"fire\", \"close\", \"table\", \"not\", \"handy\", \"app\", \"ability\", \"model\", \"pick\", \"multiple\", \"instal\", \"amazon\", \"need\", \"device\", \"buck\", \"thing\", \"want\", \"mainly\", \"have\", \"heavy\", \"able\", \"ok\", \"different\", \"option\", \"like\", \"lot\", \"store\", \"think\", \"way\", \"find\", \"version\", \"little\", \"get\", \"Amazon\", \"love\", \"use\", \"play\", \"come\", \"screen\", \"size\", \"picture\", \"clear\", \"display\", \"yr\", \"niece\", \"touch\", \"large\", \"color\", \"nice\", \"camera\", \"feature\", \"design\", \"perfect\", \"handle\", \"function\", \"fit\", \"bring\", \"small\", \"hand\", \"bright\", \"big\", \"ease\", \"carry\", \"build\", \"right\", \"library\", \"plus\", \"operate\", \"easy\", \"overall\", \"make\", \"like\", \"fire\", \"love\", \"8\", \"fast\", \"little\", \"lot\", \"gift\", \"mom\", \"present\", \"everyday\", \"wife\", \"easy\", \"enjoy\", \"item\", \"Christmas\", \"ok\", \"solid\", \"use\", \"family\", \"super\", \"pleased\", \"love\", \"purchase\", \"give\", \"open\", \"toddler\", \"glad\", \"make\", \"carry\", \"buy\", \"sure\", \"fantastic\", \"electronic\", \"want\", \"child\", \"granddaughter\", \"minute\", \"review\", \"good\", \"highly\", \"sound\", \"recommend\", \"quality\", \"definitely\", \"friend\", \"disappoint\", \"value\", \"far\", \"deal\", \"family\", \"product\", \"overall\", \"price\", \"money\", \"reliable\", \"stuff\", \"provide\", \"pretty\", \"toddler\", \"look\", \"Friday\", \"Black\", \"beginner\", \"Android\", \"Tablet\", \"Voyage\", \"android\", \"HD8\", \"amazon\", \"hd\", \"navigate\", \"Google\", \"$\", \"amazing\", \"parental\", \"advertise\", \"reasonable\", \"shipping\", \"affordable\", \"great\", \"value\", \"product\", \"service\", \"wonderful\", \"customer\", \"price\", \"fast\", \"deliver\", \"especially\", \"awesome\", \"fantastic\", \"money\", \"ton\", \"quality\", \"super\", \"bargain\", \"buck\", \"handy\", \"save\", \"high\", \"sturdy\", \"bring\", \"prime\", \"ask\", \"overall\", \"amazon\", \"experience\", \"Amazon\", \"happy\", \"user\", \"thank\", \"complaint\", \"Netflix\", \"birthday\", \"setting\", \"friendly\", \"husband\", \"library\", \"tech\", \"daughter\", \"account\", \"tell\", \"friend\", \"help\", \"son\", \"plan\", \"yes\", \"time\", \"buy\", \"set\", \"arrive\", \"know\", \"soon\", \"take\", \"free\", \"love\", \"online\", \"minute\", \"purchase\", \"go\", \"get\", \"product\", \"need\", \"like\", \"far\", \"well\", \"beat\", \"decent\", \"job\", \"point\", \"people\", \"meet\", \"worth\", \"feel\", \"faster\", \"dollar\", \"performance\", \"believe\", \"low\", \"sale\", \"amazing\", \"market\", \"extremely\", \"cost\", \"right\", \"wrong\", \"basic\", \"hard\", \"mean\", \"useful\", \"think\", \"surprised\", \"consider\", \"bit\", \"sturdy\", \"awesome\", \"price\", \"expect\", \"pay\", \"quality\", \"Amazon\", \"get\", \"need\", \"purchase\", \"store\", \"work\", \"fine\", \"exactly\", \"lightweight\", \"inch\", \"describe\", \"perfectly\", \"expect\", \"hope\", \"problem\", \"issue\", \"stop\", \"better\", \"receive\", \"far\", \"stuff\", \"perform\", \"tell\", \"great\", \"fit\", \"home\", \"android\", \"Android\", \"beginner\", \"playing\", \"Black\", \"Voyage\", \"HD8\", \"ipad\", \"google\", \"couple\", \"order\", \"know\", \"like\", \"week\", \"start\", \"wait\", \"$\", \"Google\", \"Buy\", \"ad\", \"school\", \"speed\", \"mother\", \"quick\", \"protective\", \"understand\", \"spend\", \"simple\", \"load\", \"fact\", \"learn\", \"satisfied\", \"away\", \"case\", \"age\", \"grandson\", \"sell\", \"pay\", \"tv\", \"extra\", \"huge\", \"glad\", \"plus\", \"kind\", \"actually\", \"100\", \"money\", \"bad\", \"get\", \"go\", \"buy\", \"like\", \"kindle\", \"excellent\", \"phone\", \"upgrade\", \"travel\", \"web\", \"resolution\", \"appropriate\", \"live\", \"update\", \"second\", \"black\", \"version\", \"choice\", \"daily\", \"new\", \"real\", \"consider\", \"stay\", \"see\", \"surprised\", \"sale\", \"look\", \"home\", \"continue\", \"one\", \"past\", \"convenient\", \"difference\", \"hd\", \"wish\", \"love\", \"storage\", \"option\"], \"Freq\": [6943.0, 9369.0, 7405.0, 9366.0, 4595.0, 5179.0, 4923.0, 6340.0, 3369.0, 2870.0, 5812.0, 2587.0, 2592.0, 2309.0, 1645.0, 1897.0, 2128.0, 2351.0, 1715.0, 1807.0, 1959.0, 2421.0, 2062.0, 1150.0, 1194.0, 1528.0, 2444.0, 1320.0, 1068.0, 1130.0, 735.15771484375, 510.0036315917969, 508.49188232421875, 439.7773132324219, 374.05364990234375, 312.8424987792969, 282.7309875488281, 234.587890625, 223.77328491210938, 198.6575469970703, 185.182861328125, 177.876953125, 177.55271911621094, 172.43902587890625, 169.90921020507812, 165.0303497314453, 160.63832092285156, 142.1333465576172, 133.21432495117188, 124.81354522705078, 111.59791564941406, 128.50619506835938, 407.054931640625, 393.6761779785156, 353.8404541015625, 187.508544921875, 101.03836822509766, 196.56393432617188, 137.47999572753906, 152.67974853515625, 381.24896240234375, 480.7060852050781, 4000.9921875, 371.721435546875, 367.1007385253906, 395.26544189453125, 293.37841796875, 832.4679565429688, 414.79083251953125, 362.5575256347656, 259.5711669921875, 783.9976196289062, 771.4812622070312, 439.8123474121094, 291.6559753417969, 444.84649658203125, 405.086181640625, 365.6769714355469, 281.4095458984375, 265.0962219238281, 2589.46142578125, 331.1473693847656, 142.98931884765625, 99.97428131103516, 1779.927978515625, 103.95230865478516, 945.4308471679688, 79.74467468261719, 132.0969696044922, 72.89785766601562, 760.1953735351562, 509.3377685546875, 606.9891357421875, 66.87487030029297, 294.3839416503906, 205.00839233398438, 5365.03271484375, 120.35208892822266, 79.4167251586914, 71.35726165771484, 129.13121032714844, 72.48877716064453, 171.51585388183594, 193.30943298339844, 203.335693359375, 45.67168426513672, 146.0323486328125, 47.223907470703125, 69.30530548095703, 39.95960998535156, 235.8524932861328, 290.8629150390625, 242.42144775390625, 835.08251953125, 444.2121276855469, 517.6234130859375, 327.0154113769531, 238.2445526123047, 163.33477783203125, 110.7542495727539, 126.54422760009766, 106.30633544921875, 2870.0712890625, 838.0648193359375, 733.746826171875, 250.27357482910156, 1873.999267578125, 257.554931640625, 1428.5341796875, 149.96954345703125, 675.037353515625, 168.62716674804688, 124.0708999633789, 105.71989440917969, 92.6873779296875, 133.41514587402344, 317.3564147949219, 429.4202880859375, 192.0931854248047, 541.6094360351562, 340.9997253417969, 155.83984375, 218.54136657714844, 73.7723617553711, 983.7426147460938, 143.88514709472656, 114.39339447021484, 69.52031707763672, 257.65869140625, 325.76007080078125, 356.0785827636719, 150.5785675048828, 1161.724609375, 1049.2138671875, 387.7922668457031, 202.8621826171875, 177.41200256347656, 242.6931915283203, 173.03916931152344, 218.55059814453125, 159.44517517089844, 151.4084014892578, 7404.28564453125, 320.7730712890625, 262.40423583984375, 246.73037719726562, 144.99168395996094, 294.0097351074219, 316.4836120605469, 118.71269989013672, 141.38299560546875, 123.22122955322266, 470.8857727050781, 127.71924591064453, 146.21653747558594, 241.1039276123047, 72.76387023925781, 142.5436248779297, 207.01194763183594, 59.66077423095703, 80.59671020507812, 138.5077362060547, 138.06874084472656, 349.8102111816406, 50.577083587646484, 122.87260437011719, 308.76458740234375, 64.01839447021484, 45.32719802856445, 37.335105895996094, 43.71567916870117, 44.49553680419922, 71.82808685302734, 266.76605224609375, 143.800537109375, 287.30029296875, 186.74307250976562, 554.0081787109375, 229.96240234375, 326.5965881347656, 595.968994140625, 680.1878662109375, 195.46910095214844, 211.51889038085938, 171.56980895996094, 164.7956085205078, 1806.1478271484375, 944.7445068359375, 283.27978515625, 203.57151794433594, 190.4814453125, 177.73814392089844, 166.0690155029297, 162.2558135986328, 119.67168426513672, 111.67977905273438, 156.687255859375, 134.7142791748047, 1125.3369140625, 154.48931884765625, 277.58428955078125, 69.67289733886719, 149.8528594970703, 214.4871826171875, 217.38131713867188, 86.10186767578125, 66.65120697021484, 87.5108871459961, 60.93628692626953, 62.4371223449707, 191.7119598388672, 83.18775939941406, 313.4676818847656, 98.91099548339844, 106.70684814453125, 141.94960021972656, 362.8848571777344, 244.3973388671875, 424.8136291503906, 370.17047119140625, 146.9122314453125, 202.08737182617188, 143.2257080078125, 504.2586669921875, 201.35272216796875, 190.77183532714844, 372.77252197265625, 299.5626525878906, 227.447021484375, 193.94491577148438, 271.27667236328125, 217.60379028320312, 179.39418029785156, 193.39976501464844, 177.26412963867188, 2586.723388671875, 2308.277099609375, 481.8028564453125, 281.63958740234375, 182.53147888183594, 179.1254119873047, 137.4076385498047, 127.94758605957031, 105.8359375, 193.4660186767578, 465.0721740722656, 130.91041564941406, 255.94558715820312, 552.8123779296875, 233.02920532226562, 85.08129119873047, 740.1364135742188, 466.8881530761719, 495.2713928222656, 174.61575317382812, 154.76271057128906, 135.48583984375, 81.74475860595703, 293.7740783691406, 133.03306579589844, 203.19247436523438, 31.983440399169922, 31.540163040161133, 56.38247299194336, 152.20065307617188, 1359.0150146484375, 208.50682067871094, 268.50628662109375, 1067.040771484375, 243.0912628173828, 374.3534240722656, 301.36865234375, 167.72705078125, 612.4326782226562, 496.2197570800781, 449.1640319824219, 343.5579528808594, 317.15283203125, 283.3791198730469, 275.3467102050781, 238.74327087402344, 224.68748474121094, 211.02731323242188, 206.01251220703125, 205.11715698242188, 191.85055541992188, 135.84844970703125, 128.89517211914062, 126.03758239746094, 120.93628692626953, 119.41756439208984, 254.339111328125, 108.46229553222656, 139.05587768554688, 896.6605834960938, 277.0621643066406, 390.2176208496094, 131.64077758789062, 149.59432983398438, 113.62113952636719, 79.69901275634766, 201.5981903076172, 112.623291015625, 139.47964477539062, 409.5263366699219, 286.41497802734375, 427.9653625488281, 422.5401306152344, 404.9778137207031, 472.8457336425781, 269.0753173828125, 232.9453887939453, 149.6996612548828, 160.99984741210938, 1896.4881591796875, 319.8295593261719, 206.2969970703125, 141.8868408203125, 1696.665283203125, 733.1053466796875, 77.83695983886719, 73.2828140258789, 219.75291442871094, 72.91258239746094, 1366.60791015625, 95.38907623291016, 163.03082275390625, 80.05615234375, 42.199119567871094, 72.04812622070312, 256.3417663574219, 659.9765014648438, 501.04852294921875, 40.66502380371094, 337.99700927734375, 419.9722900390625, 34.61615753173828, 151.2584991455078, 29.242311477661133, 159.08985900878906, 73.22019958496094, 78.43721008300781, 79.74494171142578, 635.9527587890625, 250.40890502929688, 196.65382385253906, 161.08273315429688, 125.17137908935547, 150.45909118652344, 87.69251251220703, 127.74227142333984, 170.45066833496094, 207.05633544921875, 200.64044189453125, 174.77880859375, 98.85130310058594, 88.7119140625, 1714.933837890625, 1067.296142578125, 403.6432800292969, 303.0044860839844, 254.77980041503906, 253.4147186279297, 213.84371948242188, 192.21371459960938, 301.5140075683594, 314.6210021972656, 973.4740600585938, 374.589111328125, 608.8169555664062, 117.3015365600586, 797.7929077148438, 80.47600555419922, 109.4842300415039, 194.32908630371094, 80.96363830566406, 395.5216979980469, 235.77548217773438, 87.75350189208984, 402.4372253417969, 90.0146255493164, 103.39972686767578, 67.1383285522461, 167.4350128173828, 48.03593063354492, 73.01395416259766, 48.54096603393555, 548.5849609375, 86.88758850097656, 105.7222671508789, 310.73907470703125, 167.53781127929688, 375.64630126953125, 124.38410186767578, 115.21339416503906, 112.19026184082031, 104.45465087890625, 1193.1685791015625, 255.5807342529297, 180.48728942871094, 114.97222900390625, 375.2606506347656, 2397.1767578125, 557.9075927734375, 411.14324951171875, 546.7003784179688, 177.24354553222656, 59.5671501159668, 2572.424072265625, 120.0123291015625, 111.12423706054688, 109.66053771972656, 1905.4945068359375, 685.6162109375, 105.95047760009766, 53.744049072265625, 27.60112762451172, 31.2927303314209, 68.39326477050781, 31.7996883392334, 668.4769897460938, 45.617061614990234, 13.043403625488281, 15.79019832611084, 86.55628204345703, 51.04361343383789, 0.05337841436266899, 6.999538421630859, 19.346961975097656, 6942.515625, 373.718017578125, 457.4807434082031, 1083.038818359375, 654.9771728515625, 199.83639526367188, 92.38701629638672, 49.74514389038086, 352.2659606933594, 390.10595703125, 269.58209228515625, 69.62445831298828, 618.4309692382812, 74.72785949707031, 983.7166748046875, 130.88670349121094, 18.62158966064453, 31.25865936279297, 21.003620147705078, 75.72505187988281, 18.430238723754883, 59.260459899902344, 0.05935342609882355, 0.059284865856170654, 0.059236034750938416, 0.05925879254937172, 0.05923080816864967, 0.05921551212668419, 0.059229783713817596, 0.05919598415493965, 27.725736618041992, 0.05934160575270653, 0.059299640357494354, 0.059304531663656235, 0.05937383323907852, 0.14738036692142487, 0.059295497834682465, 134.50390625, 122.37409210205078, 96.19705963134766, 188.53857421875, 6464.345703125, 632.3635864257812, 1369.17578125, 129.6178741455078, 78.62239074707031, 48.79128646850586, 2046.8759765625, 308.0442199707031, 43.79924011230469, 89.76432800292969, 158.8132781982422, 36.78864288330078, 151.02064514160156, 32.674129486083984, 254.76669311523438, 48.2786979675293, 17.58544921875, 19.31613540649414, 19.654678344726562, 30.33631134033203, 46.08148956298828, 14.356579780578613, 14.489424705505371, 23.265953063964844, 19.826852798461914, 32.3466682434082, 51.40095901489258, 18.00899314880371, 46.61631774902344, 866.9627075195312, 448.73388671875, 348.9965515136719, 263.38311767578125, 259.2393493652344, 228.1217041015625, 147.60443115234375, 424.787109375, 180.27066040039062, 128.1231689453125, 94.52772521972656, 716.2296142578125, 179.31979370117188, 165.21900939941406, 112.92334747314453, 164.07089233398438, 486.3956604003906, 49.898193359375, 43.34029769897461, 834.0784912109375, 1917.61376953125, 288.45745849609375, 48.86723709106445, 162.01959228515625, 21.19620704650879, 118.56280517578125, 115.11482238769531, 1034.8489990234375, 37.70246887207031, 20.787784576416016, 362.72467041015625, 120.62858581542969, 229.65098571777344, 242.54873657226562, 155.11683654785156, 185.71905517578125, 101.14665222167969, 1149.0997314453125, 510.53912353515625, 303.56195068359375, 249.47459411621094, 242.63145446777344, 152.95762634277344, 120.24937438964844, 497.3789367675781, 294.3772888183594, 138.48873901367188, 135.62318420410156, 265.50897216796875, 105.79351806640625, 373.9317321777344, 255.32334899902344, 222.57826232910156, 71.40992736816406, 93.13530731201172, 251.4976043701172, 268.0539245605469, 107.58902740478516, 181.80191040039062, 133.88648986816406, 48.4526481628418, 47.70158004760742, 367.9085998535156, 50.21891784667969, 43.40247344970703, 113.20966339111328, 42.69204330444336, 193.27825927734375, 1630.54638671875, 165.34181213378906, 134.53073120117188, 245.5801544189453, 283.567138671875, 211.7760009765625, 185.2671661376953, 144.12664794921875, 120.36758422851562, 4594.322265625, 543.5438232421875, 191.713623046875, 183.43080139160156, 174.02513122558594, 158.6882781982422, 146.10287475585938, 446.21820068359375, 97.5908432006836, 391.904052734375, 345.37274169921875, 91.76939392089844, 155.69021606445312, 91.0236587524414, 338.0235290527344, 51.06047439575195, 30.588062286376953, 40.21664810180664, 1155.79736328125, 35.45883560180664, 32.54277420043945, 0.0633622333407402, 0.06333131343126297, 0.06327659636735916, 0.06328171491622925, 0.06328071653842926, 0.0632939413189888, 0.06326855719089508, 0.06334809958934784, 0.06330029666423798, 13.043704986572266, 35.9487419128418, 24.652923583984375, 100.2579574584961, 15.004719734191895, 7.579378128051758, 2.263767957687378, 0.06344480812549591, 0.06337602436542511, 230.63113403320312, 222.2527618408203, 207.12106323242188, 190.4997100830078, 186.30953979492188, 183.7510223388672, 144.83685302734375, 111.5369644165039, 283.025390625, 246.6270294189453, 266.2966003417969, 185.11656188964844, 442.660888671875, 136.3511962890625, 109.66129302978516, 587.7426147460938, 235.7719268798828, 332.4832763671875, 84.6828842163086, 293.5877990722656, 170.07936096191406, 138.86666870117188, 71.1391830444336, 114.49032592773438, 137.67893981933594, 57.71249008178711, 89.6906967163086, 52.24760437011719, 273.9176940917969, 132.89077758789062, 434.12969970703125, 150.70138549804688, 281.2322692871094, 199.56680297851562, 1644.604248046875, 750.3308715820312, 430.8468017578125, 400.62310791015625, 356.3482971191406, 343.9842224121094, 233.13119506835938, 151.9989776611328, 122.53997802734375, 192.03858947753906, 246.59503173828125, 140.69140625, 258.16766357421875, 108.66470336914062, 74.38349151611328, 569.4580078125, 44.158103942871094, 14.247459411621094, 13.878679275512695, 21.3975830078125, 12.865358352661133, 41.035736083984375, 99.15011596679688, 33.382999420166016, 12.256275177001953, 31.080629348754883, 8.639266014099121, 12.636207580566406, 17.370494842529297, 0.06088316813111305, 18.154041290283203, 300.0899963378906, 20.087980270385742, 17.69603157043457], \"Total\": [6943.0, 9369.0, 7405.0, 9366.0, 4595.0, 5179.0, 4923.0, 6340.0, 3369.0, 2870.0, 5812.0, 2587.0, 2592.0, 2309.0, 1645.0, 1897.0, 2128.0, 2351.0, 1715.0, 1807.0, 1959.0, 2421.0, 2062.0, 1150.0, 1194.0, 1528.0, 2444.0, 1320.0, 1068.0, 1130.0, 736.06494140625, 510.9107666015625, 509.3990173339844, 440.6844482421875, 374.9607849121094, 313.7496337890625, 283.63812255859375, 235.49501037597656, 224.68040466308594, 199.56466674804688, 186.08998107910156, 178.78407287597656, 178.4598388671875, 173.3461456298828, 170.8163299560547, 165.93746948242188, 161.54544067382812, 143.04046630859375, 134.12144470214844, 125.72064971923828, 112.50502014160156, 132.8431854248047, 439.2546081542969, 453.6022033691406, 410.8690185546875, 218.9405059814453, 122.64544677734375, 239.1009063720703, 167.30410766601562, 187.34153747558594, 477.4193420410156, 617.2721557617188, 9366.8662109375, 570.9365234375, 578.9205322265625, 647.356689453125, 497.55389404296875, 3223.660888671875, 1104.3974609375, 856.7390747070312, 441.2249450683594, 4923.0, 5812.86669921875, 1835.43115234375, 765.9472045898438, 2908.73291015625, 2444.620361328125, 2592.736572265625, 2062.17724609375, 1403.86181640625, 2592.58740234375, 332.056396484375, 143.8983612060547, 107.76936340332031, 2062.17724609375, 122.2400131225586, 1118.6898193359375, 103.17430877685547, 172.31784057617188, 97.92564392089844, 1034.0068359375, 700.9498901367188, 877.4212646484375, 98.73501586914062, 480.2423095703125, 337.77734375, 9366.8662109375, 227.4290771484375, 158.09475708007812, 147.41766357421875, 277.3365478515625, 165.87921142578125, 395.94384765625, 469.1565246582031, 497.55389404296875, 114.20046997070312, 384.66009521484375, 126.38694763183594, 190.61767578125, 115.0337905883789, 757.3965454101562, 1299.08544921875, 1048.15087890625, 5812.86669921875, 2444.620361328125, 5179.49267578125, 3223.660888671875, 2908.73291015625, 1243.98583984375, 662.9713745117188, 2592.736572265625, 882.5869140625, 2870.996826171875, 838.9902954101562, 734.6723022460938, 256.7004089355469, 1959.71484375, 273.16766357421875, 1528.259765625, 177.8578643798828, 845.0783081054688, 216.7936248779297, 170.0342559814453, 146.7102813720703, 131.50564575195312, 192.71456909179688, 459.92620849609375, 655.229248046875, 296.2144470214844, 936.2880249023438, 636.2307739257812, 291.3238525390625, 417.63897705078125, 171.35519409179688, 2351.222900390625, 370.0637512207031, 295.75189208984375, 184.8717803955078, 816.439697265625, 1056.0650634765625, 1299.08544921875, 574.2578125, 6340.546875, 9369.833984375, 2444.620361328125, 1087.636962890625, 964.4995727539062, 2908.73291015625, 994.0732421875, 4923.0, 926.5492553710938, 597.5189208984375, 7405.2109375, 321.6989440917969, 263.3301086425781, 247.65625, 145.9175567626953, 315.47613525390625, 351.8653869628906, 133.989501953125, 189.62364196777344, 166.42152404785156, 668.7094116210938, 190.75259399414062, 221.5779571533203, 381.2334899902344, 117.5157241821289, 241.94161987304688, 363.0841979980469, 107.69721221923828, 166.75340270996094, 375.1468811035156, 386.0100402832031, 985.7127685546875, 145.9359130859375, 356.7343444824219, 936.2880249023438, 195.28982543945312, 143.8585968017578, 118.6832275390625, 142.50962829589844, 145.5572052001953, 249.0347900390625, 1139.87451171875, 562.185546875, 1297.3873291015625, 812.6666870117188, 3223.660888671875, 1104.3974609375, 1835.43115234375, 4923.0, 9369.833984375, 935.970947265625, 2592.736572265625, 1199.15625, 1320.2554931640625, 1807.0694580078125, 945.66650390625, 284.2016906738281, 204.49342346191406, 191.40335083007812, 178.66004943847656, 166.9909210205078, 163.17771911621094, 120.63602447509766, 112.60210418701172, 165.488037109375, 142.87644958496094, 1235.6571044921875, 218.48362731933594, 401.5236511230469, 102.12593841552734, 220.59115600585938, 324.760986328125, 334.1130065917969, 141.44773864746094, 111.15673828125, 152.70834350585938, 110.59020233154297, 113.50636291503906, 353.16192626953125, 158.53228759765625, 598.987060546875, 189.8996124267578, 213.783447265625, 290.4349670410156, 765.9472045898438, 572.986083984375, 1130.91064453125, 1104.3974609375, 337.7558898925781, 595.6651611328125, 354.9015197753906, 3223.660888671875, 666.5585327148438, 617.7216796875, 2444.620361328125, 2592.736572265625, 1403.86181640625, 1048.15087890625, 5812.86669921875, 2908.73291015625, 882.5869140625, 1957.8076171875, 926.5492553710938, 2587.647705078125, 2309.201416015625, 482.727294921875, 282.56402587890625, 183.4559326171875, 180.04986572265625, 138.33209228515625, 128.87203979492188, 106.76036834716797, 208.433837890625, 509.1761169433594, 150.76303100585938, 311.9636535644531, 711.5450439453125, 300.6867370605469, 113.98296356201172, 992.796630859375, 695.403564453125, 746.8287963867188, 270.0549011230469, 247.27105712890625, 247.7311553955078, 166.20924377441406, 600.5421752929688, 296.9354248046875, 536.5415649414062, 102.63569641113281, 102.12593841552734, 206.8454132080078, 570.9365234375, 6340.546875, 853.85791015625, 1169.9674072265625, 5812.86669921875, 1056.0650634765625, 1957.8076171875, 2592.736572265625, 1087.636962890625, 613.353271484375, 497.1402893066406, 450.0845642089844, 344.4784851074219, 318.0733642578125, 284.2996520996094, 276.2672424316406, 239.663818359375, 225.6080322265625, 211.94786071777344, 206.9330596923828, 206.03770446777344, 192.77110290527344, 136.7689971923828, 129.8157196044922, 126.95818328857422, 121.85680389404297, 120.33808135986328, 281.8930969238281, 120.52484893798828, 158.36959838867188, 1044.1787109375, 333.72906494140625, 524.1257934570312, 177.53346252441406, 206.8454132080078, 175.24813842773438, 123.24776458740234, 317.60784912109375, 179.876708984375, 235.74911499023438, 1403.86181640625, 935.970947265625, 2128.248046875, 3369.292724609375, 3223.660888671875, 4923.0, 1297.3873291015625, 2908.73291015625, 356.7343444824219, 668.0021362304688, 1897.4114990234375, 320.7530517578125, 207.22048950195312, 142.81033325195312, 2128.248046875, 1169.9674072265625, 126.53325653076172, 119.21733093261719, 359.9653015136719, 124.65286254882812, 2351.222900390625, 172.60426330566406, 296.9354248046875, 160.4037322998047, 100.00575256347656, 173.8149871826172, 662.9713745117188, 1835.43115234375, 1403.86181640625, 115.0337905883789, 994.0732421875, 1297.3873291015625, 118.20079803466797, 545.0510864257812, 107.53175354003906, 597.5189208984375, 287.0843505859375, 334.0484313964844, 341.6418762207031, 2908.73291015625, 1299.08544921875, 1048.15087890625, 842.255615234375, 662.5863647460938, 882.5869140625, 407.8151550292969, 985.7127685546875, 1957.8076171875, 3223.660888671875, 6340.546875, 4923.0, 1528.259765625, 1104.3974609375, 1715.8563232421875, 1068.2186279296875, 404.6156005859375, 303.9271240234375, 255.7024383544922, 254.3373565673828, 214.766357421875, 193.1363525390625, 356.6244812011719, 378.0445251464844, 1199.15625, 468.39398193359375, 775.54345703125, 165.59422302246094, 1139.87451171875, 118.6832275390625, 162.7974395751953, 300.861328125, 134.0535430908203, 668.0021362304688, 403.2702941894531, 154.21006774902344, 757.3965454101562, 184.8717803955078, 255.36248779296875, 172.8699188232422, 523.6796264648438, 177.02645874023438, 282.466552734375, 194.54171752929688, 3369.292724609375, 386.0100402832031, 522.9428100585938, 2908.73291015625, 1169.9674072265625, 6340.546875, 746.8287963867188, 812.6666870117188, 985.7127685546875, 1299.08544921875, 1194.0927734375, 256.50506591796875, 181.41163635253906, 115.89656066894531, 453.1924743652344, 3369.292724609375, 816.439697265625, 622.0638427734375, 853.85791015625, 287.0843505859375, 107.12476348876953, 4923.0, 264.6793212890625, 254.949951171875, 280.972412109375, 6340.546875, 2592.736572265625, 452.73809814453125, 300.1844177246094, 190.75259399414062, 222.99691772460938, 522.9428100585938, 255.36248779296875, 5812.86669921875, 422.1570129394531, 148.4082489013672, 205.17103576660156, 1297.3873291015625, 936.2880249023438, 0.9828475117683411, 138.9947052001953, 441.2249450683594, 6943.4326171875, 374.63525390625, 464.54656982421875, 1320.2554931640625, 1344.4637451171875, 491.7802429199219, 237.74615478515625, 136.72267150878906, 985.4878540039062, 1243.98583984375, 877.4212646484375, 264.6793212890625, 2421.955078125, 386.0100402832031, 5179.49267578125, 773.2434692382812, 114.20046997070312, 212.9175262451172, 145.5572052001953, 562.185546875, 190.75259399414062, 935.970947265625, 0.9789984822273254, 0.9781095385551453, 0.9777718782424927, 0.978587806224823, 0.978483259677887, 0.9783139824867249, 0.9786432981491089, 0.9782305359840393, 662.9713745117188, 0.9811282157897949, 0.9804490804672241, 0.9812219738960266, 0.9840672612190247, 370.1446838378906, 0.9830660223960876, 135.4210205078125, 132.72320556640625, 119.1257553100586, 240.56690979003906, 9369.833984375, 985.4878540039062, 2421.955078125, 239.92710876464844, 171.32626342773438, 110.59020233154297, 5179.49267578125, 812.6666870117188, 124.59871673583984, 289.08074951171875, 574.2578125, 148.4082489013672, 773.2434692382812, 171.35519409179688, 1344.4637451171875, 254.949951171875, 97.92564392089844, 115.0337905883789, 124.65286254882812, 234.8304443359375, 393.8687744140625, 124.8709487915039, 134.0535430908203, 228.534423828125, 218.48362731933594, 386.0100402832031, 662.9713745117188, 225.88189697265625, 3223.660888671875, 867.8838500976562, 449.6549377441406, 349.9176025390625, 264.3041687011719, 260.160400390625, 229.0428009033203, 148.52552795410156, 454.3280334472656, 193.91673278808594, 177.02645874023438, 131.70057678222656, 1087.636962890625, 294.6860656738281, 302.62921142578125, 237.74615478515625, 349.00469970703125, 1056.0650634765625, 116.70986938476562, 111.14933776855469, 2444.620361328125, 5812.86669921875, 964.4995727539062, 185.677490234375, 617.7216796875, 101.72541046142578, 572.986083984375, 636.2307739257812, 6340.546875, 235.74911499023438, 138.9947052001953, 2592.736572265625, 856.7390747070312, 1957.8076171875, 2421.955078125, 1835.43115234375, 2908.73291015625, 1243.98583984375, 1150.0145263671875, 511.45404052734375, 304.47686767578125, 250.3895263671875, 243.54638671875, 153.87255859375, 121.16429901123047, 504.5549011230469, 362.1090087890625, 170.5441131591797, 177.59022521972656, 365.76739501953125, 146.21775817871094, 522.09228515625, 379.5128479003906, 370.1446838378906, 120.9417495727539, 164.9495086669922, 469.1565246582031, 523.6796264648438, 212.1543426513672, 393.1819763183594, 289.83447265625, 109.32674407958984, 108.07140350341797, 842.255615234375, 115.41743469238281, 112.23139190673828, 316.7584533691406, 124.8709487915039, 574.2578125, 5179.49267578125, 612.4117431640625, 494.35882568359375, 1344.4637451171875, 3223.660888671875, 1957.8076171875, 1835.43115234375, 2592.736572265625, 1048.15087890625, 4595.2353515625, 544.4569702148438, 192.63436889648438, 184.34396362304688, 174.9404754638672, 159.6014404296875, 183.78439331054688, 612.4117431640625, 163.0416717529297, 666.5585327148438, 595.6651611328125, 170.15805053710938, 372.017578125, 231.83868408203125, 1243.98583984375, 212.9175262451172, 218.9405059814453, 302.62921142578125, 9369.833984375, 300.861328125, 317.60784912109375, 0.9786432981491089, 0.978587806224823, 0.9777718782424927, 0.9780024290084839, 0.9781095385551453, 0.9783139824867249, 0.9782305359840393, 0.9794633984565735, 0.9787513613700867, 202.2314453125, 617.2721557617188, 617.7216796875, 2908.73291015625, 453.6022033691406, 342.581298828125, 182.29855346679688, 0.9840672612190247, 0.9812219738960266, 231.54885864257812, 223.1704864501953, 208.03878784179688, 191.4174346923828, 187.22726440429688, 184.6687469482422, 145.75457763671875, 112.45467376708984, 287.7189636230469, 302.4052734375, 331.301025390625, 235.57215881347656, 566.3252563476562, 198.53306579589844, 160.88766479492188, 926.5492553710938, 375.1468811035156, 536.5415649414062, 142.36891174316406, 494.35882568359375, 295.45770263671875, 242.39804077148438, 129.3029327392578, 222.99691772460938, 282.466552734375, 129.80690002441406, 213.91799926757812, 142.50962829589844, 773.2434692382812, 385.50213623046875, 1957.8076171875, 856.7390747070312, 5812.86669921875, 2908.73291015625, 1645.520263671875, 751.2468872070312, 431.7628173828125, 401.55328369140625, 357.2643127441406, 344.9002380371094, 234.0471954345703, 152.91497802734375, 124.13111114501953, 246.72775268554688, 317.4729919433594, 187.56851196289062, 407.8151550292969, 195.28982543945312, 145.9359130859375, 1130.91064453125, 143.02432250976562, 112.23139190673828, 111.15673828125, 189.41537475585938, 115.41743469238281, 379.5128479003906, 935.970947265625, 317.60784912109375, 126.38694763183594, 384.66009521484375, 120.87751770019531, 179.876708984375, 277.3365478515625, 0.9811282157897949, 295.75189208984375, 6340.546875, 381.2334899902344, 341.6418762207031], \"Category\": [\"Default\", \"Default\", \"Default\", \"Default\", \"Default\", \"Default\", \"Default\", \"Default\", \"Default\", \"Default\", \"Default\", \"Default\", \"Default\", \"Default\", \"Default\", \"Default\", \"Default\", \"Default\", \"Default\", \"Default\", \"Default\", \"Default\", \"Default\", \"Default\", \"Default\", \"Default\", \"Default\", \"Default\", \"Default\", \"Default\", \"Topic1\", \"Topic1\", \"Topic1\", \"Topic1\", \"Topic1\", \"Topic1\", \"Topic1\", \"Topic1\", \"Topic1\", \"Topic1\", \"Topic1\", \"Topic1\", \"Topic1\", \"Topic1\", \"Topic1\", \"Topic1\", \"Topic1\", \"Topic1\", \"Topic1\", \"Topic1\", \"Topic1\", \"Topic1\", \"Topic1\", \"Topic1\", \"Topic1\", \"Topic1\", \"Topic1\", \"Topic1\", \"Topic1\", \"Topic1\", \"Topic1\", \"Topic1\", \"Topic1\", \"Topic1\", \"Topic1\", \"Topic1\", \"Topic1\", \"Topic1\", \"Topic1\", \"Topic1\", \"Topic1\", \"Topic1\", \"Topic1\", \"Topic1\", \"Topic1\", \"Topic1\", \"Topic1\", \"Topic1\", \"Topic1\", \"Topic1\", \"Topic2\", \"Topic2\", \"Topic2\", \"Topic2\", \"Topic2\", \"Topic2\", \"Topic2\", \"Topic2\", \"Topic2\", \"Topic2\", \"Topic2\", \"Topic2\", \"Topic2\", \"Topic2\", \"Topic2\", \"Topic2\", \"Topic2\", \"Topic2\", \"Topic2\", \"Topic2\", \"Topic2\", \"Topic2\", \"Topic2\", \"Topic2\", \"Topic2\", \"Topic2\", \"Topic2\", \"Topic2\", \"Topic2\", \"Topic2\", \"Topic2\", \"Topic2\", \"Topic2\", \"Topic2\", \"Topic2\", \"Topic2\", \"Topic2\", \"Topic2\", \"Topic2\", \"Topic2\", \"Topic2\", \"Topic2\", \"Topic3\", \"Topic3\", \"Topic3\", \"Topic3\", \"Topic3\", \"Topic3\", \"Topic3\", \"Topic3\", \"Topic3\", \"Topic3\", \"Topic3\", \"Topic3\", \"Topic3\", \"Topic3\", \"Topic3\", \"Topic3\", \"Topic3\", \"Topic3\", \"Topic3\", \"Topic3\", \"Topic3\", \"Topic3\", \"Topic3\", \"Topic3\", \"Topic3\", \"Topic3\", \"Topic3\", \"Topic3\", \"Topic3\", \"Topic3\", \"Topic3\", \"Topic3\", \"Topic3\", \"Topic3\", \"Topic3\", \"Topic3\", \"Topic3\", \"Topic3\", \"Topic3\", \"Topic3\", \"Topic4\", \"Topic4\", \"Topic4\", \"Topic4\", \"Topic4\", \"Topic4\", \"Topic4\", \"Topic4\", \"Topic4\", \"Topic4\", \"Topic4\", \"Topic4\", \"Topic4\", \"Topic4\", \"Topic4\", \"Topic4\", \"Topic4\", \"Topic4\", \"Topic4\", \"Topic4\", \"Topic4\", \"Topic4\", \"Topic4\", \"Topic4\", \"Topic4\", \"Topic4\", \"Topic4\", \"Topic4\", \"Topic4\", \"Topic4\", \"Topic4\", \"Topic4\", \"Topic4\", \"Topic4\", \"Topic4\", \"Topic4\", \"Topic4\", \"Topic4\", \"Topic4\", \"Topic4\", \"Topic4\", \"Topic4\", \"Topic4\", \"Topic4\", \"Topic5\", \"Topic5\", \"Topic5\", \"Topic5\", \"Topic5\", \"Topic5\", \"Topic5\", \"Topic5\", \"Topic5\", \"Topic5\", \"Topic5\", \"Topic5\", \"Topic5\", \"Topic5\", \"Topic5\", \"Topic5\", \"Topic5\", \"Topic5\", \"Topic5\", \"Topic5\", \"Topic5\", \"Topic5\", \"Topic5\", \"Topic5\", \"Topic5\", \"Topic5\", \"Topic5\", \"Topic5\", \"Topic5\", \"Topic5\", \"Topic5\", \"Topic5\", \"Topic5\", \"Topic5\", \"Topic5\", \"Topic5\", \"Topic5\", \"Topic5\", \"Topic5\", \"Topic5\", \"Topic5\", \"Topic5\", \"Topic5\", \"Topic5\", \"Topic5\", \"Topic5\", \"Topic5\", \"Topic5\", \"Topic5\", \"Topic6\", \"Topic6\", \"Topic6\", \"Topic6\", \"Topic6\", \"Topic6\", \"Topic6\", \"Topic6\", \"Topic6\", \"Topic6\", \"Topic6\", \"Topic6\", \"Topic6\", \"Topic6\", \"Topic6\", \"Topic6\", \"Topic6\", \"Topic6\", \"Topic6\", \"Topic6\", \"Topic6\", \"Topic6\", \"Topic6\", \"Topic6\", \"Topic6\", \"Topic6\", \"Topic6\", \"Topic6\", \"Topic6\", \"Topic6\", \"Topic6\", \"Topic6\", \"Topic6\", \"Topic6\", \"Topic6\", \"Topic6\", \"Topic6\", \"Topic6\", \"Topic7\", \"Topic7\", \"Topic7\", \"Topic7\", \"Topic7\", \"Topic7\", \"Topic7\", \"Topic7\", \"Topic7\", \"Topic7\", \"Topic7\", \"Topic7\", \"Topic7\", \"Topic7\", \"Topic7\", \"Topic7\", \"Topic7\", \"Topic7\", \"Topic7\", \"Topic7\", \"Topic7\", \"Topic7\", \"Topic7\", \"Topic7\", \"Topic7\", \"Topic7\", \"Topic7\", \"Topic7\", \"Topic7\", \"Topic7\", \"Topic7\", \"Topic7\", \"Topic7\", \"Topic7\", \"Topic7\", \"Topic7\", \"Topic7\", \"Topic7\", \"Topic7\", \"Topic7\", \"Topic7\", \"Topic8\", \"Topic8\", \"Topic8\", \"Topic8\", \"Topic8\", \"Topic8\", \"Topic8\", \"Topic8\", \"Topic8\", \"Topic8\", \"Topic8\", \"Topic8\", \"Topic8\", \"Topic8\", \"Topic8\", \"Topic8\", \"Topic8\", \"Topic8\", \"Topic8\", \"Topic8\", \"Topic8\", \"Topic8\", \"Topic8\", \"Topic8\", \"Topic8\", \"Topic8\", \"Topic8\", \"Topic8\", \"Topic8\", \"Topic8\", \"Topic8\", \"Topic8\", \"Topic8\", \"Topic8\", \"Topic8\", \"Topic8\", \"Topic8\", \"Topic8\", \"Topic8\", \"Topic8\", \"Topic8\", \"Topic8\", \"Topic8\", \"Topic9\", \"Topic9\", \"Topic9\", \"Topic9\", \"Topic9\", \"Topic9\", \"Topic9\", \"Topic9\", \"Topic9\", \"Topic9\", \"Topic9\", \"Topic9\", \"Topic9\", \"Topic9\", \"Topic9\", \"Topic9\", \"Topic9\", \"Topic9\", \"Topic9\", \"Topic9\", \"Topic9\", \"Topic9\", \"Topic9\", \"Topic9\", \"Topic9\", \"Topic9\", \"Topic9\", \"Topic9\", \"Topic9\", \"Topic9\", \"Topic9\", \"Topic9\", \"Topic9\", \"Topic9\", \"Topic9\", \"Topic9\", \"Topic9\", \"Topic9\", \"Topic9\", \"Topic9\", \"Topic10\", \"Topic10\", \"Topic10\", \"Topic10\", \"Topic10\", \"Topic10\", \"Topic10\", \"Topic10\", \"Topic10\", \"Topic10\", \"Topic10\", \"Topic10\", \"Topic10\", \"Topic10\", \"Topic10\", \"Topic10\", \"Topic10\", \"Topic10\", \"Topic10\", \"Topic10\", \"Topic10\", \"Topic10\", \"Topic10\", \"Topic10\", \"Topic10\", \"Topic10\", \"Topic10\", \"Topic10\", \"Topic10\", \"Topic10\", \"Topic10\", \"Topic10\", \"Topic11\", \"Topic11\", \"Topic11\", \"Topic11\", \"Topic11\", \"Topic11\", \"Topic11\", \"Topic11\", \"Topic11\", \"Topic11\", \"Topic11\", \"Topic11\", \"Topic11\", \"Topic11\", \"Topic11\", \"Topic11\", \"Topic11\", \"Topic11\", \"Topic11\", \"Topic11\", \"Topic11\", \"Topic11\", \"Topic11\", \"Topic11\", \"Topic11\", \"Topic11\", \"Topic11\", \"Topic11\", \"Topic11\", \"Topic11\", \"Topic11\", \"Topic11\", \"Topic11\", \"Topic11\", \"Topic11\", \"Topic11\", \"Topic11\", \"Topic12\", \"Topic12\", \"Topic12\", \"Topic12\", \"Topic12\", \"Topic12\", \"Topic12\", \"Topic12\", \"Topic12\", \"Topic12\", \"Topic12\", \"Topic12\", \"Topic12\", \"Topic12\", \"Topic12\", \"Topic12\", \"Topic12\", \"Topic12\", \"Topic12\", \"Topic12\", \"Topic12\", \"Topic12\", \"Topic12\", \"Topic12\", \"Topic12\", \"Topic12\", \"Topic12\", \"Topic12\", \"Topic12\", \"Topic12\", \"Topic12\", \"Topic12\", \"Topic12\", \"Topic13\", \"Topic13\", \"Topic13\", \"Topic13\", \"Topic13\", \"Topic13\", \"Topic13\", \"Topic13\", \"Topic13\", \"Topic13\", \"Topic13\", \"Topic13\", \"Topic13\", \"Topic13\", \"Topic13\", \"Topic13\", \"Topic13\", \"Topic13\", \"Topic13\", \"Topic13\", \"Topic13\", \"Topic13\", \"Topic13\", \"Topic13\", \"Topic13\", \"Topic13\", \"Topic13\", \"Topic13\", \"Topic13\", \"Topic13\", \"Topic13\", \"Topic13\", \"Topic13\", \"Topic13\", \"Topic13\", \"Topic13\", \"Topic13\", \"Topic14\", \"Topic14\", \"Topic14\", \"Topic14\", \"Topic14\", \"Topic14\", \"Topic14\", \"Topic14\", \"Topic14\", \"Topic14\", \"Topic14\", \"Topic14\", \"Topic14\", \"Topic14\", \"Topic14\", \"Topic14\", \"Topic14\", \"Topic14\", \"Topic14\", \"Topic14\", \"Topic14\", \"Topic14\", \"Topic14\", \"Topic14\", \"Topic14\", \"Topic14\", \"Topic14\", \"Topic14\", \"Topic14\", \"Topic14\", \"Topic14\", \"Topic14\", \"Topic14\", \"Topic14\", \"Topic14\", \"Topic14\", \"Topic14\", \"Topic14\", \"Topic14\", \"Topic14\", \"Topic15\", \"Topic15\", \"Topic15\", \"Topic15\", \"Topic15\", \"Topic15\", \"Topic15\", \"Topic15\", \"Topic15\", \"Topic15\", \"Topic15\", \"Topic15\", \"Topic15\", \"Topic15\", \"Topic15\", \"Topic15\", \"Topic15\", \"Topic15\", \"Topic15\", \"Topic15\", \"Topic15\", \"Topic15\", \"Topic15\", \"Topic15\", \"Topic15\", \"Topic15\", \"Topic15\", \"Topic15\", \"Topic15\", \"Topic15\", \"Topic15\", \"Topic15\", \"Topic15\", \"Topic15\", \"Topic15\", \"Topic15\", \"Topic15\", \"Topic15\", \"Topic15\", \"Topic16\", \"Topic16\", \"Topic16\", \"Topic16\", \"Topic16\", \"Topic16\", \"Topic16\", \"Topic16\", \"Topic16\", \"Topic16\", \"Topic16\", \"Topic16\", \"Topic16\", \"Topic16\", \"Topic16\", \"Topic16\", \"Topic16\", \"Topic16\", \"Topic16\", \"Topic16\", \"Topic16\", \"Topic16\", \"Topic16\", \"Topic16\", \"Topic16\", \"Topic16\", \"Topic16\", \"Topic16\", \"Topic16\", \"Topic16\", \"Topic16\", \"Topic16\", \"Topic16\", \"Topic16\", \"Topic17\", \"Topic17\", \"Topic17\", \"Topic17\", \"Topic17\", \"Topic17\", \"Topic17\", \"Topic17\", \"Topic17\", \"Topic17\", \"Topic17\", \"Topic17\", \"Topic17\", \"Topic17\", \"Topic17\", \"Topic17\", \"Topic17\", \"Topic17\", \"Topic17\", \"Topic17\", \"Topic17\", \"Topic17\", \"Topic17\", \"Topic17\", \"Topic17\", \"Topic17\", \"Topic17\", \"Topic17\", \"Topic17\", \"Topic17\", \"Topic17\", \"Topic17\", \"Topic17\", \"Topic17\"], \"logprob\": [30.0, 29.0, 28.0, 27.0, 26.0, 25.0, 24.0, 23.0, 22.0, 21.0, 20.0, 19.0, 18.0, 17.0, 16.0, 15.0, 14.0, 13.0, 12.0, 11.0, 10.0, 9.0, 8.0, 7.0, 6.0, 5.0, 4.0, 3.0, 2.0, 1.0, -3.822499990463257, -4.1880998611450195, -4.191100120544434, -4.336299896240234, -4.498199939727783, -4.6768999099731445, -4.77810001373291, -4.964700222015381, -5.011899948120117, -5.13100004196167, -5.201200008392334, -5.241499900817871, -5.243299961090088, -5.272500038146973, -5.287300109863281, -5.316400051116943, -5.343400001525879, -5.465799808502197, -5.530600070953369, -5.595699787139893, -5.707699775695801, -5.5665998458862305, -4.413599967956543, -4.447000026702881, -4.553699970245361, -5.188700199127197, -5.80709981918335, -5.141600131988525, -5.499100208282471, -5.394199848175049, -4.479100227355957, -4.247300148010254, -2.1282999515533447, -4.50439977645874, -4.516900062561035, -4.442999839782715, -4.741099834442139, -3.698199987411499, -4.394800186157227, -4.529399871826172, -4.863500118255615, -3.75819993019104, -3.774199962615967, -4.33620023727417, -4.747000217437744, -4.32480001449585, -4.418499946594238, -4.5208001136779785, -4.782700061798096, -4.84250020980835, -2.0773000717163086, -4.133999824523926, -4.973800182342529, -5.331600189208984, -2.452199935913086, -5.292600154876709, -3.08489990234375, -5.557700157165527, -5.052999973297119, -5.647500038146973, -3.302999973297119, -3.703399896621704, -3.5280001163482666, -5.733699798583984, -4.2515997886657715, -4.613500118255615, -1.3488999605178833, -5.146100044250488, -5.561800003051758, -5.668799877166748, -5.075699806213379, -5.65310001373291, -4.791900157928467, -4.6722002029418945, -4.621699810028076, -6.115099906921387, -4.952700138092041, -6.081600189208984, -5.697999954223633, -6.248700141906738, -4.473299980163574, -4.263700008392334, -4.445899963378906, -3.2090001106262207, -3.8401999473571777, -3.687299966812134, -4.146500110626221, -4.463200092315674, -4.840700149536133, -5.2291998863220215, -5.095900058746338, -5.270199775695801, -1.9485000371932983, -3.179500102996826, -3.3125, -4.3881001472473145, -2.374799966812134, -4.359399795532227, -2.646199941635132, -4.900199890136719, -3.395900011062622, -4.782899856567383, -5.089799880981445, -5.249800205230713, -5.381400108337402, -5.017199993133545, -4.150599956512451, -3.8482000827789307, -4.652699947357178, -3.6161000728607178, -4.078800201416016, -4.861800193786621, -4.52370023727417, -5.6097002029418945, -3.0192999839782715, -4.9415998458862305, -5.171000003814697, -5.669000148773193, -4.359000205993652, -4.124499797821045, -4.0355000495910645, -4.896200180053711, -2.8529999256134033, -2.9547998905181885, -3.950200080871582, -4.598100185394287, -4.7322001457214355, -4.418799877166748, -4.7571001052856445, -4.523600101470947, -4.838900089263916, -4.890699863433838, -0.9524000287055969, -4.0914998054504395, -4.292300224304199, -4.353899955749512, -4.885499954223633, -4.178599834442139, -4.104899883270264, -5.0854997634887695, -4.910699844360352, -5.0482001304626465, -3.7076001167297363, -5.012400150299072, -4.877099990844727, -4.376999855041504, -5.574999809265137, -4.902599811553955, -4.529399871826172, -5.773499965667725, -5.472700119018555, -4.931300163269043, -4.9344000816345215, -4.004799842834473, -5.938700199127197, -5.05109977722168, -4.1296000480651855, -5.703000068664551, -6.048299789428711, -6.242300033569336, -6.084499835968018, -6.066800117492676, -5.587900161743164, -4.2758002281188965, -4.893799781799316, -4.201700210571289, -4.632500171661377, -3.5450000762939453, -4.424300193786621, -4.073500156402588, -3.4719998836517334, -3.3397998809814453, -4.5868000984191895, -4.507900238037109, -4.717199802398682, -4.757500171661377, -2.3206000328063965, -2.9686999320983887, -4.1732001304626465, -4.503600120544434, -4.570000171661377, -4.6392998695373535, -4.707200050354004, -4.730400085449219, -5.034800052642822, -5.104000091552734, -4.7652997970581055, -4.916399955749512, -2.7936999797821045, -4.7795000076293945, -4.19350004196167, -5.575799942016602, -4.809899806976318, -4.451300144195557, -4.437900066375732, -5.364099979400635, -5.620100021362305, -5.347799777984619, -5.709799766540527, -5.685400009155273, -4.563600063323975, -5.398499965667725, -4.071899890899658, -5.225399971008301, -5.149499893188477, -4.864099979400635, -3.92549991607666, -4.320799827575684, -3.767899990081787, -3.905600070953369, -4.829800128936768, -4.510900020599365, -4.855199813842773, -3.5964999198913574, -4.514500141143799, -4.56850004196167, -3.8986001014709473, -4.117300033569336, -4.3927001953125, -4.552000045776367, -4.216400146484375, -4.4369001388549805, -4.630000114440918, -4.554800033569336, -4.641900062561035, -1.9244999885559082, -2.0383999347686768, -3.60509991645813, -4.142000198364258, -4.575699806213379, -4.594600200653076, -4.8597002029418945, -4.931000232696533, -5.120800018310547, -4.517600059509277, -3.640500068664551, -4.908199787139893, -4.23769998550415, -3.467600107192993, -4.331500053405762, -5.339099884033203, -3.175800085067749, -3.6366000175476074, -3.5776000022888184, -4.620100021362305, -4.740799903869629, -4.873799800872803, -5.3790998458862305, -4.099899768829346, -4.892099857330322, -4.468500137329102, -6.317399978637695, -6.331399917602539, -5.750500202178955, -4.757500171661377, -2.56820011138916, -4.442699909210205, -4.189799785614014, -2.809999942779541, -4.2891998291015625, -3.8575000762939453, -4.0742998123168945, -4.660299777984619, -3.210900068283081, -3.421299934387207, -3.520900011062622, -3.7890000343322754, -3.8689000606536865, -3.9814999103546143, -4.010300159454346, -4.152900218963623, -4.213600158691406, -4.276299953460693, -4.3003997802734375, -4.304699897766113, -4.371600151062012, -4.716800212860107, -4.7692999839782715, -4.7916998863220215, -4.833099842071533, -4.845699787139893, -4.089700222015381, -4.94189977645874, -4.693399906158447, -2.8296000957489014, -4.0040998458862305, -3.661600112915039, -4.748199939727783, -4.6203999519348145, -4.895400047302246, -5.250100135803223, -4.322000026702881, -4.904300212860107, -4.690400123596191, -3.613300085067749, -3.970900058746338, -3.5692999362945557, -3.5820000171661377, -3.624500036239624, -3.469599962234497, -4.033299922943115, -4.177499771118164, -4.619699954986572, -4.546899795532227, -1.999400019645691, -3.7792999744415283, -4.217800140380859, -4.592100143432617, -2.1106998920440674, -2.9498000144958496, -5.192500114440918, -5.252799987792969, -4.154600143432617, -5.257900238037109, -2.3269999027252197, -4.989200115203857, -4.453199863433838, -5.164400100708008, -5.804699897766113, -5.269800186157227, -4.0005998611450195, -3.0548999309539795, -3.330399990081787, -5.841800212860107, -3.724100112915039, -3.5069000720977783, -6.002799987792969, -4.52810001373291, -6.171500205993652, -4.477700233459473, -5.253699779510498, -5.184800148010254, -5.168300151824951, -3.0920000076293945, -4.02400016784668, -4.265699863433838, -4.465199947357178, -4.717400074005127, -4.533400058746338, -5.073299884796143, -4.6971001625061035, -4.408699989318848, -4.214099884033203, -4.24560022354126, -4.383600234985352, -4.953499794006348, -5.061699867248535, -2.0583999156951904, -2.5327000617980957, -3.505000114440918, -3.791800022125244, -3.9651999473571777, -3.9704999923706055, -4.1402997970581055, -4.247000217437744, -3.796799898147583, -3.754199981689453, -2.6247000694274902, -3.579699993133545, -3.094099998474121, -4.740799903869629, -2.823699951171875, -5.117599964141846, -4.809800148010254, -4.236000061035156, -5.111599922180176, -3.525399923324585, -4.042699813842773, -5.031000137329102, -3.507999897003174, -5.0055999755859375, -4.867000102996826, -5.298799991607666, -4.385000228881836, -5.633600234985352, -5.214900016784668, -5.623199939727783, -3.198199987411499, -5.040999889373779, -4.844799995422363, -3.7665998935699463, -4.384399890899658, -3.576900005340576, -4.682199954986572, -4.758800029754639, -4.785399913787842, -4.856800079345703, -2.392199993133545, -3.933000087738037, -4.280900001525879, -4.731800079345703, -3.5488998889923096, -1.6944999694824219, -3.1522998809814453, -3.4576001167297363, -3.172600030899048, -4.298999786376953, -5.389400005340576, -1.623900055885315, -4.688899993896484, -4.765900135040283, -4.779099941253662, -1.9240000247955322, -2.946199893951416, -4.813600063323975, -5.492300033569336, -6.158699989318848, -6.033100128173828, -5.251299858093262, -6.017099857330322, -2.9714999198913574, -5.656300067901611, -6.908299922943115, -6.717100143432617, -5.015699863433838, -5.543900012969971, -12.406900405883789, -7.530700206756592, -6.513999938964844, -0.6290000081062317, -3.5508999824523926, -3.3487000465393066, -2.4869000911712646, -2.989799976348877, -4.177000045776367, -4.948500156402588, -5.567500114440918, -3.610100030899048, -3.507999897003174, -3.8775999546051025, -5.231299877166748, -3.047300100326538, -5.160600185394287, -2.5831000804901123, -4.600100040435791, -6.550099849700928, -6.032199859619141, -6.429800033569336, -5.147299766540527, -6.560500144958496, -5.392499923706055, -12.298700332641602, -12.29990005493164, -12.300700187683105, -12.300299644470215, -12.300800323486328, -12.300999641418457, -12.300800323486328, -12.301400184631348, -6.152100086212158, -12.29889965057373, -12.299599647521973, -12.299500465393066, -12.298399925231934, -11.389200210571289, -12.299699783325195, -4.557799816131592, -4.652299880981445, -4.89300012588501, -4.220099925994873, -0.6854000091552734, -3.009999990463257, -2.237499952316284, -4.594799995422363, -5.094799995422363, -5.571899890899658, -1.8352999687194824, -3.7291998863220215, -5.679800033569336, -4.962200164794922, -4.39169979095459, -5.8541998863220215, -4.441999912261963, -5.972799777984619, -3.919100046157837, -5.582399845123291, -6.592299938201904, -6.498499870300293, -6.481100082397461, -6.047100067138672, -5.629000186920166, -6.795199871063232, -6.785999774932861, -6.312399864196777, -6.472400188446045, -5.982900142669678, -5.519800186157227, -6.56850004196167, -5.617499828338623, -2.6122000217437744, -3.2708001136779785, -3.522200107574463, -3.8036000728607178, -3.819499969482422, -3.9474000930786133, -4.382699966430664, -3.325700044631958, -4.182799816131592, -4.5243000984191895, -4.828400135040283, -2.8032000064849854, -4.1880998611450195, -4.269999980926514, -4.6504998207092285, -4.276899814605713, -3.190200090408325, -5.467299938201904, -5.6082000732421875, -2.650899887084961, -1.8184000253677368, -3.7126998901367188, -5.488100051879883, -4.2895002365112305, -6.323400020599365, -4.601799964904785, -4.63129997253418, -2.4351999759674072, -5.747499942779541, -6.342899799346924, -3.483599901199341, -4.584499835968018, -3.940700054168701, -3.885999917984009, -4.333099842071533, -4.1529998779296875, -4.760700225830078, -2.3152999877929688, -3.1266000270843506, -3.6465001106262207, -3.8427000045776367, -3.870500087738037, -4.331900119781494, -4.572500228881836, -3.1526999473571777, -3.6772000789642334, -4.431300163269043, -4.452199935913086, -3.780400037765503, -4.7006001472473145, -3.437999963760376, -3.819499969482422, -3.9567999839782715, -5.093599796295166, -4.828000068664551, -3.8345999717712402, -3.770900011062622, -4.683700084686279, -4.15910005569458, -4.465099811553955, -5.481500148773193, -5.497099876403809, -3.454200029373169, -5.445700168609619, -5.5914998054504395, -4.632800102233887, -5.607999801635742, -4.097899913787842, -1.965399980545044, -4.254000186920166, -4.460299968719482, -3.8584001064300537, -3.714600086212158, -4.006499767303467, -4.140200138092041, -4.39139986038208, -4.571499824523926, -0.7289000153541565, -2.8633999824523926, -3.9054999351501465, -3.9495999813079834, -4.002299785614014, -4.0945000648498535, -4.177199840545654, -3.060699939727783, -4.580699920654297, -3.1903998851776123, -3.316800117492676, -4.642199993133545, -4.11359977722168, -4.650300025939941, -3.3382999897003174, -5.228499889373779, -5.740900039672852, -5.467199802398682, -2.1089000701904297, -5.593100070953369, -5.678899765014648, -11.92039966583252, -11.92080020904541, -11.921699523925781, -11.921600341796875, -11.921600341796875, -11.92140007019043, -11.921799659729004, -11.920599937438965, -11.921299934387207, -6.593200206756592, -5.579400062561035, -5.956600189208984, -4.553699970245361, -6.453100204467773, -7.136000156402588, -8.344400405883789, -11.918999671936035, -11.920100212097168, -3.5982000827789307, -3.635200023651123, -3.705699920654297, -3.789400100708008, -3.8115999698638916, -3.825500011444092, -4.063399791717529, -4.324699878692627, -3.3935000896453857, -3.5311999320983887, -3.454400062561035, -3.8180999755859375, -2.946199893951416, -4.123799800872803, -4.341700077056885, -2.6628000736236572, -3.576200008392334, -3.2325000762939453, -4.600100040435791, -3.3568999767303467, -3.9028000831604004, -4.105500221252441, -4.774400234222412, -4.298600196838379, -4.114099979400635, -4.98360013961792, -4.542699813842773, -5.083099842071533, -3.4261999130249023, -4.149499893188477, -2.9656999111175537, -4.02370023727417, -3.399899959564209, -3.7428998947143555, -1.420799970626831, -2.2054998874664307, -2.7602999210357666, -2.8329999446868896, -2.9500999450683594, -2.9853999614715576, -3.3743999004364014, -3.8022000789642334, -4.017600059509277, -3.5683000087738037, -3.3183000087738037, -3.879499912261963, -3.27239990234375, -4.137800216674805, -4.5167999267578125, -2.481300115585327, -5.0381999015808105, -6.169400215148926, -6.195700168609619, -5.762700080871582, -6.271500110626221, -5.111599922180176, -4.229400157928467, -5.317999839782715, -6.320000171661377, -5.389400005340576, -6.6697001457214355, -6.2895002365112305, -5.97130012512207, -11.624799728393555, -5.92710018157959, -3.1219000816345215, -5.825900077819824, -5.952700138092041], \"loglift\": [30.0, 29.0, 28.0, 27.0, 26.0, 25.0, 24.0, 23.0, 22.0, 21.0, 20.0, 19.0, 18.0, 17.0, 16.0, 15.0, 14.0, 13.0, 12.0, 11.0, 10.0, 9.0, 8.0, 7.0, 6.0, 5.0, 4.0, 3.0, 2.0, 1.0, 2.04259991645813, 2.042099952697754, 2.042099952697754, 2.041800022125244, 2.0413999557495117, 2.0408999919891357, 2.040600061416626, 2.0399999618530273, 2.039799928665161, 2.039299964904785, 2.0390000343322754, 2.038800001144409, 2.0387001037597656, 2.038599967956543, 2.0385000705718994, 2.0383999347686768, 2.0381999015808105, 2.0374999046325684, 2.037100076675415, 2.036600112915039, 2.0357000827789307, 2.010699987411499, 1.9677000045776367, 1.9021999835968018, 1.8944000005722046, 1.8889000415802002, 1.850000023841858, 1.8479000329971313, 1.847499966621399, 1.8393000364303589, 1.8188999891281128, 1.7937999963760376, 1.1931999921798706, 1.6146999597549438, 1.5882999897003174, 1.5505000352859497, 1.5155999660491943, 0.6899999976158142, 1.0645999908447266, 1.183899998664856, 1.5132999420166016, 0.20659999549388885, 0.024299999698996544, 0.6151999831199646, 1.0782999992370605, 0.16609999537467957, 0.24629999697208405, 0.08510000258684158, 0.05209999904036522, 0.37700000405311584, 2.528700113296509, 2.527100086212158, 2.5234999656677246, 2.4547998905181885, 2.382699966430664, 2.367799997329712, 2.361599922180176, 2.2723000049591064, 2.2641000747680664, 2.2346999645233154, 2.2221999168395996, 2.2105000019073486, 2.161400079727173, 2.1403000354766846, 2.0404999256134033, 2.0304999351501465, 1.972599983215332, 1.893399953842163, 1.8414000272750854, 1.8042999505996704, 1.7654999494552612, 1.7020000219345093, 1.6933000087738037, 1.6432000398635864, 1.6349999904632568, 1.6133999824523926, 1.5613000392913818, 1.5454000234603882, 1.5181000232696533, 1.472499966621399, 1.3631999492645264, 1.0333000421524048, 1.0657999515533447, 0.5896000266075134, 0.8245000243186951, 0.22669999301433563, 0.24160000681877136, 0.027699999511241913, 0.49959999322891235, 0.7404000163078308, -0.49000000953674316, 0.4133000075817108, 2.5553998947143555, 2.5546998977661133, 2.554500102996826, 2.530400037765503, 2.510999917984009, 2.4969000816345215, 2.488300085067749, 2.385200023651123, 2.3310999870300293, 2.304500102996826, 2.240600109100342, 2.228100061416626, 2.205899953842163, 2.187999963760376, 2.1847000122070312, 2.13319993019104, 2.1226999759674072, 2.0083999633789062, 1.9321000576019287, 1.9301999807357788, 1.9081000089645386, 1.7130000591278076, 1.684399962425232, 1.6110999584197998, 1.6059000492095947, 1.5777000188827515, 1.402400016784668, 1.3796000480651855, 1.2615000009536743, 1.2172000408172607, 0.8586999773979187, 0.36629998683929443, 0.7146000266075134, 0.8765000104904175, 0.8626000285148621, 0.07209999859333038, 0.8075000047683716, -0.558899998664856, 0.7960000038146973, 1.1829999685287476, 2.604099988937378, 2.601300001144409, 2.6006999015808105, 2.6005001068115234, 2.5978000164031982, 2.5336999893188477, 2.498199939727783, 2.483099937438965, 2.3106000423431396, 2.3036999702453613, 2.253499984741211, 2.2030999660491943, 2.188499927520752, 2.1459999084472656, 2.124799966812134, 2.075200080871582, 2.04229998588562, 2.0136001110076904, 1.8770999908447266, 1.607800006866455, 1.5760999917984009, 1.5681999921798706, 1.5444999933242798, 1.5384000539779663, 1.4948999881744385, 1.4888999462127686, 1.4493000507354736, 1.447700023651123, 1.4225000143051147, 1.4190000295639038, 1.3609000444412231, 1.151900053024292, 1.2408000230789185, 1.09660005569458, 1.1335999965667725, 0.8431000113487244, 1.035099983215332, 0.8779000043869019, 0.4927000105381012, -0.018699999898672104, 1.0379999876022339, 0.09799999743700027, 0.6597999930381775, 0.5232999920845032, 2.6463000774383545, 2.6458001136779785, 2.6435999870300293, 2.6422998905181885, 2.6419999599456787, 2.6415998935699463, 2.6412999629974365, 2.6410999298095703, 2.6387999057769775, 2.6386001110076904, 2.5922000408172607, 2.5880000591278076, 2.553299903869629, 2.3001999855041504, 2.2776999473571777, 2.264400005340576, 2.260200023651123, 2.2320001125335693, 2.2170000076293945, 2.150399923324585, 2.1352999210357666, 2.0899999141693115, 2.050800085067749, 2.049099922180176, 2.035900115966797, 2.002000093460083, 1.9993000030517578, 1.9945000410079956, 1.9519000053405762, 1.930899977684021, 1.8997999429702759, 1.794700026512146, 1.6677000522613525, 1.5536999702453613, 1.8142999410629272, 1.5657999515533447, 1.739400029182434, 0.7915999889373779, 1.4496999979019165, 1.4718999862670898, 0.7660999894142151, 0.4887000024318695, 0.82669997215271, 0.9595999717712402, -0.4178999960422516, 0.05400000140070915, 1.0535000562667847, 0.3319999873638153, 0.9929999709129333, 2.6833999156951904, 2.683300018310547, 2.68179988861084, 2.680500030517578, 2.6786999702453613, 2.6786000728607178, 2.677000045776367, 2.676500082015991, 2.674999952316284, 2.6092000007629395, 2.593100070953369, 2.5425000190734863, 2.48580002784729, 2.431299924850464, 2.428800106048584, 2.3912999629974365, 2.390000104904175, 2.2853000164031982, 2.2730000019073486, 2.2476999759674072, 2.215100049972534, 2.0803000926971436, 1.9740999937057495, 1.9687000513076782, 1.8808000087738037, 1.7127000093460083, 1.517799973487854, 1.5088000297546387, 1.3839000463485718, 1.3617000579833984, 1.1434999704360962, 1.273900032043457, 1.211899995803833, 0.9886000156402588, 1.214900016784668, 1.0293999910354614, 0.5315999984741211, 0.814300000667572, 2.8366000652313232, 2.836199998855591, 2.8359999656677246, 2.835400104522705, 2.835200071334839, 2.8348000049591064, 2.834700107574463, 2.834199905395508, 2.8340001106262207, 2.833699941635132, 2.8336000442504883, 2.8336000442504883, 2.8333001136779785, 2.8313000202178955, 2.8310000896453857, 2.8308000564575195, 2.8304998874664307, 2.830399990081787, 2.7351999282836914, 2.732599973678589, 2.7079999446868896, 2.685800075531006, 2.6519999504089355, 2.543100118637085, 2.5390000343322754, 2.5139999389648438, 2.4047000408172607, 2.402100086212158, 2.383500099182129, 2.3698999881744385, 2.313199996948242, 1.6060999631881714, 1.6539000272750854, 1.2340999841690063, 0.761900007724762, 0.7635999917984009, 0.4952000081539154, 1.2649999856948853, 0.313400000333786, 1.9696999788284302, 1.4151999950408936, 2.918800115585327, 2.9163999557495117, 2.914799928665161, 2.9128000736236572, 2.6926000118255615, 2.4518001079559326, 2.4333999156951904, 2.4326999187469482, 2.425800085067749, 2.382999897003174, 2.376699924468994, 2.326200008392334, 2.319700002670288, 2.224299907684326, 2.0564000606536865, 2.038599967956543, 1.969099998474121, 1.896399974822998, 1.8890000581741333, 1.8794000148773193, 1.840499997138977, 1.7913999557495117, 1.6912000179290771, 1.6374000310897827, 1.6171000003814697, 1.5959999561309814, 1.5529999732971191, 1.4702999591827393, 1.4643000364303589, 1.398900032043457, 1.2730000019073486, 1.24590003490448, 1.2651000022888184, 1.2527999877929688, 1.1500999927520752, 1.3823000192642212, 0.8758999705314636, 0.4781000018119812, 0.17399999499320984, -0.5339000225067139, -0.4189000129699707, 0.1809999942779541, 0.397599995136261, 2.9602999687194824, 2.9600000381469727, 2.958400011062622, 2.9577999114990234, 2.957200050354004, 2.957200050354004, 2.9565000534057617, 2.9560000896453857, 2.7929999828338623, 2.7771999835968018, 2.7523000240325928, 2.7374000549316406, 2.7188000679016113, 2.615999937057495, 2.6040000915527344, 2.5722999572753906, 2.5641000270843506, 2.523699998855591, 2.4565999507904053, 2.4367001056671143, 2.424099922180176, 2.3970000743865967, 2.3285000324249268, 2.2411000728607178, 2.05679988861084, 2.015000104904175, 1.8205000162124634, 1.656499981880188, 1.6079000234603882, 1.57260000705719, 1.1456999778747559, 1.469599962234497, 1.3622000217437744, 0.7243000268936157, 1.017300009727478, 0.1348000019788742, 1.1684000492095947, 1.0073000192642212, 0.7876999974250793, 0.44020000100135803, 2.9890999794006348, 2.986299991607666, 2.984800100326538, 2.9818999767303467, 2.8011999130249023, 2.6494998931884766, 2.609100103378296, 2.5757999420166016, 2.5439999103546143, 2.5076000690460205, 2.4030001163482666, 2.3408000469207764, 2.198899984359741, 2.15939998626709, 2.0490000247955322, 1.787600040435791, 1.6597000360488892, 1.537500023841858, 1.269700050354004, 1.0566999912261963, 1.0261000394821167, 0.9556999802589417, 0.9065999984741211, 0.8270000219345093, 0.7648000121116638, 0.5582000017166138, 0.4253999888896942, 0.2825999855995178, 0.08060000091791153, 0.07680000364780426, 0.0013000000035390258, -0.1371999979019165, 2.99180006980896, 2.989500045776367, 2.976599931716919, 2.7939000129699707, 2.2727999687194824, 2.091399908065796, 2.0467000007629395, 1.9809000492095947, 1.9631999731063843, 1.8322999477386475, 1.8118000030517578, 1.656499981880188, 1.6267999410629272, 1.3499000072479248, 1.3308000564575195, 1.2157000303268433, 1.1783000230789185, 1.0733000040054321, 1.0561000108718872, 0.9872000217437744, 0.6549999713897705, 0.23229999840259552, 0.18889999389648438, 0.18870000541210175, 0.1881999969482422, 0.18780000507831573, 0.1873999983072281, 0.18729999661445618, 0.18719999492168427, 0.18709999322891235, -0.18240000307559967, 0.186599999666214, 0.18649999797344208, 0.1858000010251999, 0.18410000205039978, -4.836699962615967, 0.18379999697208405, 3.000200033187866, 2.925800085067749, 2.7932000160217285, 2.7632999420166016, 2.6357998847961426, 2.5632998943328857, 2.4365999698638916, 2.391200065612793, 2.228100061416626, 2.188699960708618, 2.0785999298095703, 2.036900043487549, 1.9615000486373901, 1.837499976158142, 1.72160005569458, 1.6122000217437744, 1.3738000392913818, 1.3497999906539917, 1.3436000347137451, 1.342900037765503, 1.2898000478744507, 1.2226999998092651, 1.1598000526428223, 0.9605000019073486, 0.8614000082015991, 0.8439000248908997, 0.7821999788284302, 0.7222999930381775, 0.6072999835014343, 0.5275999903678894, 0.4499000012874603, 0.47780001163482666, -1.2293000221252441, 3.088099956512451, 3.087100028991699, 3.0864999294281006, 3.085700035095215, 3.085599899291992, 3.085099935531616, 3.082900047302246, 3.021899938583374, 3.016200065612793, 2.765899896621704, 2.757499933242798, 2.6714000701904297, 2.592400074005127, 2.4839000701904297, 2.3447000980377197, 2.334399938583374, 2.3138999938964844, 2.239500045776367, 2.14739990234375, 2.0137999057769775, 1.9802000522613525, 1.882099986076355, 1.7542999982833862, 1.7508000135421753, 1.5206999778747559, 1.513700008392334, 1.3795000314712524, 1.2763999700546265, 1.256100058555603, 1.1891000270843506, 1.1223000288009644, 1.1287000179290771, 0.9460999965667725, 0.7879999876022339, 0.6183000206947327, 0.3379000127315521, 0.5796999931335449, 3.103600025177002, 3.10260009765625, 3.101300001144409, 3.1006999015808105, 3.100600004196167, 3.098400115966797, 3.0968000888824463, 3.0899999141693115, 2.8973000049591064, 2.896199941635132, 2.8348000049591064, 2.7839999198913574, 2.7806999683380127, 2.7706000804901123, 2.7079999446868896, 2.5957000255584717, 2.577500104904175, 2.5327999591827393, 2.4809000492095947, 2.4347000122070312, 2.4254000186920166, 2.3329999446868896, 2.3320000171661377, 2.290600061416626, 2.2864999771118164, 2.276099920272827, 2.272200107574463, 2.1542999744415283, 2.075500011444092, 2.031100034713745, 2.015399932861328, 1.9486000537872314, 1.7949999570846558, 1.802899956703186, 1.4041999578475952, 0.6735000014305115, 0.880299985408783, 0.8111000061035156, 0.21459999680519104, 0.9401000142097473, 3.3046998977661133, 3.303299903869629, 3.300100088119507, 3.299999952316284, 3.2997000217437744, 3.2992000579833984, 3.075500011444092, 2.988300085067749, 2.7916998863220215, 2.7737998962402344, 2.7599000930786133, 2.6875, 2.4339001178741455, 2.369999885559082, 2.002000093460083, 1.8769999742507935, 1.3366999626159668, 1.2867000102996826, 1.2122000455856323, 1.166700005531311, 1.0267000198364258, 0.5676000118255615, 0.5672000050544739, 0.5672000050544739, 0.5669999718666077, 0.5669000148773193, 0.5669000148773193, 0.5666000247001648, 0.5666000247001648, 0.5666000247001648, 0.5637999773025513, 0.4616999924182892, 0.08380000293254852, -0.06279999762773514, -0.1039000004529953, -0.5060999989509583, -1.0836999416351318, 0.5633999705314636, 0.5651999711990356, 3.4233999252319336, 3.4231998920440674, 3.4228999614715576, 3.422499895095825, 3.4223999977111816, 3.4223999977111816, 3.4210000038146973, 3.4191999435424805, 3.410900115966797, 3.2235000133514404, 3.208899974822998, 3.186300039291382, 3.180999994277954, 3.0515999794006348, 3.0439999103546143, 2.9721999168395996, 2.962899923324585, 2.9488000869750977, 2.9077999591827393, 2.9063000679016113, 2.8750998973846436, 2.870300054550171, 2.8297998905181885, 2.760699987411499, 2.708699941635132, 2.61680006980896, 2.5580999851226807, 2.4238998889923096, 2.3896000385284424, 2.362299919128418, 1.9211000204086304, 1.6894999742507935, 0.3986999988555908, 0.7480000257492065, 3.6398000717163086, 3.63919997215271, 3.6382999420166016, 3.6380999088287354, 3.6377999782562256, 3.637700080871582, 3.6364998817443848, 3.634399890899658, 3.627500057220459, 3.3898000717163086, 3.387700080871582, 3.352799892425537, 3.183199882507324, 3.0541999340057373, 2.966399908065796, 2.9542999267578125, 2.465100049972534, 1.5764000415802002, 1.5598000288009644, 1.4596999883651733, 1.4464000463485718, 1.4158999919891357, 1.395400047302246, 1.3875999450683594, 1.3071000576019287, 1.1246000528335571, 1.0018999576568604, 0.9847000241279602, 0.8698999881744385, 0.8605999946594238, 0.8496999740600586, 0.5896999835968018, 0.6970999836921692, 0.6800000071525574]}, \"token.table\": {\"Topic\": [1, 6, 8, 1, 6, 7, 1, 4, 5, 16, 4, 5, 6, 1, 6, 1, 4, 6, 1, 5, 6, 1, 6, 1, 6, 1, 6, 6, 1, 4, 6, 9, 1, 6, 1, 2, 1, 7, 1, 2, 4, 5, 6, 7, 8, 12, 13, 14, 1, 1, 4, 7, 1, 1, 16, 6, 10, 13, 1, 2, 1, 1, 5, 6, 5, 13, 7, 6, 1, 5, 7, 8, 3, 4, 5, 6, 7, 8, 10, 16, 6, 3, 9, 16, 7, 13, 1, 2, 7, 13, 14, 16, 16, 1, 3, 4, 5, 7, 8, 12, 1, 9, 12, 4, 16, 1, 5, 6, 1, 2, 3, 5, 7, 8, 3, 5, 9, 14, 1, 2, 3, 4, 7, 8, 11, 12, 3, 8, 17, 1, 13, 1, 5, 7, 12, 1, 4, 5, 7, 13, 16, 1, 16, 3, 7, 12, 13, 14, 1, 8, 14, 16, 1, 2, 12, 1, 2, 4, 7, 14, 1, 2, 14, 1, 7, 14, 5, 2, 8, 14, 15, 16, 1, 2, 4, 5, 7, 9, 13, 1, 4, 5, 6, 7, 14, 5, 17, 8, 1, 1, 2, 3, 5, 6, 1, 7, 9, 5, 9, 12, 4, 7, 1, 2, 8, 12, 4, 5, 7, 9, 1, 2, 7, 5, 7, 1, 2, 5, 6, 10, 13, 16, 1, 9, 14, 1, 3, 9, 4, 5, 7, 9, 10, 3, 5, 6, 16, 5, 5, 1, 2, 4, 16, 1, 4, 5, 8, 3, 4, 5, 10, 4, 7, 17, 5, 7, 9, 9, 1, 8, 5, 9, 1, 4, 5, 8, 1, 2, 7, 14, 1, 2, 5, 7, 9, 13, 7, 1, 4, 5, 7, 14, 17, 2, 1, 2, 6, 17, 1, 3, 6, 1, 2, 7, 17, 1, 2, 14, 1, 4, 5, 15, 5, 5, 12, 1, 4, 17, 5, 6, 3, 6, 13, 1, 5, 6, 7, 16, 1, 2, 11, 14, 1, 2, 3, 4, 6, 11, 14, 1, 2, 12, 15, 5, 9, 17, 1, 5, 7, 8, 1, 5, 14, 1, 2, 9, 16, 17, 1, 3, 4, 5, 8, 9, 17, 1, 4, 5, 7, 11, 9, 1, 14, 3, 1, 5, 4, 5, 6, 16, 4, 5, 1, 2, 7, 8, 3, 5, 6, 9, 7, 9, 10, 1, 3, 7, 8, 10, 12, 4, 1, 4, 5, 6, 7, 13, 1, 2, 3, 10, 1, 3, 5, 7, 12, 17, 1, 3, 5, 7, 10, 15, 17, 14, 15, 1, 2, 4, 7, 14, 1, 4, 5, 7, 8, 12, 14, 1, 4, 9, 16, 5, 14, 5, 6, 16, 7, 10, 11, 2, 5, 7, 8, 9, 10, 12, 1, 2, 5, 7, 11, 13, 14, 15, 1, 4, 5, 9, 12, 16, 6, 14, 3, 6, 9, 5, 6, 9, 7, 14, 1, 5, 6, 1, 2, 3, 4, 5, 7, 8, 9, 14, 15, 6, 8, 9, 5, 8, 9, 15, 1, 2, 14, 1, 3, 7, 8, 13, 5, 9, 11, 13, 6, 13, 3, 9, 5, 7, 9, 3, 4, 6, 1, 3, 4, 5, 6, 8, 13, 14, 16, 10, 1, 4, 5, 6, 7, 10, 14, 16, 1, 6, 10, 16, 1, 5, 6, 13, 16, 11, 3, 6, 6, 6, 6, 16, 2, 3, 4, 7, 9, 10, 12, 15, 1, 14, 16, 1, 7, 9, 4, 9, 1, 8, 12, 13, 1, 5, 8, 14, 1, 3, 5, 7, 8, 16, 1, 4, 5, 7, 8, 3, 5, 8, 9, 13, 1, 2, 4, 7, 12, 17, 11, 1, 2, 5, 7, 9, 1, 5, 7, 15, 17, 1, 5, 8, 15, 1, 3, 9, 16, 5, 13, 1, 1, 2, 4, 6, 9, 15, 1, 3, 5, 6, 9, 1, 2, 4, 5, 1, 4, 8, 3, 7, 1, 5, 15, 1, 10, 14, 1, 3, 5, 6, 3, 1, 4, 5, 16, 17, 1, 2, 5, 8, 13, 15, 7, 1, 9, 1, 2, 2, 1, 6, 16, 1, 5, 6, 1, 2, 3, 5, 8, 9, 13, 1, 2, 1, 7, 9, 15, 1, 2, 3, 4, 5, 6, 7, 8, 9, 13, 14, 15, 16, 4, 5, 6, 7, 7, 1, 3, 4, 5, 7, 8, 9, 14, 7, 17, 5, 16, 3, 4, 1, 2, 1, 2, 5, 1, 4, 6, 7, 9, 11, 16, 17, 1, 2, 3, 4, 5, 7, 8, 9, 3, 6, 7, 8, 9, 10, 13, 17, 1, 7, 14, 1, 2, 4, 8, 16, 2, 5, 1, 2, 3, 5, 7, 9, 10, 14, 16, 5, 7, 14, 1, 5, 1, 7, 14, 4, 7, 14, 7, 4, 1, 5, 10, 13, 6, 8, 10, 1, 2, 11, 12, 13, 16, 1, 5, 6, 16, 1, 3, 1, 3, 5, 6, 8, 14, 7, 1, 2, 4, 7, 8, 9, 13, 14, 6, 1, 5, 17, 4, 9, 12, 16, 9, 1, 5, 7, 16, 1, 8, 14, 1, 2, 5, 7, 1, 8, 10, 6, 1, 2, 4, 6, 17, 4, 7, 9, 13, 1, 5, 8, 10, 1, 4, 6, 9, 3, 6, 7, 8, 13, 14, 17, 1, 2, 8, 15, 5, 4, 9, 11, 12, 14, 16, 7, 1, 1, 1, 2, 7, 5, 6, 1, 2, 5, 6, 17, 1, 14, 16, 14, 3, 4, 6, 9, 7, 15, 1, 15, 1, 14, 17, 4, 5, 7, 1, 4, 5, 8, 16, 9, 1, 3, 4, 7, 13, 1, 3, 8, 2, 4, 9, 10, 1, 3, 4, 5, 7, 3, 9, 16, 14, 7, 1, 5, 10, 1, 2, 4, 5, 11, 14, 17, 6, 7, 2, 11, 12, 14, 3, 4, 7, 12, 1, 4, 5, 15, 1, 5, 11, 12, 13, 4, 4, 5, 7, 16, 1, 4, 5, 11, 1, 2, 4, 5, 6, 7, 10, 13, 14, 16, 1, 7, 1, 11, 12, 14, 5, 16, 1, 5, 7, 8, 9, 7, 7, 1, 4, 7, 8, 9, 16, 17, 1, 12, 1, 5, 6, 15, 1, 4, 7, 11, 2, 4, 5, 11, 1, 1, 5, 6, 4, 5, 6, 17, 1, 5, 8, 1, 6, 7, 10, 14, 5, 9, 14, 16, 1, 4, 8, 16, 5, 6, 14, 16, 17, 14, 16, 1, 2, 4, 12, 1, 5, 8, 16, 9, 7, 5, 17, 1, 5, 6, 7, 16, 17, 1, 16, 5, 7, 12, 1, 3, 4, 5, 7, 9, 13, 16, 13, 6, 1, 12, 1, 2, 5, 1, 3, 5, 6, 7, 4, 16, 7, 9, 8, 1, 5, 7, 9, 1, 10, 13, 3, 6, 13, 1, 5, 13, 4, 11, 1, 3, 4, 5, 9, 7, 16, 1, 16, 1, 5, 6, 14, 1, 4, 5, 7, 13, 15, 1, 5, 16, 17, 1, 5, 15, 1, 4, 9, 17, 1, 2, 4, 5, 8, 14, 7, 1, 3, 8, 11, 13, 15, 1, 5, 12, 14, 1, 2, 5, 10, 12, 1, 2, 3, 4, 5, 7, 10, 14, 16, 5, 1, 4, 14, 17, 4, 5, 6, 14, 4, 5, 8, 4, 1, 3, 5, 7, 9, 13, 16, 5, 4, 13, 16, 1, 5, 13, 15, 1, 13, 1, 3, 4, 5, 6, 7, 8, 14, 1, 5, 7, 8, 13, 14, 1, 2, 3, 5, 13, 1, 4, 10, 11, 1, 2, 3, 9, 10, 12, 13, 8, 9, 1, 2, 17, 1, 3, 5, 1, 4, 5, 7, 8, 5, 7, 1, 16, 16, 1, 5, 7, 10, 16, 1, 17, 17, 1, 3, 4, 5, 7, 8, 9, 10, 3, 7, 14, 13, 1, 5, 11, 12, 5, 7, 8, 17, 4, 6, 9, 1, 5, 6, 7, 8, 13, 15, 3, 4, 5, 7, 8, 9, 10, 5, 6, 3, 4, 6, 1, 2, 3, 4, 5, 7, 8, 13, 14, 17, 1, 5, 15, 7, 14, 6, 10, 1, 1, 5, 8, 16, 1, 3, 4, 5, 7, 9, 17, 3, 4, 8, 9, 12, 15, 1, 3, 8, 1, 7, 14, 1, 1, 5, 9, 14, 6, 1, 5, 6, 13, 3, 5, 9], \"Freq\": [0.2992667257785797, 0.6268424987792969, 0.072794608771801, 0.21477113664150238, 0.6480163931846619, 0.1370091736316681, 0.30173400044441223, 0.30875107645988464, 0.014034139923751354, 0.36488762497901917, 0.21609821915626526, 0.5762618780136108, 0.20300135016441345, 0.25382840633392334, 0.7453691959381104, 0.59433513879776, 0.08768878877162933, 0.3117823600769043, 0.18551179766654968, 0.0365402027964592, 0.7771819829940796, 0.32786718010902405, 0.6715524792671204, 0.0844501480460167, 0.9132400155067444, 0.22282326221466064, 0.7748928666114807, 0.9984933733940125, 0.02276291511952877, 0.14595045149326324, 0.662802517414093, 0.16603536903858185, 0.12602558732032776, 0.8689132928848267, 0.8615884184837341, 0.13629648089408875, 0.9966236352920532, 0.9966254234313965, 0.25809165835380554, 0.10143747180700302, 0.17185430228710175, 0.1563439816236496, 0.008375571109354496, 0.12563356757164001, 0.06421270966529846, 0.014579697512090206, 0.011477634310722351, 0.08809859305620193, 0.9977502226829529, 0.0340379998087883, 0.6211934685707092, 0.3403799831867218, 0.9922343492507935, 0.9955111145973206, 0.9976296424865723, 0.24477140605449677, 0.6406217813491821, 0.11477319151163101, 0.5888809561729431, 0.4079959988594055, 0.9969716668128967, 0.9943504929542542, 0.9104467630386353, 0.08821217715740204, 0.9994081854820251, 0.995539665222168, 0.9954130053520203, 0.9932332634925842, 0.9941427111625671, 0.18539519608020782, 0.2549183964729309, 0.5503919720649719, 0.2527116537094116, 0.06024913862347603, 0.04686044156551361, 0.0686170756816864, 0.13890773057937622, 0.26610034704208374, 0.01840945892035961, 0.1472756713628769, 0.9980039000511169, 0.6892409920692444, 0.14350128173828125, 0.16306963562965393, 0.39024579524993896, 0.6074260473251343, 0.20101159811019897, 0.09816845506429672, 0.09349376708269119, 0.13089127838611603, 0.056096263229846954, 0.42072194814682007, 0.994755208492279, 0.04131273180246353, 0.08813382685184479, 0.5701156854629517, 0.046821095049381256, 0.25063055753707886, 0.9941101670265198, 0.9968910217285156, 0.09145064651966095, 0.12054858356714249, 0.7856442332267761, 0.37052154541015625, 0.6290869116783142, 0.45725494623184204, 0.04813209921121597, 0.49335402250289917, 0.4933750033378601, 0.49970030784606934, 0.5354865193367004, 0.2059563547372818, 0.09954557567834854, 0.15446726977825165, 0.22693829238414764, 0.15669548511505127, 0.010806584730744362, 0.6024671196937561, 0.09050164371728897, 0.16742804646492004, 0.09502672404050827, 0.09804344922304153, 0.04223410040140152, 0.3861403465270996, 0.04223410040140152, 0.07692639529705048, 0.41850560903549194, 0.5813995599746704, 0.9940164089202881, 0.7324528098106384, 0.26389843225479126, 0.013731005601584911, 0.7048583030700684, 0.18765708804130554, 0.09154003858566284, 0.08409619331359863, 0.3447943925857544, 0.030835270881652832, 0.42048096656799316, 0.05886733531951904, 0.05886733531951904, 0.31077584624290466, 0.6837068796157837, 0.26294809579849243, 0.0034827562049031258, 0.27687913179397583, 0.11841371655464172, 0.3360859751701355, 0.4798935651779175, 0.05447440594434738, 0.11932489275932312, 0.3450045585632324, 0.07148280739784241, 0.7454635500907898, 0.1838129311800003, 0.1958380788564682, 0.07375719398260117, 0.2517918050289154, 0.015260109677910805, 0.46288999915122986, 0.427143931388855, 0.5727636218070984, 0.9991122484207153, 0.12310406565666199, 0.15046052634716034, 0.724946141242981, 0.9947277307510376, 0.12365007400512695, 0.16665878891944885, 0.27149254083633423, 0.4193350374698639, 0.01881631463766098, 0.05677343159914017, 0.3115937113761902, 0.04224999621510506, 0.002640624763444066, 0.055453117936849594, 0.5307655334472656, 0.9954471588134766, 0.17047689855098724, 0.10733731091022491, 0.11365126818418503, 0.03788375481963158, 0.21151763200759888, 0.35673871636390686, 0.24524372816085815, 0.7517253160476685, 0.9992560744285583, 0.9972535967826843, 0.13626374304294586, 0.8631653785705566, 0.19820936024188995, 0.5436599850654602, 0.254840612411499, 0.058361947536468506, 0.36962565779685974, 0.5706501603126526, 0.2834688127040863, 0.6042361855506897, 0.10443588346242905, 0.09126748889684677, 0.8960807919502258, 0.1217033714056015, 0.34772390127182007, 0.3564170002937317, 0.1651688665151596, 0.2603113353252411, 0.1214786246418953, 0.2256031632423401, 0.3875746726989746, 0.4612744450569153, 0.4816247820854187, 0.0474841333925724, 0.09578099101781845, 0.9010508060455322, 0.13263680040836334, 0.14364685118198395, 0.04662071540951729, 0.18355831503868103, 0.11491747945547104, 0.32995766401290894, 0.04834103584289551, 0.0875331461429596, 0.8006080389022827, 0.11101765185594559, 0.2317492663860321, 0.722512423992157, 0.040896929800510406, 0.9319247007369995, 0.06656605005264282, 0.46600422263145447, 0.4033482074737549, 0.12531206011772156, 0.1716044694185257, 0.19103139638900757, 0.001079273410141468, 0.6346127986907959, 0.999295175075531, 0.992668092250824, 0.11702050268650055, 0.7350047826766968, 0.11605339497327805, 0.030947571620345116, 0.2025281935930252, 0.5910516977310181, 0.06199842691421509, 0.14052976667881012, 0.5788816809654236, 0.33002665638923645, 0.03631361201405525, 0.05447041615843773, 0.327718049287796, 0.11265307664871216, 0.5581448078155518, 0.9487090706825256, 0.03021366521716118, 0.018128199502825737, 0.9969494938850403, 0.37934690713882446, 0.6164387464523315, 0.1666470319032669, 0.8332352042198181, 0.3757705092430115, 0.20825836062431335, 0.33502432703971863, 0.08058693259954453, 0.18230614066123962, 0.6785839796066284, 0.04051247611641884, 0.10128118842840195, 0.2298305630683899, 0.43440502882003784, 0.06566587835550308, 0.20710007846355438, 0.060614656656980515, 0.9950656294822693, 0.994963526725769, 0.0980117917060852, 0.160382941365242, 0.0267304889857769, 0.1960235834121704, 0.3831370174884796, 0.1247422844171524, 0.9968186020851135, 0.35604941844940186, 0.3718738555908203, 0.16615639626979828, 0.09494651108980179, 0.18466819822788239, 0.6547327041625977, 0.15872307121753693, 0.11118727177381516, 0.1890183538198471, 0.6282080411911011, 0.07227172702550888, 0.051155634224414825, 0.41137656569480896, 0.5350027084350586, 0.4796484410762787, 0.10384141653776169, 0.3510828912258148, 0.06428278237581253, 0.9957717061042786, 0.5515859127044678, 0.4430772364139557, 0.1370464563369751, 0.349468469619751, 0.5070719122886658, 0.6854282021522522, 0.31333860754966736, 0.18664315342903137, 0.15446330606937408, 0.6583079099655151, 0.3812273144721985, 0.473922997713089, 0.06005635857582092, 0.04308390989899635, 0.041778337210416794, 0.9956144094467163, 0.6917999386787415, 0.3077199161052704, 0.9984338283538818, 0.07117000222206116, 0.1464068591594696, 0.0020334285218268633, 0.12403914332389832, 0.04066857323050499, 0.4066857099533081, 0.209443137049675, 0.3691851794719696, 0.27287599444389343, 0.3531336486339569, 0.9962316155433655, 0.22947660088539124, 0.7065463662147522, 0.05434972047805786, 0.1887650191783905, 0.16169682145118713, 0.2920515239238739, 0.3568727374076843, 0.8239198923110962, 0.150564044713974, 0.020911673083901405, 0.24158373475074768, 0.46513885259628296, 0.11538327485322952, 0.11177755147218704, 0.06129736825823784, 0.26343485713005066, 0.10477522760629654, 0.11076238006353378, 0.1137559562921524, 0.23349907994270325, 0.14967890083789825, 0.020955044776201248, 0.33644750714302063, 0.014628151431679726, 0.12433928996324539, 0.15359559655189514, 0.3657037913799286, 0.997252881526947, 0.23086856305599213, 0.7658079266548157, 0.9988196492195129, 0.9710697531700134, 0.022583017125725746, 0.20850855112075806, 0.4029286801815033, 0.25359147787094116, 0.13243110477924347, 0.8980706930160522, 0.099469855427742, 0.22292371094226837, 0.7753868103027344, 0.8300145864486694, 0.16780078411102295, 0.3786408007144928, 0.0378640815615654, 0.09736477583646774, 0.4868238866329193, 0.12554563581943512, 0.16294221580028534, 0.711425244808197, 0.4922722280025482, 0.1267235428094864, 0.1169755756855011, 0.1267235428094864, 0.07798371464014053, 0.053613804280757904, 0.9949488639831543, 0.3975348174571991, 0.289116233587265, 0.18872864544391632, 0.07227905839681625, 0.008031005971133709, 0.04015503078699112, 0.22632595896720886, 0.7660263180732727, 0.3160061836242676, 0.683455228805542, 0.10377722978591919, 0.15566584467887878, 0.14874736964702606, 0.26982080936431885, 0.31133168935775757, 0.010377722792327404, 0.243201345205307, 0.3891221284866333, 0.03783131763339043, 0.3296729326248169, 0.9922641515731812, 0.9967069029808044, 0.9983402490615845, 0.2694265842437744, 0.7282682061195374, 0.1041141077876091, 0.6121909618377686, 0.1915699541568756, 0.07079759240150452, 0.02082282118499279, 0.24791716039180756, 0.09296894073486328, 0.16822950541973114, 0.17708368599414825, 0.07968766242265701, 0.07968766242265701, 0.14609403908252716, 0.12788882851600647, 0.21452318131923676, 0.07838347554206848, 0.573436975479126, 0.4304347336292267, 0.5638089179992676, 0.9927825927734375, 0.21224918961524963, 0.7853220105171204, 0.279583603143692, 0.453378826379776, 0.26447099447250366, 0.1954069286584854, 0.11454889178276062, 0.16845424473285675, 0.12128705531358719, 0.060643527656793594, 0.08759620785713196, 0.24931228160858154, 0.10048346221446991, 0.13103042542934418, 0.020900558680295944, 0.03456630930304527, 0.31350839138031006, 0.08119063824415207, 0.0458204559981823, 0.2717072665691376, 0.07260049134492874, 0.2301066368818283, 0.0996718630194664, 0.14150942862033844, 0.37899917364120483, 0.07752256095409393, 0.1817711591720581, 0.8091748356819153, 0.7795432209968567, 0.1937326341867447, 0.023063408210873604, 0.07865452021360397, 0.13538892567157745, 0.7852557897567749, 0.18502715229988098, 0.8119102120399475, 0.18501165509223938, 0.5462248921394348, 0.25549226999282837, 0.21301017701625824, 0.12010148912668228, 0.015862461179494858, 0.027192790061235428, 0.20281288027763367, 0.08497746288776398, 0.16995492577552795, 0.03059188835322857, 0.13369788229465485, 0.9991607069969177, 0.22992093861103058, 0.6265131831169128, 0.14359374344348907, 0.17948468029499054, 0.05650443583726883, 0.6448153257369995, 0.11633266508579254, 0.9952210187911987, 0.9279074668884277, 0.0649535283446312, 0.055011484771966934, 0.5359690189361572, 0.12574054300785065, 0.10216418653726578, 0.18075202405452728, 0.10936033725738525, 0.021030833944678307, 0.38696736097335815, 0.47529685497283936, 0.06383053213357925, 0.9354474544525146, 0.9444748759269714, 0.054911330342292786, 0.09213904291391373, 0.2272762954235077, 0.6695436835289001, 0.9562615752220154, 0.0005102783325128257, 0.042863380163908005, 0.09806887805461884, 0.06078227609395981, 0.016344813629984856, 0.09857965260744095, 0.19103001058101654, 0.08683182299137115, 0.11747834831476212, 0.10828439146280289, 0.2216765284538269, 0.9990848302841187, 0.16565868258476257, 0.06184590980410576, 0.10602156072854996, 0.21204312145709991, 0.013252695091068745, 0.23413094878196716, 0.024296607822179794, 0.18332895636558533, 0.1524684727191925, 0.18834340572357178, 0.13901537656784058, 0.5112178325653076, 0.42369958758354187, 0.16691195964813232, 0.09221010655164719, 0.14123320579528809, 0.176249697804451, 0.9999377131462097, 0.7292647957801819, 0.2646525502204895, 0.9928777813911438, 0.9975147843360901, 0.37834906578063965, 0.6187778115272522, 0.001280705677345395, 0.11195502430200577, 0.07257332652807236, 0.0005336274043656886, 0.00021345095592550933, 0.00010672547796275467, 0.689873456954956, 0.12337464839220047, 0.81669020652771, 0.1334461122751236, 0.04804060235619545, 0.19341866672039032, 0.2206956446170807, 0.5852154493331909, 0.3117542564868927, 0.6740632057189941, 0.2486906349658966, 0.5856263637542725, 0.16044557094573975, 0.9989815950393677, 0.08970637619495392, 0.2518678903579712, 0.19321373105049133, 0.4623328447341919, 0.21465878188610077, 0.12842832505702972, 0.2953851521015167, 0.01651221327483654, 0.27703824639320374, 0.06604885309934616, 0.2417890429496765, 0.16739241778850555, 0.15809284150600433, 0.1487932652235031, 0.2696877717971802, 0.19770507514476776, 0.13180337846279144, 0.19483979046344757, 0.002865290967747569, 0.4699077010154724, 0.484933078289032, 0.10409558564424515, 0.18787983059883118, 0.07870641350746155, 0.11679016798734665, 0.02285025082528591, 0.9983043670654297, 0.09849962592124939, 0.11853344738483429, 0.5225488543510437, 0.20534667372703552, 0.055093009024858475, 0.13223855197429657, 0.022039758041501045, 0.6360044479370117, 0.10390171408653259, 0.10390171408653259, 0.17786863446235657, 0.12266802787780762, 0.09813442081212997, 0.6010733246803284, 0.14694175124168396, 0.06960398703813553, 0.224279522895813, 0.5490981340408325, 0.06703907996416092, 0.9282334446907043, 0.9985532164573669, 0.4170762300491333, 0.12512286007404327, 0.31280717253685, 0.06256143003702164, 0.0764639750123024, 0.9946240186691284, 0.09823024272918701, 0.2198486328125, 0.5005064606666565, 0.07484208792448044, 0.10758550465106964, 0.0947747677564621, 0.2346803843975067, 0.65891033411026, 0.004513084422796965, 0.31642842292785645, 0.2646492123603821, 0.41423356533050537, 0.2537558674812317, 0.7440961599349976, 0.07890339195728302, 0.3391166925430298, 0.5791844725608826, 0.3375859260559082, 0.6607038974761963, 0.994450569152832, 0.13887593150138855, 0.5243763327598572, 0.2514133155345917, 0.08380443602800369, 0.9996528029441833, 0.1694825142621994, 0.1617787629365921, 0.2234087735414505, 0.446817547082901, 0.9996838569641113, 0.17483602464199066, 0.11817619949579239, 0.3092007339000702, 0.0955122709274292, 0.2622540295124054, 0.04047130048274994, 0.9972302317619324, 0.1514197736978531, 0.8468291163444519, 0.2724873721599579, 0.7261574864387512, 0.9937569499015808, 0.9971705079078674, 0.21718968451023102, 0.7822359800338745, 0.3847796618938446, 0.523552656173706, 0.08200222253799438, 0.03159563988447189, 0.11585068702697754, 0.2001057267189026, 0.5213280916213989, 0.12638255953788757, 0.27114591002464294, 0.7230557799339294, 0.15375128388404846, 0.8447381854057312, 0.13120359182357788, 0.8590483665466309, 0.008619214408099651, 0.9927094578742981, 0.15298756957054138, 0.08182256668806076, 0.08354152739048004, 0.0030941306613385677, 0.07494672387838364, 0.0017189615173265338, 0.08010360598564148, 0.2186519056558609, 0.10691940784454346, 0.06394536793231964, 0.029566138982772827, 0.034379228949546814, 0.06875845789909363, 0.9973501563072205, 0.2839808166027069, 0.05679616332054138, 0.6490989923477173, 0.9973049163818359, 0.12376830726861954, 0.08521752059459686, 0.3550730049610138, 0.0314493253827095, 0.08826100826263428, 0.12985527515411377, 0.11362336575984955, 0.073043592274189, 0.008055998012423515, 0.9908877611160278, 0.19317778944969177, 0.802895188331604, 0.7071939706802368, 0.2889609634876251, 0.0007714300882071257, 0.9986162781715393, 0.2664477229118347, 0.6069086790084839, 0.12434226274490356, 0.10790932923555374, 0.20833979547023773, 0.021368185058236122, 0.3055650293827057, 0.09722524136304855, 0.06303614377975464, 0.08867796510457993, 0.10577251017093658, 0.13547992706298828, 0.22400374710559845, 0.2740389406681061, 0.07081905007362366, 0.003848861437290907, 0.019244307652115822, 0.19244307279586792, 0.0800563171505928, 0.18326495587825775, 0.21433483064174652, 0.0003154301957692951, 0.0317007340490818, 0.059300877153873444, 0.3004472553730011, 0.1632351279258728, 0.04731453210115433, 0.1953677535057068, 0.08810702711343765, 0.7163484692573547, 0.1353628784418106, 0.10998233407735825, 0.22842484712600708, 0.2961062788963318, 0.23688502609729767, 0.8507852554321289, 0.13907065987586975, 0.10517402738332748, 0.04780637472867966, 0.08796373009681702, 0.06884118169546127, 0.22564609348773956, 0.20269903540611267, 0.13003334403038025, 0.06119215860962868, 0.06884118169546127, 0.09922131896018982, 0.29766395688056946, 0.587059497833252, 0.818868100643158, 0.17333704233169556, 0.38416948914527893, 0.17379096150398254, 0.4390508532524109, 0.5571174621582031, 0.4364086985588074, 0.9903907179832458, 0.9959999322891235, 0.9978273510932922, 0.4460601508617401, 0.3453368842601776, 0.05036162957549095, 0.15108488500118256, 0.44790884852409363, 0.548940896987915, 0.998030960559845, 0.1616567224264145, 0.09958053380250931, 0.16941623389720917, 0.19528131186962128, 0.019398806616663933, 0.3543515205383301, 0.6515610218048096, 0.08056937903165817, 0.2662292420864105, 0.9934450387954712, 0.9974232912063599, 0.9990848898887634, 0.1599908024072647, 0.10999367386102676, 0.10999367386102676, 0.07999540120363235, 0.4199758470058441, 0.0999942496418953, 0.9977062940597534, 0.23972569406032562, 0.0005448310985229909, 0.17815977334976196, 0.035958852618932724, 0.35958853363990784, 0.0005448310985229909, 0.08444882184267044, 0.10079375654459, 0.9941690564155579, 0.12025707215070724, 0.3758033514022827, 0.5031343698501587, 0.14343418180942535, 0.8114038705825806, 0.001667839358560741, 0.04252990335226059, 0.9964316487312317, 0.17461496591567993, 0.022530963644385338, 0.7435218095779419, 0.05632741004228592, 0.1166779100894928, 0.6111699938774109, 0.2694704234600067, 0.4099368453025818, 0.4340507686138153, 0.12659814953804016, 0.018085448071360588, 0.1253986805677414, 0.2542806565761566, 0.6165435314178467, 0.9997497200965881, 0.3301616311073303, 0.379555881023407, 0.18197885155677795, 0.0259969774633646, 0.0805906280875206, 0.16543009877204895, 0.5896098613739014, 0.07635235786437988, 0.1611883044242859, 0.5696498155593872, 0.07995085418224335, 0.16989555954933167, 0.17988941073417664, 0.39066171646118164, 0.13364742696285248, 0.2210322767496109, 0.25187399983406067, 0.20781995356082916, 0.03219745680689812, 0.20196586847305298, 0.2341633290052414, 0.08488421142101288, 0.18733066320419312, 0.05268675088882446, 0.7792348861694336, 0.07938151806592941, 0.08262158185243607, 0.058321114629507065, 0.9940659999847412, 0.35750365257263184, 0.2253827452659607, 0.1942954659461975, 0.08289939910173416, 0.12175849080085754, 0.015543636865913868, 0.9924527406692505, 0.9984468221664429, 0.9974376559257507, 0.46607935428619385, 0.5276370048522949, 0.9954285621643066, 0.06716759502887726, 0.9259533286094666, 0.38882333040237427, 0.15718390047550201, 0.25645795464515686, 0.11581971496343613, 0.07445552945137024, 0.13148343563079834, 0.2730810046195984, 0.5947096943855286, 0.9943293333053589, 0.0210549496114254, 0.23423631489276886, 0.043864477425813675, 0.7000770568847656, 0.20132286846637726, 0.7944091558456421, 0.858680784702301, 0.14159098267555237, 0.2706638276576996, 0.727238118648529, 0.9982332587242126, 0.21209247410297394, 0.6079984307289124, 0.17674371600151062, 0.06234268844127655, 0.1246853768825531, 0.2057308703660965, 0.4987415075302124, 0.10598257184028625, 0.9984785318374634, 0.1799333691596985, 0.08568255603313446, 0.11995557695627213, 0.1799333691596985, 0.4284127950668335, 0.9942678213119507, 0.9350504875183105, 0.06477956473827362, 0.22066223621368408, 0.24201664328575134, 0.14592179656028748, 0.39149752259254456, 0.14421211183071136, 0.11416792124509811, 0.7390871047973633, 0.9448723196983337, 0.04899337887763977, 0.25135719776153564, 0.2584376633167267, 0.48855340480804443, 0.9977565407752991, 0.9954910278320312, 0.9265697002410889, 0.07057410478591919, 0.9922186136245728, 0.16008949279785156, 0.181434765458107, 0.256143182516098, 0.09249614924192429, 0.13518668711185455, 0.154753178358078, 0.0195664931088686, 0.2707335948944092, 0.7251792550086975, 0.10000979155302048, 0.18998000025749207, 0.39521244168281555, 0.31489571928977966, 0.22316113114356995, 0.16190120577812195, 0.5119578838348389, 0.10064129531383514, 0.07501216977834702, 0.03450559824705124, 0.30154889822006226, 0.5880953669548035, 0.026837822049856186, 0.05202408507466316, 0.2551657557487488, 0.5652458071708679, 0.10033216327428818, 0.9937118291854858, 0.8881292939186096, 0.10448579490184784, 0.993716299533844, 0.9948229789733887, 0.3160269558429718, 0.30228665471076965, 0.22671498358249664, 0.14427317678928375, 0.14116358757019043, 0.04898299276828766, 0.08176688849925995, 0.11570785939693451, 0.11609355360269547, 0.00424262136220932, 0.26458531618118286, 0.14000651240348816, 0.05553977191448212, 0.032398201525211334, 0.11365817487239838, 0.8776937127113342, 0.13983270525932312, 0.4871830940246582, 0.18966670334339142, 0.18297258019447327, 0.9946528077125549, 0.9963786602020264, 0.5625364780426025, 0.43522557616233826, 0.20110437273979187, 0.7973694801330566, 0.0014096101513132453, 0.9977936744689941, 0.9975903034210205, 0.1887790858745575, 0.041950907558202744, 0.12585271894931793, 0.14682817459106445, 0.048942726105451584, 0.1398363560438156, 0.3076399862766266, 0.07534477114677429, 0.9192062616348267, 0.2976207435131073, 0.3019340932369232, 0.00431334413588047, 0.39251431822776794, 0.9927260875701904, 0.12497580796480179, 0.054534897208213806, 0.8202957510948181, 0.40280044078826904, 0.2802090048789978, 0.14886103570461273, 0.1663741022348404, 0.9982173442840576, 0.30472463369369507, 0.20481492578983307, 0.4895576238632202, 0.11333183199167252, 0.6799910068511963, 0.20399729907512665, 0.9955257177352905, 0.17551369965076447, 0.65894615650177, 0.1601177603006363, 0.5892685651779175, 0.07025894522666931, 0.20851042866706848, 0.043061934411525726, 0.08612386882305145, 0.12030255794525146, 0.3188972771167755, 0.5117632746696472, 0.04773911088705063, 0.6339384913444519, 0.1813720464706421, 0.12264204770326614, 0.06045734882354736, 0.2456507384777069, 0.7457254528999329, 0.6719140410423279, 0.21606646478176117, 0.10803323239088058, 0.3072535991668701, 0.6850244402885437, 0.6941178441047668, 0.11923496425151825, 0.055359091609716415, 0.12775175273418427, 0.22746795415878296, 0.6494808793067932, 0.1197199746966362, 0.9950067400932312, 0.9995009303092957, 0.992968738079071, 0.2204912006855011, 0.7780189514160156, 0.3537199795246124, 0.11614685505628586, 0.16366147994995117, 0.17949968576431274, 0.0739116370677948, 0.1108674556016922, 0.4003683030605316, 0.5970404744148254, 0.41679325699806213, 0.037511393427848816, 0.5418312549591064, 0.13582172989845276, 0.18351484835147858, 0.13063769042491913, 0.0393986701965332, 0.03836186230182648, 0.07983414828777313, 0.298600435256958, 0.09123902767896652, 0.9964616894721985, 0.9903703331947327, 0.1846787929534912, 0.8058710694313049, 0.4459187686443329, 0.3619811236858368, 0.1888597160577774, 0.07764644920825958, 0.6481790542602539, 0.151916965842247, 0.07089458405971527, 0.04726305603981018, 0.18187513947486877, 0.816784679889679, 0.9888806343078613, 0.998859167098999, 0.9976522326469421, 0.12574809789657593, 0.04041903093457222, 0.2410171926021576, 0.5928124785423279, 0.4014011323451996, 0.5600945949554443, 0.03733963891863823, 0.3086931109428406, 0.23009945452213287, 0.46019890904426575, 0.5996535420417786, 0.18677732348442078, 0.2064380943775177, 0.012915819883346558, 0.9837549924850464, 0.058009643107652664, 0.04218883067369461, 0.7435781955718994, 0.14238731563091278, 0.005273603834211826, 0.9986109733581543, 0.9925950765609741, 0.013902455568313599, 0.9835987091064453, 0.23412476480007172, 0.06862277537584305, 0.5449455976486206, 0.14531882107257843, 0.30065855383872986, 0.16054582595825195, 0.3240106701850891, 0.07005636394023895, 0.11967962235212326, 0.0233521219342947, 0.19791872799396515, 0.6027525067329407, 0.07197044789791107, 0.12594828009605408, 0.10578400641679764, 0.3526133596897125, 0.5406737923622131, 0.1075456440448761, 0.6321585178375244, 0.2072220891714096, 0.05246128886938095, 0.21275563538074493, 0.23088279366493225, 0.06773833930492401, 0.18508785963058472, 0.1879500448703766, 0.11448733508586884, 0.9943773746490479, 0.14559628069400787, 0.23013605177402496, 0.13620297610759735, 0.14559628069400787, 0.09862973541021347, 0.23952937126159668, 0.13614055514335632, 0.4004133939743042, 0.11211574822664261, 0.3443555235862732, 0.07844676822423935, 0.24710732698440552, 0.04706806316971779, 0.4353795647621155, 0.18827225267887115, 0.2771480679512024, 0.12080813199281693, 0.054482098668813705, 0.08764511346817017, 0.08764511346817017, 0.1113329827785492, 0.10896419733762741, 0.12791448831558228, 0.02368786931037903, 0.9963055849075317, 0.25992608070373535, 0.1819482445716858, 0.4332101047039032, 0.11263462901115417, 0.48574721813201904, 0.3897971510887146, 0.005996879190206528, 0.11394070088863373, 0.13420867919921875, 0.25164127349853516, 0.6123270988464355, 0.9998365044593811, 0.0820264220237732, 0.03665010631084442, 0.42583930492401123, 0.04188583418726921, 0.17277906835079193, 0.20768392086029053, 0.03315961733460426, 0.9975870847702026, 0.09870875626802444, 0.7213332056999207, 0.174638569355011, 0.15200118720531464, 0.16521868109703064, 0.5452216863632202, 0.13217495381832123, 0.9978979825973511, 0.9973776340484619, 0.17604336142539978, 0.17403143644332886, 0.08248889446258545, 0.14787642657756805, 0.03118482418358326, 0.030178863555192947, 0.340015172958374, 0.01810731738805771, 0.21489913761615753, 0.07954829931259155, 0.011872880160808563, 0.1911533772945404, 0.0653008446097374, 0.43692198395729065, 0.16566988825798035, 0.18162329494953156, 0.1587158441543579, 0.15257993340492249, 0.3411572575569153, 0.0838782861828804, 0.6710262894630432, 0.14678698778152466, 0.09436307102441788, 0.12255245447158813, 0.15173161029815674, 0.43185150623321533, 0.040850818157196045, 0.035014986991882324, 0.19258242845535278, 0.023343324661254883, 0.9943258166313171, 0.9941163063049316, 0.7980405688285828, 0.1989864856004715, 0.9964611530303955, 0.020756084471940994, 0.6901398301124573, 0.28020715713500977, 0.6101736426353455, 0.015447434037923813, 0.2332562655210495, 0.05097653344273567, 0.08959511667490005, 0.6923627257347107, 0.30633312463760376, 0.4230723977088928, 0.5753784775733948, 0.9959568381309509, 0.03423716872930527, 0.21112920343875885, 0.6505061984062195, 0.022824779152870178, 0.08559291809797287, 0.21886472404003143, 0.7781856656074524, 0.9986221194267273, 0.15925249457359314, 0.04448506981134415, 0.12106439471244812, 0.00020312817650847137, 0.09607962518930435, 0.03554743155837059, 0.020922202616930008, 0.5224456787109375, 0.240581676363945, 0.31460681557655334, 0.44415080547332764, 0.9985434412956238, 0.8235120177268982, 0.17122527956962585, 0.3571834862232208, 0.6413067579269409, 0.085823193192482, 0.0637543722987175, 0.21578404307365417, 0.6326395869255066, 0.7043418288230896, 0.17047764360904694, 0.12411968410015106, 0.1426231861114502, 0.4114130139350891, 0.04388405755162239, 0.0987391248345375, 0.1865072399377823, 0.10422463715076447, 0.010971014387905598, 0.05935004726052284, 0.22121381759643555, 0.06474550813436508, 0.20733977854251862, 0.323727548122406, 0.05626692995429039, 0.06705784797668457, 0.17630259692668915, 0.8206084370613098, 0.7987425327301025, 0.15738186240196228, 0.04259960353374481, 0.20072855055332184, 0.144886776804924, 0.10564660280942917, 0.07848033308982849, 0.1720530390739441, 0.021129321306943893, 0.18865464627742767, 0.013583134859800339, 0.072443388402462, 0.9973898530006409, 0.868602454662323, 0.09700129181146622, 0.03306862339377403, 0.9955278635025024, 0.9991177916526794, 0.16990573704242706, 0.8274629712104797, 0.9976107478141785, 0.33053871989250183, 0.4889218509197235, 0.11362268030643463, 0.06541912257671356, 0.14877335727214813, 0.38545823097229004, 0.0980551615357399, 0.11834243685007095, 0.14877335727214813, 0.03381212428212166, 0.060861825942993164, 0.11089951545000076, 0.19845177233219147, 0.05836816877126694, 0.17510449886322021, 0.461108535528183, 0.999731183052063, 0.11244934052228928, 0.8433700799942017, 0.039357271045446396, 0.007927779108285904, 0.005945834796875715, 0.9850265979766846, 0.9916386008262634, 0.17911487817764282, 0.14140649139881134, 0.16968777775764465, 0.5090633630752563, 0.9994797110557556, 0.36887308955192566, 0.2069288045167923, 0.02699071355164051, 0.38686689734458923, 0.9738979339599609, 0.023373549804091454, 0.9947417974472046], \"Term\": [\"1\", \"1\", \"1\", \"10\", \"10\", \"10\", \"100\", \"100\", \"100\", \"100\", \"16\", \"16\", \"16\", \"2\", \"2\", \"20\", \"20\", \"20\", \"3\", \"3\", \"3\", \"4\", \"4\", \"5\", \"5\", \"6\", \"6\", \"7\", \"8\", \"8\", \"8\", \"8\", \"9\", \"9\", \"AA\", \"AA\", \"AAA\", \"Alexa\", \"Amazon\", \"Amazon\", \"Amazon\", \"Amazon\", \"Amazon\", \"Amazon\", \"Amazon\", \"Amazon\", \"Amazon\", \"Amazon\", \"AmazonBasics\", \"Apple\", \"Apple\", \"Apple\", \"Basics\", \"Batteries\", \"Buy\", \"Christmas\", \"Christmas\", \"Christmas\", \"Duracell\", \"Duracell\", \"Echo\", \"Energizer\", \"Fire\", \"Fire\", \"Kindle\", \"Netflix\", \"Prime\", \"Samsung\", \"aaa\", \"ability\", \"ability\", \"ability\", \"able\", \"able\", \"able\", \"able\", \"able\", \"able\", \"able\", \"able\", \"absolutely\", \"access\", \"access\", \"access\", \"account\", \"account\", \"actually\", \"actually\", \"actually\", \"actually\", \"actually\", \"actually\", \"ad\", \"add\", \"add\", \"add\", \"add\", \"add\", \"adult\", \"advertise\", \"affordable\", \"affordable\", \"affordable\", \"age\", \"age\", \"ago\", \"ago\", \"ago\", \"alkaline\", \"alkaline\", \"allow\", \"allow\", \"allow\", \"allow\", \"amazing\", \"amazing\", \"amazing\", \"amazing\", \"amazon\", \"amazon\", \"amazon\", \"amazon\", \"amazon\", \"amazon\", \"amazon\", \"amazon\", \"app\", \"app\", \"appropriate\", \"arrive\", \"arrive\", \"ask\", \"ask\", \"ask\", \"ask\", \"available\", \"available\", \"available\", \"available\", \"available\", \"available\", \"away\", \"away\", \"awesome\", \"awesome\", \"awesome\", \"awesome\", \"awesome\", \"bad\", \"bad\", \"bad\", \"bad\", \"bargain\", \"bargain\", \"bargain\", \"basic\", \"basic\", \"basic\", \"basic\", \"basic\", \"battery\", \"battery\", \"beat\", \"believe\", \"believe\", \"believe\", \"best\", \"better\", \"better\", \"better\", \"better\", \"better\", \"big\", \"big\", \"big\", \"big\", \"big\", \"big\", \"birthday\", \"bit\", \"bit\", \"bit\", \"bit\", \"bit\", \"bit\", \"black\", \"black\", \"book\", \"box\", \"brand\", \"brand\", \"break\", \"break\", \"break\", \"bright\", \"bright\", \"bright\", \"bring\", \"bring\", \"bring\", \"browse\", \"browse\", \"buck\", \"buck\", \"buck\", \"buck\", \"build\", \"build\", \"build\", \"build\", \"bulk\", \"bulk\", \"bulk\", \"button\", \"button\", \"buy\", \"buy\", \"buy\", \"buy\", \"buy\", \"buy\", \"buy\", \"camera\", \"camera\", \"camera\", \"car\", \"car\", \"car\", \"card\", \"card\", \"carry\", \"carry\", \"carry\", \"case\", \"case\", \"case\", \"case\", \"charge\", \"charger\", \"cheap\", \"cheap\", \"cheap\", \"cheap\", \"check\", \"check\", \"check\", \"check\", \"child\", \"child\", \"child\", \"child\", \"choice\", \"choice\", \"choice\", \"choose\", \"choose\", \"choose\", \"clear\", \"close\", \"close\", \"color\", \"color\", \"come\", \"come\", \"come\", \"come\", \"comparable\", \"comparable\", \"comparable\", \"comparable\", \"compare\", \"compare\", \"compare\", \"compare\", \"compare\", \"complaint\", \"connect\", \"consider\", \"consider\", \"consider\", \"consider\", \"consider\", \"consider\", \"content\", \"continue\", \"continue\", \"continue\", \"continue\", \"control\", \"control\", \"control\", \"convenient\", \"convenient\", \"convenient\", \"convenient\", \"cost\", \"cost\", \"cost\", \"couple\", \"couple\", \"couple\", \"couple\", \"cover\", \"customer\", \"customer\", \"daily\", \"daily\", \"daily\", \"damage\", \"damage\", \"daughter\", \"daughter\", \"daughter\", \"day\", \"day\", \"day\", \"day\", \"day\", \"dead\", \"deal\", \"deal\", \"decent\", \"definitely\", \"definitely\", \"definitely\", \"definitely\", \"definitely\", \"definitely\", \"definitely\", \"deliver\", \"deliver\", \"deliver\", \"describe\", \"design\", \"design\", \"design\", \"device\", \"device\", \"device\", \"device\", \"die\", \"die\", \"die\", \"difference\", \"difference\", \"difference\", \"difference\", \"difference\", \"different\", \"different\", \"different\", \"different\", \"different\", \"different\", \"different\", \"disappoint\", \"disappoint\", \"disappoint\", \"disappoint\", \"disappoint\", \"display\", \"dollar\", \"dollar\", \"download\", \"drain\", \"drain\", \"drop\", \"drop\", \"drop\", \"drop\", \"durable\", \"durable\", \"duracell\", \"duracell\", \"e\", \"e\", \"ease\", \"ease\", \"ease\", \"ease\", \"easy\", \"easy\", \"easy\", \"electronic\", \"electronic\", \"electronic\", \"electronic\", \"electronic\", \"electronic\", \"email\", \"end\", \"end\", \"end\", \"end\", \"end\", \"end\", \"energizer\", \"energizer\", \"enjoy\", \"enjoy\", \"especially\", \"especially\", \"especially\", \"especially\", \"especially\", \"especially\", \"etc\", \"etc\", \"etc\", \"etc\", \"everyday\", \"exactly\", \"excellent\", \"expect\", \"expect\", \"expensive\", \"expensive\", \"expensive\", \"expensive\", \"expensive\", \"experience\", \"experience\", \"experience\", \"experience\", \"experience\", \"experience\", \"experience\", \"extra\", \"extra\", \"extra\", \"extra\", \"extremely\", \"extremely\", \"eye\", \"fact\", \"fact\", \"family\", \"family\", \"family\", \"fantastic\", \"fantastic\", \"fantastic\", \"fantastic\", \"fantastic\", \"fantastic\", \"fantastic\", \"far\", \"far\", \"far\", \"far\", \"far\", \"far\", \"far\", \"far\", \"fast\", \"fast\", \"fast\", \"fast\", \"fast\", \"fast\", \"faster\", \"faster\", \"favorite\", \"favorite\", \"favorite\", \"feature\", \"feature\", \"feature\", \"feel\", \"feel\", \"finally\", \"finally\", \"finally\", \"find\", \"find\", \"find\", \"find\", \"find\", \"find\", \"find\", \"find\", \"find\", \"fine\", \"fire\", \"fire\", \"fire\", \"fit\", \"fit\", \"fit\", \"fit\", \"flashlight\", \"fraction\", \"fraction\", \"free\", \"free\", \"free\", \"free\", \"free\", \"friend\", \"friend\", \"friend\", \"friend\", \"friendly\", \"friendly\", \"fun\", \"fun\", \"function\", \"function\", \"function\", \"game\", \"game\", \"game\", \"get\", \"get\", \"get\", \"get\", \"get\", \"get\", \"get\", \"get\", \"get\", \"gift\", \"give\", \"give\", \"give\", \"give\", \"give\", \"give\", \"give\", \"give\", \"glad\", \"glad\", \"glad\", \"glad\", \"go\", \"go\", \"go\", \"go\", \"go\", \"good\", \"grand\", \"grand\", \"grandchild\", \"grandkid\", \"grandson\", \"grandson\", \"great\", \"great\", \"great\", \"great\", \"great\", \"great\", \"great\", \"great\", \"half\", \"half\", \"half\", \"hand\", \"hand\", \"hand\", \"handle\", \"handle\", \"handy\", \"handy\", \"handy\", \"happy\", \"hard\", \"hard\", \"hard\", \"hard\", \"have\", \"have\", \"have\", \"have\", \"have\", \"have\", \"heavy\", \"heavy\", \"heavy\", \"heavy\", \"heavy\", \"help\", \"help\", \"help\", \"help\", \"help\", \"high\", \"high\", \"high\", \"high\", \"high\", \"high\", \"highly\", \"hold\", \"hold\", \"hold\", \"hold\", \"hold\", \"home\", \"home\", \"home\", \"home\", \"home\", \"hope\", \"hope\", \"hope\", \"hope\", \"huge\", \"huge\", \"huge\", \"huge\", \"husband\", \"husband\", \"iPad\", \"impressed\", \"impressed\", \"impressed\", \"impressed\", \"impressed\", \"inch\", \"include\", \"include\", \"include\", \"include\", \"include\", \"inexpensive\", \"inexpensive\", \"inexpensive\", \"inexpensive\", \"instal\", \"instal\", \"instal\", \"internet\", \"internet\", \"issue\", \"issue\", \"issue\", \"item\", \"item\", \"job\", \"keep\", \"keep\", \"keep\", \"keep\", \"kid\", \"kind\", \"kind\", \"kind\", \"kind\", \"kindle\", \"know\", \"know\", \"know\", \"know\", \"know\", \"know\", \"laptop\", \"large\", \"large\", \"last\", \"last\", \"lasting\", \"leak\", \"learn\", \"learn\", \"leave\", \"leave\", \"leave\", \"let\", \"let\", \"let\", \"let\", \"let\", \"library\", \"library\", \"life\", \"life\", \"light\", \"light\", \"light\", \"lightweight\", \"like\", \"like\", \"like\", \"like\", \"like\", \"like\", \"like\", \"like\", \"like\", \"like\", \"like\", \"like\", \"like\", \"limit\", \"limited\", \"limited\", \"limited\", \"listen\", \"little\", \"little\", \"little\", \"little\", \"little\", \"little\", \"little\", \"little\", \"live\", \"live\", \"load\", \"load\", \"lock\", \"lock\", \"long\", \"long\", \"longer\", \"longer\", \"longer\", \"look\", \"look\", \"look\", \"look\", \"look\", \"look\", \"look\", \"look\", \"lot\", \"lot\", \"lot\", \"lot\", \"lot\", \"lot\", \"lot\", \"lot\", \"love\", \"love\", \"love\", \"love\", \"love\", \"love\", \"love\", \"love\", \"low\", \"low\", \"low\", \"mainly\", \"mainly\", \"mainly\", \"mainly\", \"mainly\", \"major\", \"major\", \"make\", \"make\", \"make\", \"make\", \"make\", \"make\", \"make\", \"make\", \"make\", \"market\", \"market\", \"market\", \"maybe\", \"maybe\", \"mean\", \"mean\", \"mean\", \"medium\", \"medium\", \"meet\", \"member\", \"memory\", \"minute\", \"minute\", \"minute\", \"minute\", \"model\", \"model\", \"mom\", \"money\", \"money\", \"money\", \"money\", \"money\", \"money\", \"month\", \"month\", \"month\", \"mother\", \"mouse\", \"movie\", \"multiple\", \"multiple\", \"multiple\", \"multiple\", \"multiple\", \"multiple\", \"music\", \"need\", \"need\", \"need\", \"need\", \"need\", \"need\", \"need\", \"need\", \"nephew\", \"new\", \"new\", \"new\", \"nice\", \"nice\", \"nice\", \"nice\", \"niece\", \"night\", \"night\", \"night\", \"night\", \"not\", \"not\", \"not\", \"notice\", \"notice\", \"notice\", \"notice\", \"ok\", \"ok\", \"ok\", \"old\", \"one\", \"one\", \"one\", \"one\", \"one\", \"online\", \"online\", \"online\", \"online\", \"open\", \"open\", \"open\", \"open\", \"operate\", \"operate\", \"operate\", \"operate\", \"option\", \"option\", \"option\", \"option\", \"option\", \"option\", \"option\", \"order\", \"order\", \"order\", \"order\", \"original\", \"overall\", \"overall\", \"overall\", \"overall\", \"overall\", \"overall\", \"own\", \"pack\", \"package\", \"packaging\", \"packaging\", \"page\", \"parent\", \"parent\", \"past\", \"past\", \"past\", \"past\", \"past\", \"pay\", \"pay\", \"pay\", \"people\", \"perfect\", \"perfect\", \"perfect\", \"perfect\", \"perfectly\", \"perfectly\", \"perform\", \"perform\", \"performance\", \"performance\", \"phone\", \"photo\", \"photo\", \"photo\", \"pick\", \"pick\", \"pick\", \"pick\", \"pick\", \"picture\", \"plan\", \"plan\", \"plan\", \"plan\", \"plan\", \"plastic\", \"play\", \"play\", \"pleased\", \"pleased\", \"pleased\", \"pleased\", \"plenty\", \"plenty\", \"plenty\", \"plug\", \"plug\", \"plus\", \"plus\", \"plus\", \"point\", \"portable\", \"power\", \"power\", \"present\", \"pretty\", \"pretty\", \"pretty\", \"pretty\", \"pretty\", \"pretty\", \"pretty\", \"previous\", \"previous\", \"price\", \"price\", \"price\", \"price\", \"prime\", \"prime\", \"prime\", \"prime\", \"problem\", \"problem\", \"problem\", \"problem\", \"product\", \"product\", \"product\", \"product\", \"product\", \"profile\", \"program\", \"program\", \"protect\", \"protective\", \"provide\", \"provide\", \"provide\", \"provide\", \"purchase\", \"purchase\", \"purchase\", \"purchase\", \"purchase\", \"purchase\", \"purchase\", \"purchase\", \"purchase\", \"purchase\", \"purpose\", \"purpose\", \"quality\", \"quality\", \"quality\", \"quality\", \"question\", \"quick\", \"quickly\", \"quickly\", \"read\", \"read\", \"read\", \"reader\", \"reading\", \"real\", \"real\", \"real\", \"real\", \"real\", \"real\", \"real\", \"reasonable\", \"reasonable\", \"receive\", \"receive\", \"receive\", \"receive\", \"rechargeable\", \"recommend\", \"recommend\", \"recommend\", \"reliable\", \"reliable\", \"reliable\", \"reliable\", \"remote\", \"replace\", \"replace\", \"replace\", \"replacement\", \"replacement\", \"replacement\", \"resolution\", \"return\", \"return\", \"return\", \"review\", \"review\", \"review\", \"review\", \"review\", \"right\", \"right\", \"right\", \"right\", \"run\", \"run\", \"run\", \"run\", \"safe\", \"safe\", \"sale\", \"sale\", \"sale\", \"satisfied\", \"satisfied\", \"save\", \"save\", \"save\", \"save\", \"say\", \"say\", \"say\", \"school\", \"screen\", \"search\", \"second\", \"second\", \"see\", \"see\", \"see\", \"see\", \"see\", \"see\", \"sell\", \"sell\", \"service\", \"service\", \"service\", \"set\", \"set\", \"set\", \"set\", \"set\", \"set\", \"set\", \"set\", \"setting\", \"setup\", \"shipping\", \"shipping\", \"short\", \"short\", \"short\", \"show\", \"show\", \"show\", \"show\", \"show\", \"simple\", \"simple\", \"sister\", \"size\", \"slow\", \"small\", \"small\", \"small\", \"small\", \"solid\", \"solid\", \"solid\", \"son\", \"son\", \"son\", \"soon\", \"soon\", \"soon\", \"sound\", \"sound\", \"space\", \"space\", \"space\", \"space\", \"space\", \"speaker\", \"speed\", \"spend\", \"spend\", \"star\", \"star\", \"star\", \"star\", \"start\", \"start\", \"start\", \"start\", \"start\", \"start\", \"stay\", \"stay\", \"stay\", \"stay\", \"stop\", \"stop\", \"stop\", \"storage\", \"storage\", \"storage\", \"storage\", \"store\", \"store\", \"store\", \"store\", \"store\", \"store\", \"stream\", \"stuff\", \"stuff\", \"stuff\", \"stuff\", \"stuff\", \"stuff\", \"sturdy\", \"sturdy\", \"sturdy\", \"sturdy\", \"super\", \"super\", \"super\", \"super\", \"super\", \"sure\", \"sure\", \"sure\", \"sure\", \"sure\", \"sure\", \"sure\", \"sure\", \"sure\", \"surf\", \"surprised\", \"surprised\", \"surprised\", \"surprised\", \"system\", \"system\", \"system\", \"system\", \"table\", \"table\", \"table\", \"tablet\", \"take\", \"take\", \"take\", \"take\", \"take\", \"take\", \"take\", \"tap\", \"tech\", \"tech\", \"tech\", \"tell\", \"tell\", \"tell\", \"tell\", \"test\", \"thank\", \"thing\", \"thing\", \"thing\", \"thing\", \"thing\", \"thing\", \"thing\", \"thing\", \"think\", \"think\", \"think\", \"think\", \"think\", \"think\", \"time\", \"time\", \"time\", \"time\", \"time\", \"toddler\", \"toddler\", \"toddler\", \"toddler\", \"ton\", \"ton\", \"ton\", \"ton\", \"ton\", \"ton\", \"ton\", \"tool\", \"touch\", \"toy\", \"toy\", \"travel\", \"trip\", \"trip\", \"trip\", \"try\", \"try\", \"try\", \"try\", \"try\", \"turn\", \"turn\", \"tv\", \"tv\", \"understand\", \"unit\", \"unit\", \"unit\", \"unit\", \"unit\", \"update\", \"update\", \"upgrade\", \"use\", \"use\", \"use\", \"use\", \"use\", \"use\", \"use\", \"use\", \"useful\", \"useful\", \"useful\", \"user\", \"usually\", \"usually\", \"value\", \"value\", \"version\", \"version\", \"version\", \"version\", \"video\", \"video\", \"video\", \"wait\", \"wait\", \"wait\", \"wait\", \"wait\", \"wait\", \"wait\", \"want\", \"want\", \"want\", \"want\", \"want\", \"want\", \"want\", \"warranty\", \"warranty\", \"watch\", \"watch\", \"watch\", \"way\", \"way\", \"way\", \"way\", \"way\", \"way\", \"way\", \"way\", \"way\", \"web\", \"week\", \"week\", \"week\", \"weight\", \"well\", \"wife\", \"wife\", \"wifi\", \"will\", \"will\", \"will\", \"will\", \"wish\", \"wish\", \"wish\", \"wish\", \"wish\", \"wish\", \"wish\", \"wonderful\", \"wonderful\", \"wonderful\", \"wonderful\", \"wonderful\", \"work\", \"worry\", \"worry\", \"worry\", \"worth\", \"worth\", \"worth\", \"wrap\", \"wrong\", \"wrong\", \"wrong\", \"wrong\", \"year\", \"yes\", \"yes\", \"yes\", \"yes\", \"young\", \"young\", \"yr\"]}, \"R\": 30, \"lambda.step\": 0.01, \"plot.opts\": {\"xlab\": \"PC1\", \"ylab\": \"PC2\"}, \"topic.order\": [17, 11, 4, 7, 5, 12, 2, 14, 6, 1, 8, 15, 13, 16, 9, 10, 3]};\n",
       "\n",
       "function LDAvis_load_lib(url, callback){\n",
       "  var s = document.createElement('script');\n",
       "  s.src = url;\n",
       "  s.async = true;\n",
       "  s.onreadystatechange = s.onload = callback;\n",
       "  s.onerror = function(){console.warn(\"failed to load library \" + url);};\n",
       "  document.getElementsByTagName(\"head\")[0].appendChild(s);\n",
       "}\n",
       "\n",
       "if(typeof(LDAvis) !== \"undefined\"){\n",
       "   // already loaded: just create the visualization\n",
       "   !function(LDAvis){\n",
       "       new LDAvis(\"#\" + \"ldavis_el8446565007403362555736039\", ldavis_el8446565007403362555736039_data);\n",
       "   }(LDAvis);\n",
       "}else if(typeof define === \"function\" && define.amd){\n",
       "   // require.js is available: use it to load d3/LDAvis\n",
       "   require.config({paths: {d3: \"https://cdnjs.cloudflare.com/ajax/libs/d3/3.5.5/d3.min\"}});\n",
       "   require([\"d3\"], function(d3){\n",
       "      window.d3 = d3;\n",
       "      LDAvis_load_lib(\"https://cdn.rawgit.com/bmabey/pyLDAvis/files/ldavis.v1.0.0.js\", function(){\n",
       "        new LDAvis(\"#\" + \"ldavis_el8446565007403362555736039\", ldavis_el8446565007403362555736039_data);\n",
       "      });\n",
       "    });\n",
       "}else{\n",
       "    // require.js not available: dynamically load d3 & LDAvis\n",
       "    LDAvis_load_lib(\"https://cdnjs.cloudflare.com/ajax/libs/d3/3.5.5/d3.min.js\", function(){\n",
       "         LDAvis_load_lib(\"https://cdn.rawgit.com/bmabey/pyLDAvis/files/ldavis.v1.0.0.js\", function(){\n",
       "                 new LDAvis(\"#\" + \"ldavis_el8446565007403362555736039\", ldavis_el8446565007403362555736039_data);\n",
       "            })\n",
       "         });\n",
       "}\n",
       "</script>"
      ],
      "text/plain": [
       "PreparedData(topic_coordinates=              x         y  topics  cluster       Freq\n",
       "topic                                                \n",
       "16    -0.094611 -0.244140  1       1        12.952985\n",
       "10     0.038311 -0.207546  2       1        7.966964 \n",
       "3     -0.063515  0.129189  3       1        7.763289 \n",
       "6      0.008397 -0.076388  4       1        7.396234 \n",
       "4     -0.093903 -0.147526  5       1        7.087670 \n",
       "11    -0.186508  0.162316  6       1        6.830753 \n",
       "1     -0.084846 -0.135077  7       1        5.853786 \n",
       "13    -0.103851 -0.130219  8       1        5.397281 \n",
       "5     -0.097195  0.078245  9       1        5.177578 \n",
       "0     -0.175007  0.194843  10      1        5.029417 \n",
       "7      0.318378  0.043902  11      1        5.018942 \n",
       "14     0.359201  0.083168  12      1        4.944059 \n",
       "12    -0.129822  0.122710  13      1        4.554029 \n",
       "15     0.161859 -0.144311  14      1        4.485343 \n",
       "8      0.235190  0.101935  15      1        3.670147 \n",
       "9     -0.076855 -0.014172  16      1        3.247280 \n",
       "2     -0.015223  0.183073  17      1        2.624246 , topic_info=        Term         Freq        Total Category  logprob  loglift\n",
       "27   good     6943.000000  6943.000000  Default  30.0000  30.0000\n",
       "17   great    9369.000000  9369.000000  Default  29.0000  29.0000\n",
       "454  tablet   7405.000000  7405.000000  Default  28.0000  28.0000\n",
       "2    battery  9366.000000  9366.000000  Default  27.0000  27.0000\n",
       "6    work     4595.000000  4595.000000  Default  26.0000  26.0000\n",
       "..    ...             ...          ...      ...      ...      ...\n",
       "483  hd       0.060883     0.981128     Topic17 -11.6248  0.8606 \n",
       "359  wish     18.154041    295.751892   Topic17 -5.9271   0.8497 \n",
       "68   love     300.089996   6340.546875  Topic17 -3.1219   0.5897 \n",
       "203  storage  20.087980    381.233490   Topic17 -5.8259   0.6971 \n",
       "185  option   17.696032    341.641876   Topic17 -5.9527   0.6800 \n",
       "\n",
       "[703 rows x 6 columns], token_table=      Topic      Freq   Term\n",
       "term                        \n",
       "205   1      0.299267  1    \n",
       "205   6      0.626842  1    \n",
       "205   8      0.072795  1    \n",
       "132   1      0.214771  10   \n",
       "132   6      0.648016  10   \n",
       "...  ..           ...  ..   \n",
       "279   6      0.026991  yes  \n",
       "279   13     0.386867  yes  \n",
       "346   3      0.973898  young\n",
       "346   5      0.023374  young\n",
       "378   9      0.994742  yr   \n",
       "\n",
       "[1347 rows x 3 columns], R=30, lambda_step=0.01, plot_opts={'xlab': 'PC1', 'ylab': 'PC2'}, topic_order=[17, 11, 4, 7, 5, 12, 2, 14, 6, 1, 8, 15, 13, 16, 9, 10, 3])"
      ]
     },
     "execution_count": 90,
     "metadata": {},
     "output_type": "execute_result"
    }
   ],
   "source": [
    "# Create visualization\n",
    "pyLDAvis.gensim.prepare(lda, corpora, id2word)"
   ]
  },
  {
   "cell_type": "markdown",
   "metadata": {},
   "source": [
    "#### Create table of the distribution of topic in each document in corpus"
   ]
  },
  {
   "cell_type": "code",
   "execution_count": 91,
   "metadata": {},
   "outputs": [],
   "source": [
    "# create a list of distibutions of topics in for each document\n",
    "distro = [lda[d] for d in corpora]"
   ]
  },
  {
   "cell_type": "code",
   "execution_count": 92,
   "metadata": {},
   "outputs": [],
   "source": [
    "# Create function that adds zeros to topics that don't appear in the document, allows you to fill out df\n",
    "\n",
    "def update(doc):\n",
    "        d_dist = {k:0 for k in range(0,15)}\n",
    "        for t in doc:\n",
    "            d_dist[t[0]] = t[1]\n",
    "        return d_dist\n",
    "    \n",
    "new_distro = [update(d) for d in distro]"
   ]
  },
  {
   "cell_type": "code",
   "execution_count": 93,
   "metadata": {},
   "outputs": [],
   "source": [
    "# Convert above output to readable pandas df\n",
    "doc_topics = pd.DataFrame.from_records(new_distro)\n",
    "\n",
    "# Use the labels we created for the topics by using the first 5 words\n",
    "doc_topics.columns = topics"
   ]
  },
  {
   "cell_type": "code",
   "execution_count": 94,
   "metadata": {},
   "outputs": [
    {
     "data": {
      "text/html": [
       "<div>\n",
       "<style scoped>\n",
       "    .dataframe tbody tr th:only-of-type {\n",
       "        vertical-align: middle;\n",
       "    }\n",
       "\n",
       "    .dataframe tbody tr th {\n",
       "        vertical-align: top;\n",
       "    }\n",
       "\n",
       "    .dataframe thead th {\n",
       "        text-align: right;\n",
       "    }\n",
       "</style>\n",
       "<table border=\"1\" class=\"dataframe\">\n",
       "  <thead>\n",
       "    <tr style=\"text-align: right;\">\n",
       "      <th></th>\n",
       "      <th>use easy love gift purchase</th>\n",
       "      <th>light reader music use reading</th>\n",
       "      <th>kindle excellent new phone upgrade</th>\n",
       "      <th>kid game play love great</th>\n",
       "      <th>Kindle Fire charge Amazon new</th>\n",
       "      <th>screen size nice perfect feature</th>\n",
       "      <th>tablet great use Amazon video</th>\n",
       "      <th>good recommend price quality product</th>\n",
       "      <th>work great fine expect problem</th>\n",
       "      <th>case learn get grandson pay</th>\n",
       "      <th>battery long brand life buy</th>\n",
       "      <th>old year love buy 2</th>\n",
       "      <th>buy love happy time daughter</th>\n",
       "      <th>book read app fire need</th>\n",
       "      <th>great price product value fast</th>\n",
       "      <th>price well beat worth low</th>\n",
       "      <th>battery Amazon use buy iPad</th>\n",
       "    </tr>\n",
       "  </thead>\n",
       "  <tbody>\n",
       "    <tr>\n",
       "      <th>0</th>\n",
       "      <td>0.000000</td>\n",
       "      <td>0.000000</td>\n",
       "      <td>0.000000</td>\n",
       "      <td>0.000000</td>\n",
       "      <td>0.000000</td>\n",
       "      <td>0.000000</td>\n",
       "      <td>0.000000</td>\n",
       "      <td>0.000000</td>\n",
       "      <td>0.136027</td>\n",
       "      <td>0.000000</td>\n",
       "      <td>0.000000</td>\n",
       "      <td>0.000000</td>\n",
       "      <td>0.00000</td>\n",
       "      <td>0.000000</td>\n",
       "      <td>0.000000</td>\n",
       "      <td>0.753677</td>\n",
       "      <td>NaN</td>\n",
       "    </tr>\n",
       "    <tr>\n",
       "      <th>1</th>\n",
       "      <td>0.000000</td>\n",
       "      <td>0.000000</td>\n",
       "      <td>0.000000</td>\n",
       "      <td>0.000000</td>\n",
       "      <td>0.000000</td>\n",
       "      <td>0.000000</td>\n",
       "      <td>0.000000</td>\n",
       "      <td>0.000000</td>\n",
       "      <td>0.000000</td>\n",
       "      <td>0.000000</td>\n",
       "      <td>0.676465</td>\n",
       "      <td>0.000000</td>\n",
       "      <td>0.00000</td>\n",
       "      <td>0.000000</td>\n",
       "      <td>0.176473</td>\n",
       "      <td>NaN</td>\n",
       "      <td>NaN</td>\n",
       "    </tr>\n",
       "    <tr>\n",
       "      <th>2</th>\n",
       "      <td>0.014706</td>\n",
       "      <td>0.014706</td>\n",
       "      <td>0.014706</td>\n",
       "      <td>0.014706</td>\n",
       "      <td>0.014706</td>\n",
       "      <td>0.014706</td>\n",
       "      <td>0.014706</td>\n",
       "      <td>0.014706</td>\n",
       "      <td>0.014706</td>\n",
       "      <td>0.014706</td>\n",
       "      <td>0.014706</td>\n",
       "      <td>0.014706</td>\n",
       "      <td>0.26471</td>\n",
       "      <td>0.014706</td>\n",
       "      <td>0.264711</td>\n",
       "      <td>0.264692</td>\n",
       "      <td>0.014706</td>\n",
       "    </tr>\n",
       "    <tr>\n",
       "      <th>3</th>\n",
       "      <td>0.000000</td>\n",
       "      <td>0.000000</td>\n",
       "      <td>0.000000</td>\n",
       "      <td>0.000000</td>\n",
       "      <td>0.000000</td>\n",
       "      <td>0.000000</td>\n",
       "      <td>0.000000</td>\n",
       "      <td>0.000000</td>\n",
       "      <td>0.176471</td>\n",
       "      <td>0.000000</td>\n",
       "      <td>0.373772</td>\n",
       "      <td>0.000000</td>\n",
       "      <td>0.00000</td>\n",
       "      <td>0.000000</td>\n",
       "      <td>0.000000</td>\n",
       "      <td>NaN</td>\n",
       "      <td>0.312503</td>\n",
       "    </tr>\n",
       "    <tr>\n",
       "      <th>4</th>\n",
       "      <td>0.000000</td>\n",
       "      <td>0.000000</td>\n",
       "      <td>0.000000</td>\n",
       "      <td>0.000000</td>\n",
       "      <td>0.000000</td>\n",
       "      <td>0.000000</td>\n",
       "      <td>0.000000</td>\n",
       "      <td>0.000000</td>\n",
       "      <td>0.000000</td>\n",
       "      <td>0.000000</td>\n",
       "      <td>0.551720</td>\n",
       "      <td>0.000000</td>\n",
       "      <td>0.00000</td>\n",
       "      <td>0.000000</td>\n",
       "      <td>0.301221</td>\n",
       "      <td>NaN</td>\n",
       "      <td>NaN</td>\n",
       "    </tr>\n",
       "  </tbody>\n",
       "</table>\n",
       "</div>"
      ],
      "text/plain": [
       "   use easy love gift purchase  light reader music use reading  \\\n",
       "0  0.000000                     0.000000                         \n",
       "1  0.000000                     0.000000                         \n",
       "2  0.014706                     0.014706                         \n",
       "3  0.000000                     0.000000                         \n",
       "4  0.000000                     0.000000                         \n",
       "\n",
       "   kindle excellent new phone upgrade  kid game play love great  \\\n",
       "0  0.000000                            0.000000                   \n",
       "1  0.000000                            0.000000                   \n",
       "2  0.014706                            0.014706                   \n",
       "3  0.000000                            0.000000                   \n",
       "4  0.000000                            0.000000                   \n",
       "\n",
       "   Kindle Fire charge Amazon new  screen size nice perfect feature  \\\n",
       "0  0.000000                       0.000000                           \n",
       "1  0.000000                       0.000000                           \n",
       "2  0.014706                       0.014706                           \n",
       "3  0.000000                       0.000000                           \n",
       "4  0.000000                       0.000000                           \n",
       "\n",
       "   tablet great use Amazon video  good recommend price quality product  \\\n",
       "0  0.000000                       0.000000                               \n",
       "1  0.000000                       0.000000                               \n",
       "2  0.014706                       0.014706                               \n",
       "3  0.000000                       0.000000                               \n",
       "4  0.000000                       0.000000                               \n",
       "\n",
       "   work great fine expect problem  case learn get grandson pay  \\\n",
       "0  0.136027                        0.000000                      \n",
       "1  0.000000                        0.000000                      \n",
       "2  0.014706                        0.014706                      \n",
       "3  0.176471                        0.000000                      \n",
       "4  0.000000                        0.000000                      \n",
       "\n",
       "   battery long brand life buy  old year love buy 2  \\\n",
       "0  0.000000                     0.000000              \n",
       "1  0.676465                     0.000000              \n",
       "2  0.014706                     0.014706              \n",
       "3  0.373772                     0.000000              \n",
       "4  0.551720                     0.000000              \n",
       "\n",
       "   buy love happy time daughter  book read app fire need  \\\n",
       "0  0.00000                       0.000000                  \n",
       "1  0.00000                       0.000000                  \n",
       "2  0.26471                       0.014706                  \n",
       "3  0.00000                       0.000000                  \n",
       "4  0.00000                       0.000000                  \n",
       "\n",
       "   great price product value fast  price well beat worth low  \\\n",
       "0  0.000000                        0.753677                    \n",
       "1  0.176473                       NaN                          \n",
       "2  0.264711                        0.264692                    \n",
       "3  0.000000                       NaN                          \n",
       "4  0.301221                       NaN                          \n",
       "\n",
       "   battery Amazon use buy iPad  \n",
       "0 NaN                           \n",
       "1 NaN                           \n",
       "2  0.014706                     \n",
       "3  0.312503                     \n",
       "4 NaN                           "
      ]
     },
     "execution_count": 94,
     "metadata": {},
     "output_type": "execute_result"
    }
   ],
   "source": [
    "# Look at the resulting df\n",
    "doc_topics.head()"
   ]
  },
  {
   "cell_type": "code",
   "execution_count": 95,
   "metadata": {},
   "outputs": [],
   "source": [
    "# Add a column that tells us the primary topic of each review\n",
    "\n",
    "doc_topics['primary_topic'] = doc_topics.idxmax(axis=1)"
   ]
  },
  {
   "cell_type": "markdown",
   "metadata": {},
   "source": [
    "#### From here you can do a bunch of data exploration as usual to answer any questions"
   ]
  },
  {
   "cell_type": "code",
   "execution_count": 96,
   "metadata": {},
   "outputs": [
    {
     "data": {
      "text/plain": [
       "battery long brand life buy             3630\n",
       "price well beat worth low               3228\n",
       "kid game play love great                2310\n",
       "great price product value fast          2121\n",
       "good recommend price quality product    2053\n",
       "use easy love gift purchase             1993\n",
       "old year love buy 2                     1892\n",
       "tablet great use Amazon video           1735\n",
       "Kindle Fire charge Amazon new           1443\n",
       "buy love happy time daughter            1311\n",
       "work great fine expect problem          1256\n",
       "light reader music use reading          1256\n",
       "screen size nice perfect feature        1182\n",
       "book read app fire need                 1181\n",
       "battery Amazon use buy iPad             1013\n",
       "case learn get grandson pay             408 \n",
       "kindle excellent new phone upgrade      320 \n",
       "Name: primary_topic, dtype: int64"
      ]
     },
     "execution_count": 96,
     "metadata": {},
     "output_type": "execute_result"
    }
   ],
   "source": [
    "# What are the most popular topics?\n",
    "doc_topics['primary_topic'].value_counts()"
   ]
  },
  {
   "cell_type": "code",
   "execution_count": null,
   "metadata": {},
   "outputs": [],
   "source": []
  },
  {
   "cell_type": "markdown",
   "metadata": {},
   "source": [
    "### Selecting the Number of Topics\n",
    "- Will implement in model above"
   ]
  },
  {
   "cell_type": "code",
   "execution_count": 64,
   "metadata": {},
   "outputs": [],
   "source": [
    "# Create a function that iterates and splits the dictionary into up to as many topics as you limit it to\n",
    "# Then it will calculate how coherent (accurately it covers/ divides the dictionary) each split is\n",
    "\n",
    "# The first few splits will have the highest coherence, but that doesn't help us because it is only spliting\n",
    "# the dictionary into a few topics.\n",
    "\n",
    "\n",
    "from gensim.models.coherencemodel import CoherenceModel\n",
    "\n",
    "def compute_coherence_values(dictionary, corpus, limit, start=2, step=3, passes=5):\n",
    "    \"\"\"\n",
    "    Compute u_mass coherence for various number of topics\n",
    "\n",
    "    Parameters:\n",
    "    ----------\n",
    "    dictionary : Gensim dictionary\n",
    "    corpus : Gensim corpus\n",
    "    limit : Max num of topics\n",
    "    passes: the number of times the entire lda model & coherence values are calculated\n",
    "\n",
    "    Returns:\n",
    "    -------\n",
    "    coherence_values : Coherence values corresponding to the LDA model with respective number of topics\n",
    "    \"\"\"\n",
    "    \n",
    "    coherence_values = []\n",
    "    \n",
    "    for iter_ in range(passes):\n",
    "        for num_topics in range(start, limit, step):\n",
    "            model = LdaMulticore(corpus=corpus, num_topics=num_topics, id2word=dictionary, workers=12)\n",
    "            coherencemodel = CoherenceModel(model=model,dictionary=dictionary,corpus=corpus, coherence='u_mass')\n",
    "            coherence_values.append({'pass': iter_, \n",
    "                                     'num_topics': num_topics, \n",
    "                                     'coherence_score': coherencemodel.get_coherence()\n",
    "                                    })\n",
    "\n",
    "    return coherence_values"
   ]
  },
  {
   "cell_type": "code",
   "execution_count": 65,
   "metadata": {},
   "outputs": [],
   "source": [
    "### Can take a long time to run.\n",
    "\n",
    "# Calculate the coherence values for each number of topics up to n topics\n",
    "\n",
    "coherence_values = compute_coherence_values(dictionary=id2word, \n",
    "                                                        corpus=corpora,\n",
    "                                                        start=3, \n",
    "                                                        limit=40, \n",
    "                                                        step=2,\n",
    "                                                        passes=1)"
   ]
  },
  {
   "cell_type": "code",
   "execution_count": 66,
   "metadata": {},
   "outputs": [],
   "source": [
    "# Convert it to a pandas df, you can look at the df but it won't tell you much\n",
    "topic_coherence = pd.DataFrame.from_records(coherence_values)"
   ]
  },
  {
   "cell_type": "code",
   "execution_count": 67,
   "metadata": {},
   "outputs": [
    {
     "data": {
      "image/png": "[encoded data removed]",
      "text/plain": [
       "<Figure size 432x288 with 1 Axes>"
      ]
     },
     "metadata": {
      "needs_background": "light"
     },
     "output_type": "display_data"
    }
   ],
   "source": [
    "# Create visualization that shows the coherence for each split\n",
    "\n",
    "import seaborn as sns\n",
    " \n",
    "ax = sns.lineplot(x=\"num_topics\", y=\"coherence_score\", data=topic_coherence)"
   ]
  },
  {
   "cell_type": "markdown",
   "metadata": {},
   "source": [
    "##### Based on the graph above, it would be best to split the dictionary into ~17 topics\n",
    "- max number of topics this dictionary can be split into is 20 "
   ]
  },
  {
   "cell_type": "markdown",
   "metadata": {},
   "source": [
    "### Questions to answer from the processed data\n",
    "- "
   ]
  },
  {
   "cell_type": "code",
   "execution_count": null,
   "metadata": {},
   "outputs": [],
   "source": []
  },
  {
   "cell_type": "code",
   "execution_count": null,
   "metadata": {},
   "outputs": [],
   "source": []
  },
  {
   "cell_type": "code",
   "execution_count": null,
   "metadata": {},
   "outputs": [],
   "source": []
  },
  {
   "cell_type": "code",
   "execution_count": null,
   "metadata": {},
   "outputs": [],
   "source": []
  },
  {
   "cell_type": "code",
   "execution_count": null,
   "metadata": {},
   "outputs": [],
   "source": []
  },
  {
   "cell_type": "code",
   "execution_count": null,
   "metadata": {},
   "outputs": [],
   "source": []
  },
  {
   "cell_type": "code",
   "execution_count": null,
   "metadata": {},
   "outputs": [],
   "source": []
  },
  {
   "cell_type": "markdown",
   "metadata": {},
   "source": [
    "## Stretch Goals\n",
    "\n",
    "* Incorporate Named Entity Recognition in your analysis\n",
    "* Incorporate some custom pre-processing from our previous lessons (like spacy lemmatization)\n",
    "* Analyze a dataset of interest to you with topic modeling"
   ]
  },
  {
   "cell_type": "code",
   "execution_count": null,
   "metadata": {},
   "outputs": [],
   "source": []
  }
 ],
 "metadata": {
  "kernelspec": {
   "display_name": "U4-S1-NLP (Python3)",
   "language": "python",
   "name": "u4-s1-nlp"
  },
  "language_info": {
   "codemirror_mode": {
    "name": "ipython",
    "version": 3
   },
   "file_extension": ".py",
   "mimetype": "text/x-python",
   "name": "python",
   "nbconvert_exporter": "python",
   "pygments_lexer": "ipython3",
   "version": "3.7.0"
  }
 },
 "nbformat": 4,
 "nbformat_minor": 4
}
